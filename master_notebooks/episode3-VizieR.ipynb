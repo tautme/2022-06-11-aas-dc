{
 "cells": [
  {
   "cell_type": "markdown",
   "id": "166074d2",
   "metadata": {},
   "source": [
    "# Episode 3: Plotting and Tabular Data"
   ]
  },
  {
   "cell_type": "markdown",
   "id": "9d916352",
   "metadata": {},
   "source": [
    "## Selecting rows and columns"
   ]
  },
  {
   "cell_type": "code",
   "execution_count": 91,
   "id": "0d1c294e",
   "metadata": {},
   "outputs": [
    {
     "name": "stdout",
     "output_type": "stream",
     "text": [
      "<Table length=140339>\n",
      "   name    dtype    unit                                       description                                    \n",
      "--------- ------- -------- -----------------------------------------------------------------------------------\n",
      "source_id   int64          Unique source identifier (unique within a particular Data Release) (source_id) (G2)\n",
      "       ra float64      deg                                Barycentric right ascension (ICRS) at Ep=2015.5 (ra)\n",
      "      dec float64      deg                                   Barycentric declination (ICRS) at Ep=2015.5 (dec)\n",
      "     pmra float64 mas / yr                ? Proper motion in right ascension direction (pmRA*cosDE) (pmra) (3)\n",
      "    pmdec float64 mas / yr                                ? Proper motion in declination direction (pmdec) (4)\n",
      " parallax float64      mas                                              ? Absolute stellar parallax (parallax)\n"
     ]
    }
   ],
   "source": [
    "polygon_results.info()"
   ]
  },
  {
   "cell_type": "code",
   "execution_count": 92,
   "id": "5f83a6cb",
   "metadata": {},
   "outputs": [
    {
     "data": {
      "text/plain": [
       "['source_id', 'ra', 'dec', 'pmra', 'pmdec', 'parallax']"
      ]
     },
     "execution_count": 92,
     "metadata": {},
     "output_type": "execute_result"
    }
   ],
   "source": [
    "polygon_results.colnames"
   ]
  },
  {
   "cell_type": "markdown",
   "id": "0106d0f3",
   "metadata": {},
   "source": [
    "Select a column "
   ]
  },
  {
   "cell_type": "code",
   "execution_count": 93,
   "id": "847bd234",
   "metadata": {},
   "outputs": [
    {
     "data": {
      "text/html": [
       "&lt;MaskedColumn name=&apos;ra&apos; dtype=&apos;float64&apos; unit=&apos;deg&apos; description=&apos;Barycentric right ascension (ICRS) at Ep=2015.5 (ra)&apos; length=140339&gt;\n",
       "<table>\n",
       "<tr><td>146.25027906702</td></tr>\n",
       "<tr><td>146.32228572922</td></tr>\n",
       "<tr><td>146.31743441943</td></tr>\n",
       "<tr><td>146.21614836191</td></tr>\n",
       "<tr><td>146.20333869328</td></tr>\n",
       "<tr><td>146.20137461153</td></tr>\n",
       "<tr><td>146.14573420631</td></tr>\n",
       "<tr><td>146.16288826603</td></tr>\n",
       "<tr><td>146.27155869065</td></tr>\n",
       "<tr><td>...</td></tr>\n",
       "<tr><td>142.66090606952</td></tr>\n",
       "<tr><td>142.56224872482</td></tr>\n",
       "<tr><td>142.5766911885</td></tr>\n",
       "<tr><td>142.56109022974</td></tr>\n",
       "<tr><td>142.58587073269</td></tr>\n",
       "<tr><td>142.45318179128</td></tr>\n",
       "<tr><td>142.41170541957</td></tr>\n",
       "<tr><td>142.41363143229</td></tr>\n",
       "</table>"
      ],
      "text/plain": [
       "<MaskedColumn name='ra' dtype='float64' unit='deg' description='Barycentric right ascension (ICRS) at Ep=2015.5 (ra)' length=140339>\n",
       "146.25027906702\n",
       "146.32228572922\n",
       "146.31743441943\n",
       "146.21614836191\n",
       "146.20333869328\n",
       "146.20137461153\n",
       "146.14573420631\n",
       "146.16288826603\n",
       "146.27155869065\n",
       "            ...\n",
       "142.66090606952\n",
       "142.56224872482\n",
       " 142.5766911885\n",
       "142.56109022974\n",
       "142.58587073269\n",
       "142.45318179128\n",
       "142.41170541957\n",
       "142.41363143229"
      ]
     },
     "execution_count": 93,
     "metadata": {},
     "output_type": "execute_result"
    }
   ],
   "source": [
    "polygon_results['ra']"
   ]
  },
  {
   "cell_type": "code",
   "execution_count": 94,
   "id": "c46bfc69",
   "metadata": {},
   "outputs": [
    {
     "data": {
      "text/plain": [
       "astropy.table.column.MaskedColumn"
      ]
     },
     "execution_count": 94,
     "metadata": {},
     "output_type": "execute_result"
    }
   ],
   "source": [
    "type(polygon_results['ra'])"
   ]
  },
  {
   "cell_type": "markdown",
   "id": "853dd80d",
   "metadata": {},
   "source": [
    "Select a row"
   ]
  },
  {
   "cell_type": "code",
   "execution_count": 95,
   "id": "5f121688",
   "metadata": {},
   "outputs": [
    {
     "data": {
      "text/html": [
       "<i>Row index=0</i>\n",
       "<table id=\"table5106937616\">\n",
       "<thead><tr><th>source_id</th><th>ra</th><th>dec</th><th>pmra</th><th>pmdec</th><th>parallax</th></tr></thead>\n",
       "<thead><tr><th></th><th>deg</th><th>deg</th><th>mas / yr</th><th>mas / yr</th><th>mas</th></tr></thead>\n",
       "<thead><tr><th>int64</th><th>float64</th><th>float64</th><th>float64</th><th>float64</th><th>float64</th></tr></thead>\n",
       "<tr><td>621490014069058944</td><td>146.25027906702</td><td>19.28661719637</td><td>1.247</td><td>-7.877</td><td>-0.3693</td></tr>\n",
       "</table>"
      ],
      "text/plain": [
       "<Row index=0>\n",
       "    source_id             ra            dec         pmra    pmdec   parallax\n",
       "                         deg            deg       mas / yr mas / yr   mas   \n",
       "      int64            float64        float64     float64  float64  float64 \n",
       "------------------ --------------- -------------- -------- -------- --------\n",
       "621490014069058944 146.25027906702 19.28661719637    1.247   -7.877  -0.3693"
      ]
     },
     "execution_count": 95,
     "metadata": {},
     "output_type": "execute_result"
    }
   ],
   "source": [
    "polygon_results[0]"
   ]
  },
  {
   "cell_type": "code",
   "execution_count": 96,
   "id": "3b6f16fe",
   "metadata": {},
   "outputs": [
    {
     "data": {
      "text/plain": [
       "astropy.table.row.Row"
      ]
     },
     "execution_count": 96,
     "metadata": {},
     "output_type": "execute_result"
    }
   ],
   "source": [
    "type(polygon_results[0])"
   ]
  },
  {
   "cell_type": "markdown",
   "id": "673dedc6",
   "metadata": {},
   "source": [
    "Order doesn't matter when selecting an individual entry"
   ]
  },
  {
   "cell_type": "code",
   "execution_count": 97,
   "id": "748c5344",
   "metadata": {},
   "outputs": [
    {
     "data": {
      "text/plain": [
       "146.25027906702"
      ]
     },
     "execution_count": 97,
     "metadata": {},
     "output_type": "execute_result"
    }
   ],
   "source": [
    "polygon_results['ra'][0]"
   ]
  },
  {
   "cell_type": "markdown",
   "id": "1189b772",
   "metadata": {},
   "source": [
    "## Scatter Plot"
   ]
  },
  {
   "cell_type": "code",
   "execution_count": 98,
   "id": "427f856a",
   "metadata": {},
   "outputs": [],
   "source": [
    "import matplotlib.pyplot as plt"
   ]
  },
  {
   "cell_type": "code",
   "execution_count": 99,
   "id": "1bcc15a3",
   "metadata": {},
   "outputs": [],
   "source": [
    "%matplotlib inline"
   ]
  },
  {
   "cell_type": "code",
   "execution_count": 100,
   "id": "9b9a2d96",
   "metadata": {},
   "outputs": [
    {
     "data": {
      "text/plain": [
       "Text(0, 0.5, 'dec (degree ICRS)')"
      ]
     },
     "execution_count": 100,
     "metadata": {},
     "output_type": "execute_result"
    },
    {
     "data": {
      "image/png": "[encoded data removed]",
      "text/plain": [
       "<Figure size 432x288 with 1 Axes>"
      ]
     },
     "metadata": {
      "needs_background": "light"
     },
     "output_type": "display_data"
    }
   ],
   "source": [
    "x = polygon_results['ra']\n",
    "y = polygon_results['dec']\n",
    "plt.plot(x, y, 'ko')\n",
    "\n",
    "plt.xlabel('ra (degree ICRS)')\n",
    "plt.ylabel('dec (degree ICRS)')"
   ]
  },
  {
   "cell_type": "markdown",
   "id": "3c9a5614",
   "metadata": {},
   "source": [
    "### Plot vs Scatter\n",
    "* scatter: more customizable (e.g. color by a third column)\n",
    "* plot: faster and more basic"
   ]
  },
  {
   "cell_type": "markdown",
   "id": "95561603",
   "metadata": {},
   "source": [
    "### Exercise: \n",
    "In the call to `plt.plot`, use the keyword argument `markersize` to make the markers smaller.\n",
    "Then add the keyword argument `alpha` to make the markers partly transparent.\n",
    "Adjust these arguments until you think the figure shows the data most clearly."
   ]
  },
  {
   "cell_type": "markdown",
   "id": "1bd668c2",
   "metadata": {},
   "source": [
    "Note: Once you have made these changes, you might notice that the figure shows stripes with lower density of stars. These stripes are caused by the way Gaia scans the sky, which you can read about here. The dataset we are using, Gaia Data Release 2, covers 22 months of observations; during this time, some parts of the sky were scanned more than others."
   ]
  },
  {
   "cell_type": "code",
   "execution_count": 19,
   "id": "5ae7c248",
   "metadata": {},
   "outputs": [
    {
     "ename": "NameError",
     "evalue": "name 'polygon_results' is not defined",
     "output_type": "error",
     "traceback": [
      "\u001b[0;31m---------------------------------------------------------------------------\u001b[0m",
      "\u001b[0;31mNameError\u001b[0m                                 Traceback (most recent call last)",
      "\u001b[0;32m/var/folders/cc/mq9wmn5j0ys2frsvjcw4m4hw0000gn/T/ipykernel_18398/2008747504.py\u001b[0m in \u001b[0;36m<module>\u001b[0;34m\u001b[0m\n\u001b[1;32m      1\u001b[0m \u001b[0;31m# Solution\u001b[0m\u001b[0;34m\u001b[0m\u001b[0;34m\u001b[0m\u001b[0;34m\u001b[0m\u001b[0m\n\u001b[0;32m----> 2\u001b[0;31m \u001b[0mx\u001b[0m \u001b[0;34m=\u001b[0m \u001b[0mpolygon_results\u001b[0m\u001b[0;34m[\u001b[0m\u001b[0;34m'ra'\u001b[0m\u001b[0;34m]\u001b[0m\u001b[0;34m\u001b[0m\u001b[0;34m\u001b[0m\u001b[0m\n\u001b[0m\u001b[1;32m      3\u001b[0m \u001b[0my\u001b[0m \u001b[0;34m=\u001b[0m \u001b[0mpolygon_results\u001b[0m\u001b[0;34m[\u001b[0m\u001b[0;34m'dec'\u001b[0m\u001b[0;34m]\u001b[0m\u001b[0;34m\u001b[0m\u001b[0;34m\u001b[0m\u001b[0m\n\u001b[1;32m      4\u001b[0m \u001b[0mplt\u001b[0m\u001b[0;34m.\u001b[0m\u001b[0mplot\u001b[0m\u001b[0;34m(\u001b[0m\u001b[0mx\u001b[0m\u001b[0;34m,\u001b[0m \u001b[0my\u001b[0m\u001b[0;34m,\u001b[0m \u001b[0;34m'ko'\u001b[0m\u001b[0;34m,\u001b[0m \u001b[0mmarkersize\u001b[0m\u001b[0;34m=\u001b[0m\u001b[0;36m0.1\u001b[0m\u001b[0;34m,\u001b[0m \u001b[0malpha\u001b[0m\u001b[0;34m=\u001b[0m\u001b[0;36m0.1\u001b[0m\u001b[0;34m)\u001b[0m\u001b[0;34m\u001b[0m\u001b[0;34m\u001b[0m\u001b[0m\n\u001b[1;32m      5\u001b[0m \u001b[0;34m\u001b[0m\u001b[0m\n",
      "\u001b[0;31mNameError\u001b[0m: name 'polygon_results' is not defined"
     ]
    }
   ],
   "source": [
    "# Solution\n",
    "x = polygon_results['ra']\n",
    "y = polygon_results['dec']\n",
    "plt.plot(x, y, 'ko', markersize=0.1, alpha=0.1)\n",
    "\n",
    "plt.xlabel('ra (degree ICRS)')\n",
    "plt.ylabel('dec (degree ICRS)')"
   ]
  },
  {
   "cell_type": "markdown",
   "id": "82fda637",
   "metadata": {},
   "source": [
    "## Transform Back to the GD1 frame\n",
    "\n",
    "stars we selected in ICRS frame from the Gaia database\n",
    "\n",
    "2 goals:\n",
    "* in GD1 space it is easy to cut a rectangle around GD1 (and not some other weird shape)\n",
    "* Expect coherent proper motion from stars in GD1 (in phi1 direction, 0 in phi2)"
   ]
  },
  {
   "cell_type": "code",
   "execution_count": 102,
   "id": "49f31ad7",
   "metadata": {},
   "outputs": [],
   "source": [
    "skycoord = SkyCoord(ra=polygon_results['ra'], dec=polygon_results['dec'])"
   ]
  },
  {
   "cell_type": "code",
   "execution_count": 103,
   "id": "60343907",
   "metadata": {},
   "outputs": [],
   "source": [
    "distance = 8 * u.kpc #best estimate for GD-1, parallax small therefore unreliable\n",
    "radial_velocity= 0 * u.km/u.s # not used but we need it - this is a place holder\n",
    "\n",
    "skycoord = SkyCoord(ra=polygon_results['ra'], \n",
    "                    dec=polygon_results['dec'],\n",
    "                    pm_ra_cosdec=polygon_results['pmra'],\n",
    "                    pm_dec=polygon_results['pmdec'], \n",
    "                    distance=distance, \n",
    "                    radial_velocity=radial_velocity)"
   ]
  },
  {
   "cell_type": "code",
   "execution_count": 104,
   "id": "8a16d0b2",
   "metadata": {},
   "outputs": [],
   "source": [
    "transformed = skycoord.transform_to(gd1_frame)"
   ]
  },
  {
   "cell_type": "markdown",
   "id": "74cc0700",
   "metadata": {},
   "source": [
    "## Reflex Correction\n",
    "\n",
    "motion of solar system around galactic center"
   ]
  },
  {
   "cell_type": "code",
   "execution_count": 105,
   "id": "d5c8a46a",
   "metadata": {},
   "outputs": [],
   "source": [
    "from gala.coordinates import reflex_correct\n",
    "\n",
    "skycoord_gd1 = reflex_correct(transformed)"
   ]
  },
  {
   "cell_type": "code",
   "execution_count": 106,
   "id": "9210b72e",
   "metadata": {},
   "outputs": [
    {
     "data": {
      "text/plain": [
       "Text(0, 0.5, 'phi2 (degree GD1)')"
      ]
     },
     "execution_count": 106,
     "metadata": {},
     "output_type": "execute_result"
    },
    {
     "data": {
      "image/png": "[encoded data removed]",
      "text/plain": [
       "<Figure size 432x288 with 1 Axes>"
      ]
     },
     "metadata": {
      "needs_background": "light"
     },
     "output_type": "display_data"
    }
   ],
   "source": [
    "x = skycoord_gd1.phi1\n",
    "y = skycoord_gd1.phi2\n",
    "plt.plot(x, y, 'ko', markersize=0.1, alpha=0.1)\n",
    "\n",
    "plt.xlabel('phi1 (degree GD1)')\n",
    "plt.ylabel('phi2 (degree GD1)')"
   ]
  },
  {
   "cell_type": "markdown",
   "id": "a96218a0",
   "metadata": {},
   "source": [
    "## Pandas DataFrame"
   ]
  },
  {
   "cell_type": "code",
   "execution_count": 107,
   "id": "ac4a0fb3",
   "metadata": {},
   "outputs": [
    {
     "data": {
      "text/plain": [
       "astropy.table.table.Table"
      ]
     },
     "execution_count": 107,
     "metadata": {},
     "output_type": "execute_result"
    }
   ],
   "source": [
    "type(polygon_results)"
   ]
  },
  {
   "cell_type": "code",
   "execution_count": 108,
   "id": "0f9f85b3",
   "metadata": {},
   "outputs": [
    {
     "data": {
      "text/plain": [
       "astropy.coordinates.sky_coordinate.SkyCoord"
      ]
     },
     "execution_count": 108,
     "metadata": {},
     "output_type": "execute_result"
    }
   ],
   "source": [
    "type(skycoord_gd1)"
   ]
  },
  {
   "cell_type": "code",
   "execution_count": 109,
   "id": "47f9605f",
   "metadata": {},
   "outputs": [
    {
     "name": "stdout",
     "output_type": "stream",
     "text": [
      "<Table length=140339>\n",
      "   name    dtype    unit                                       description                                        class    \n",
      "--------- ------- -------- ----------------------------------------------------------------------------------- ------------\n",
      "source_id   int64          Unique source identifier (unique within a particular Data Release) (source_id) (G2) MaskedColumn\n",
      "       ra float64      deg                                Barycentric right ascension (ICRS) at Ep=2015.5 (ra) MaskedColumn\n",
      "      dec float64      deg                                   Barycentric declination (ICRS) at Ep=2015.5 (dec) MaskedColumn\n",
      "     pmra float64 mas / yr                ? Proper motion in right ascension direction (pmRA*cosDE) (pmra) (3) MaskedColumn\n",
      "    pmdec float64 mas / yr                                ? Proper motion in declination direction (pmdec) (4) MaskedColumn\n",
      " parallax float64      mas                                              ? Absolute stellar parallax (parallax) MaskedColumn\n",
      "     phi1 float64      deg                                                                                           Column\n",
      "     phi2 float64      deg                                                                                           Column\n"
     ]
    }
   ],
   "source": [
    "polygon_results['phi1'] = skycoord_gd1.phi1\n",
    "polygon_results['phi2'] = skycoord_gd1.phi2\n",
    "polygon_results.info()"
   ]
  },
  {
   "cell_type": "code",
   "execution_count": 110,
   "id": "94b6296a",
   "metadata": {},
   "outputs": [
    {
     "name": "stdout",
     "output_type": "stream",
     "text": [
      "<Table length=140339>\n",
      "   name    dtype    unit                                       description                                        class    \n",
      "--------- ------- -------- ----------------------------------------------------------------------------------- ------------\n",
      "source_id   int64          Unique source identifier (unique within a particular Data Release) (source_id) (G2) MaskedColumn\n",
      "       ra float64      deg                                Barycentric right ascension (ICRS) at Ep=2015.5 (ra) MaskedColumn\n",
      "      dec float64      deg                                   Barycentric declination (ICRS) at Ep=2015.5 (dec) MaskedColumn\n",
      "     pmra float64 mas / yr                ? Proper motion in right ascension direction (pmRA*cosDE) (pmra) (3) MaskedColumn\n",
      "    pmdec float64 mas / yr                                ? Proper motion in declination direction (pmdec) (4) MaskedColumn\n",
      " parallax float64      mas                                              ? Absolute stellar parallax (parallax) MaskedColumn\n",
      "     phi1 float64      deg                                                                                           Column\n",
      "     phi2 float64      deg                                                                                           Column\n",
      "  pm_phi1 float64 mas / yr                                                                                           Column\n",
      "  pm_phi2 float64 mas / yr                                                                                           Column\n"
     ]
    }
   ],
   "source": [
    "polygon_results['pm_phi1'] = skycoord_gd1.pm_phi1_cosphi2\n",
    "polygon_results['pm_phi2'] = skycoord_gd1.pm_phi2\n",
    "polygon_results.info()"
   ]
  },
  {
   "cell_type": "markdown",
   "id": "e680bbbf",
   "metadata": {},
   "source": [
    "### DataFrames vs Table"
   ]
  },
  {
   "cell_type": "markdown",
   "id": "5c898ca9-88ad-439f-afb0-384a712e5f98",
   "metadata": {},
   "source": [
    "* pandas general purpose, across domains\n",
    "* no units"
   ]
  },
  {
   "cell_type": "code",
   "execution_count": 111,
   "id": "62210db1",
   "metadata": {},
   "outputs": [],
   "source": [
    "import pandas as pd\n",
    "\n",
    "results_df = polygon_results.to_pandas()"
   ]
  },
  {
   "cell_type": "code",
   "execution_count": 112,
   "id": "b5e45b0a",
   "metadata": {},
   "outputs": [
    {
     "data": {
      "text/plain": [
       "(140339, 10)"
      ]
     },
     "execution_count": 112,
     "metadata": {},
     "output_type": "execute_result"
    }
   ],
   "source": [
    "results_df.shape"
   ]
  },
  {
   "cell_type": "code",
   "execution_count": 113,
   "id": "919ab53d",
   "metadata": {},
   "outputs": [
    {
     "data": {
      "text/html": [
       "<div>\n",
       "<style scoped>\n",
       "    .dataframe tbody tr th:only-of-type {\n",
       "        vertical-align: middle;\n",
       "    }\n",
       "\n",
       "    .dataframe tbody tr th {\n",
       "        vertical-align: top;\n",
       "    }\n",
       "\n",
       "    .dataframe thead th {\n",
       "        text-align: right;\n",
       "    }\n",
       "</style>\n",
       "<table border=\"1\" class=\"dataframe\">\n",
       "  <thead>\n",
       "    <tr style=\"text-align: right;\">\n",
       "      <th></th>\n",
       "      <th>source_id</th>\n",
       "      <th>ra</th>\n",
       "      <th>dec</th>\n",
       "      <th>pmra</th>\n",
       "      <th>pmdec</th>\n",
       "      <th>parallax</th>\n",
       "      <th>phi1</th>\n",
       "      <th>phi2</th>\n",
       "      <th>pm_phi1</th>\n",
       "      <th>pm_phi2</th>\n",
       "    </tr>\n",
       "  </thead>\n",
       "  <tbody>\n",
       "    <tr>\n",
       "      <th>0</th>\n",
       "      <td>621490014069058944</td>\n",
       "      <td>146.250279</td>\n",
       "      <td>19.286617</td>\n",
       "      <td>1.247</td>\n",
       "      <td>-7.877</td>\n",
       "      <td>-0.3693</td>\n",
       "      <td>-54.993510</td>\n",
       "      <td>-7.966407</td>\n",
       "      <td>-0.292378</td>\n",
       "      <td>-2.974688</td>\n",
       "    </tr>\n",
       "    <tr>\n",
       "      <th>1</th>\n",
       "      <td>621492075653372160</td>\n",
       "      <td>146.322286</td>\n",
       "      <td>19.344490</td>\n",
       "      <td>-2.399</td>\n",
       "      <td>-2.333</td>\n",
       "      <td>0.7228</td>\n",
       "      <td>-54.906113</td>\n",
       "      <td>-7.988219</td>\n",
       "      <td>2.115459</td>\n",
       "      <td>3.207709</td>\n",
       "    </tr>\n",
       "    <tr>\n",
       "      <th>2</th>\n",
       "      <td>621492178732589952</td>\n",
       "      <td>146.317434</td>\n",
       "      <td>19.361869</td>\n",
       "      <td>6.749</td>\n",
       "      <td>0.110</td>\n",
       "      <td>0.9157</td>\n",
       "      <td>-54.894499</td>\n",
       "      <td>-7.974410</td>\n",
       "      <td>9.412211</td>\n",
       "      <td>-2.826254</td>\n",
       "    </tr>\n",
       "    <tr>\n",
       "      <th>3</th>\n",
       "      <td>621493106445518720</td>\n",
       "      <td>146.216148</td>\n",
       "      <td>19.317208</td>\n",
       "      <td>2.248</td>\n",
       "      <td>-2.692</td>\n",
       "      <td>0.5535</td>\n",
       "      <td>-54.987184</td>\n",
       "      <td>-7.922428</td>\n",
       "      <td>4.512837</td>\n",
       "      <td>-0.783390</td>\n",
       "    </tr>\n",
       "    <tr>\n",
       "      <th>4</th>\n",
       "      <td>621493209524733312</td>\n",
       "      <td>146.203339</td>\n",
       "      <td>19.315017</td>\n",
       "      <td>-2.752</td>\n",
       "      <td>-0.350</td>\n",
       "      <td>-0.1249</td>\n",
       "      <td>-54.996058</td>\n",
       "      <td>-7.913844</td>\n",
       "      <td>3.524591</td>\n",
       "      <td>4.649224</td>\n",
       "    </tr>\n",
       "  </tbody>\n",
       "</table>\n",
       "</div>"
      ],
      "text/plain": [
       "            source_id          ra        dec   pmra  pmdec  parallax  \\\n",
       "0  621490014069058944  146.250279  19.286617  1.247 -7.877   -0.3693   \n",
       "1  621492075653372160  146.322286  19.344490 -2.399 -2.333    0.7228   \n",
       "2  621492178732589952  146.317434  19.361869  6.749  0.110    0.9157   \n",
       "3  621493106445518720  146.216148  19.317208  2.248 -2.692    0.5535   \n",
       "4  621493209524733312  146.203339  19.315017 -2.752 -0.350   -0.1249   \n",
       "\n",
       "        phi1      phi2   pm_phi1   pm_phi2  \n",
       "0 -54.993510 -7.966407 -0.292378 -2.974688  \n",
       "1 -54.906113 -7.988219  2.115459  3.207709  \n",
       "2 -54.894499 -7.974410  9.412211 -2.826254  \n",
       "3 -54.987184 -7.922428  4.512837 -0.783390  \n",
       "4 -54.996058 -7.913844  3.524591  4.649224  "
      ]
     },
     "execution_count": 113,
     "metadata": {},
     "output_type": "execute_result"
    }
   ],
   "source": [
    "results_df.head()"
   ]
  },
  {
   "cell_type": "code",
   "execution_count": 114,
   "id": "549aabe6",
   "metadata": {},
   "outputs": [],
   "source": [
    "def make_dataframe(table):\n",
    "    \"\"\"Transform coordinates from ICRS to GD-1 frame.\n",
    "    \n",
    "    table: Astropy Table\n",
    "    \n",
    "    returns: Pandas DataFrame\n",
    "    \"\"\"\n",
    "    #Create a SkyCoord object with the coordinates and proper motions\n",
    "    # in the input table\n",
    "    skycoord = SkyCoord(\n",
    "               ra=table['ra'], \n",
    "               dec=table['dec'],\n",
    "               pm_ra_cosdec=table['pmra'],\n",
    "               pm_dec=table['pmdec'], \n",
    "               distance=8*u.kpc, \n",
    "               radial_velocity=0*u.km/u.s)\n",
    "\n",
    "    # Define the GD-1 reference frame\n",
    "    gd1_frame = GD1Koposov10()\n",
    "\n",
    "    # Transform input coordinates to the GD-1 reference frame\n",
    "    transformed = skycoord.transform_to(gd1_frame)\n",
    "\n",
    "    # Correct GD-1 coordinates for solar system motion around galactic center\n",
    "    skycoord_gd1 = reflex_correct(transformed)\n",
    "\n",
    "    #Add GD-1 reference frame columns for coordinates and proper motions\n",
    "    table['phi1'] = skycoord_gd1.phi1\n",
    "    table['phi2'] = skycoord_gd1.phi2\n",
    "    table['pm_phi1'] = skycoord_gd1.pm_phi1_cosphi2\n",
    "    table['pm_phi2'] = skycoord_gd1.pm_phi2\n",
    "\n",
    "    # Create DataFrame\n",
    "    df = table.to_pandas()\n",
    "\n",
    "    return df"
   ]
  },
  {
   "cell_type": "code",
   "execution_count": 115,
   "id": "926a0e11",
   "metadata": {},
   "outputs": [],
   "source": [
    "results_df = make_dataframe(polygon_results)\n"
   ]
  },
  {
   "cell_type": "markdown",
   "id": "f301f544",
   "metadata": {},
   "source": [
    "# Saving the DataFrame"
   ]
  },
  {
   "cell_type": "markdown",
   "id": "5e1b68ea",
   "metadata": {},
   "source": [
    "can convert to astropy table and save as FITS - or-"
   ]
  },
  {
   "cell_type": "code",
   "execution_count": 116,
   "id": "c099a862",
   "metadata": {},
   "outputs": [
    {
     "data": {
      "text/plain": [
       "astropy.table.table.Table"
      ]
     },
     "execution_count": 116,
     "metadata": {},
     "output_type": "execute_result"
    }
   ],
   "source": [
    "from astropy.table import Table\n",
    "\n",
    "results_table = Table.from_pandas(results_df)\n",
    "type(results_table)"
   ]
  },
  {
   "cell_type": "markdown",
   "id": "c5785fd1",
   "metadata": {},
   "source": [
    "Save as HDF5\n",
    "*  binary\n",
    "* multiple datasets\n",
    "* header info"
   ]
  },
  {
   "cell_type": "code",
   "execution_count": 117,
   "id": "8e24c043",
   "metadata": {},
   "outputs": [],
   "source": [
    "filename = 'gd1_data.hdf'\n",
    "\n",
    "results_df.to_hdf(filename, 'results_df', mode='w')"
   ]
  }
 ],
 "metadata": {
  "kernelspec": {
   "display_name": "AstronomicalData2",
   "language": "python",
   "name": "astronomicaldata2"
  },
  "language_info": {
   "codemirror_mode": {
    "name": "ipython",
    "version": 3
   },
   "file_extension": ".py",
   "mimetype": "text/x-python",
   "name": "python",
   "nbconvert_exporter": "python",
   "pygments_lexer": "ipython3",
   "version": "3.9.6"
  }
 },
 "nbformat": 4,
 "nbformat_minor": 5
}
