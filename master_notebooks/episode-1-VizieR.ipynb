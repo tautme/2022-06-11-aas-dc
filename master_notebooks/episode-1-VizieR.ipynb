{
 "cells": [
  {
   "cell_type": "markdown",
   "id": "af624aa0",
   "metadata": {},
   "source": [
    "# Make sure learners are in the student_download directory"
   ]
  },
  {
   "cell_type": "markdown",
   "id": "5a33615f",
   "metadata": {},
   "source": [
    "# Notebook Intro"
   ]
  },
  {
   "cell_type": "markdown",
   "id": "b03aa1d9",
   "metadata": {},
   "source": [
    "* code and markdown\n",
    "* shift+enter\n",
    "* can execute multiple timea nd out of order\n",
    "* add new cells\n",
    "* restart kernel"
   ]
  },
  {
   "cell_type": "markdown",
   "id": "56b750f9",
   "metadata": {},
   "source": [
    "# Query Language:"
   ]
  },
  {
   "cell_type": "markdown",
   "id": "f1cfe079",
   "metadata": {},
   "source": [
    "Astronomical Data Query Language: SQL (Structured Query Language) dialect  \n",
    "Programming language to communicate with a database"
   ]
  },
  {
   "cell_type": "markdown",
   "id": "414d1d06",
   "metadata": {},
   "source": [
    "# Connecting to Gaia"
   ]
  },
  {
   "cell_type": "code",
   "execution_count": 3,
   "id": "4e24e8ac",
   "metadata": {},
   "outputs": [],
   "source": [
    "import requests\n",
    "import pyvo as vo"
   ]
  },
  {
   "cell_type": "markdown",
   "id": "99cfe148",
   "metadata": {},
   "source": [
    "# Most significant differences:\n",
    "* Each user must create an account and find their token\n",
    "* getting at Table metadata is different and not as informative\n",
    "* running a job and getting the table is a different command\n",
    "* ADQL shapes must have a first entry of 'ICRS'\n",
    "* Default \"units\" in table are definition and units, we have to manually fix (I've written a function)\n",
    "* We wont have access to the PanSTARRS photometry table for the final exercise in the JOIN section."
   ]
  },
  {
   "cell_type": "markdown",
   "id": "f6fabaa4",
   "metadata": {},
   "source": [
    "Create account: https://gaia.aip.de/accounts/signup/\n",
    "Verify email with confirmation email\n",
    "Your Name --> API token"
   ]
  },
  {
   "cell_type": "code",
   "execution_count": 4,
   "id": "2ecfd06a",
   "metadata": {},
   "outputs": [],
   "source": [
    "url=\"http://TAPVizieR.u-strasbg.fr/TAPVizieR/tap\"\n",
    "tap_session = requests.Session()\n",
    "tap_service = vo.dal.TAPService(url, session=tap_session)"
   ]
  },
  {
   "cell_type": "markdown",
   "id": "561ad7f9",
   "metadata": {},
   "source": [
    "# Databases and Tables"
   ]
  },
  {
   "cell_type": "markdown",
   "id": "4fd9f775",
   "metadata": {},
   "source": [
    "Database: collection of one or more named tables with one or more named columns"
   ]
  },
  {
   "cell_type": "markdown",
   "id": "f79aa547",
   "metadata": {},
   "source": [
    "### This is the basic structure of all SQL queries"
   ]
  },
  {
   "cell_type": "code",
   "execution_count": 6,
   "id": "8e54d112",
   "metadata": {},
   "outputs": [],
   "source": [
    "table_query = \"SELECT TOP 10 table_name FROM tap_schema.tables\""
   ]
  },
  {
   "cell_type": "markdown",
   "id": "13a05eb7",
   "metadata": {},
   "source": [
    "Select (not add or modify or delete)"
   ]
  },
  {
   "cell_type": "code",
   "execution_count": 7,
   "id": "7fa6e927",
   "metadata": {},
   "outputs": [
    {
     "data": {
      "text/html": [
       "<i>Table length=10</i>\n",
       "<table id=\"table4544144768\" class=\"table-striped table-bordered table-condensed\">\n",
       "<thead><tr><th>table_name</th></tr></thead>\n",
       "<thead><tr><th>object</th></tr></thead>\n",
       "<tr><td>J/A+A/622/A164/tableb4</td></tr>\n",
       "<tr><td>J/MNRAS/406/460/spectra</td></tr>\n",
       "<tr><td>J/AJ/135/10/table5</td></tr>\n",
       "<tr><td>J/A+A/591/A129/tablea5</td></tr>\n",
       "<tr><td>J/ApJS/230/28/obs</td></tr>\n",
       "<tr><td>J/ApJ/822/81/table5</td></tr>\n",
       "<tr><td>J/ApJS/194/25/table3</td></tr>\n",
       "<tr><td>J/AJ/158/141/table5</td></tr>\n",
       "<tr><td>J/MNRAS/405/1930/table5</td></tr>\n",
       "<tr><td>J/A+A/598/A62/tablea1</td></tr>\n",
       "</table>"
      ],
      "text/plain": [
       "<Table length=10>\n",
       "       table_name      \n",
       "         object        \n",
       "-----------------------\n",
       " J/A+A/622/A164/tableb4\n",
       "J/MNRAS/406/460/spectra\n",
       "     J/AJ/135/10/table5\n",
       " J/A+A/591/A129/tablea5\n",
       "      J/ApJS/230/28/obs\n",
       "    J/ApJ/822/81/table5\n",
       "   J/ApJS/194/25/table3\n",
       "    J/AJ/158/141/table5\n",
       "J/MNRAS/405/1930/table5\n",
       "  J/A+A/598/A62/tablea1"
      ]
     },
     "execution_count": 7,
     "metadata": {},
     "output_type": "execute_result"
    }
   ],
   "source": [
    "table_result = tap_service.run_sync(table_query)\n",
    "table_table = table_result.to_table()\n",
    "table_table"
   ]
  },
  {
   "cell_type": "code",
   "execution_count": 8,
   "id": "5d25c7b4",
   "metadata": {},
   "outputs": [
    {
     "data": {
      "text/plain": [
       "astropy.table.table.Table"
      ]
     },
     "execution_count": 8,
     "metadata": {},
     "output_type": "execute_result"
    }
   ],
   "source": [
    "type(table_table)"
   ]
  },
  {
   "cell_type": "markdown",
   "id": "da726fa9",
   "metadata": {},
   "source": [
    "Like at database except persistent (stored on disk)"
   ]
  },
  {
   "cell_type": "code",
   "execution_count": 5,
   "id": "971aba4d",
   "metadata": {},
   "outputs": [],
   "source": [
    "description_query = \"SELECT * FROM tap_schema.tables WHERE table_name='I/345/gaia2'\""
   ]
  },
  {
   "cell_type": "code",
   "execution_count": 6,
   "id": "927986fc",
   "metadata": {},
   "outputs": [
    {
     "data": {
      "text/html": [
       "<i>Table length=1</i>\n",
       "<table id=\"table4582814336\" class=\"table-striped table-bordered table-condensed\">\n",
       "<thead><tr><th>schema_name</th><th>table_name</th><th>table_type</th><th>description</th><th>utype</th></tr></thead>\n",
       "<thead><tr><th>object</th><th>object</th><th>object</th><th>object</th><th>object</th></tr></thead>\n",
       "<tr><td>large_tables</td><td>I/345/gaia2</td><td>table</td><td>GaiaSource DR2 data ( Gaia collaboration)</td><td></td></tr>\n",
       "</table>"
      ],
      "text/plain": [
       "<Table length=1>\n",
       "schema_name   table_name ...                description                utype \n",
       "   object       object   ...                   object                  object\n",
       "------------ ----------- ... ----------------------------------------- ------\n",
       "large_tables I/345/gaia2 ... GaiaSource DR2 data ( Gaia collaboration)       "
      ]
     },
     "execution_count": 6,
     "metadata": {},
     "output_type": "execute_result"
    }
   ],
   "source": [
    "description_result= tap_service.run_sync(description_query)\n",
    "description_table = description_result.to_table()\n",
    "description_table"
   ]
  },
  {
   "cell_type": "markdown",
   "id": "ed1f904d",
   "metadata": {},
   "source": [
    "# Columns"
   ]
  },
  {
   "cell_type": "code",
   "execution_count": 7,
   "id": "ec550da1",
   "metadata": {},
   "outputs": [],
   "source": [
    "column_query = \"select column_name, description, unit from tap_schema.columns where table_name = 'I/345/gaia2'\""
   ]
  },
  {
   "cell_type": "code",
   "execution_count": 8,
   "id": "86f74ae2",
   "metadata": {},
   "outputs": [
    {
     "data": {
      "text/html": [
       "<i>Table length=101</i>\n",
       "<table id=\"table4582814480-12709\" class=\"table-striped table-bordered table-condensed\">\n",
       "<thead><tr><th>idx</th><th>column_name</th><th>description</th><th>unit</th></tr></thead>\n",
       "<tr><td>0</td><td>designation</td><td>Unique source designation (unique across all Data Releases) (Gaia DR2 NNNNNNNNNNNNNNNNNNN) (designation) (1)</td><td></td></tr>\n",
       "<tr><td>1</td><td>ra</td><td>Barycentric right ascension (ICRS) at Ep=2015.5 (ra)</td><td>deg</td></tr>\n",
       "<tr><td>2</td><td>ra_error</td><td>Standard error of right ascension (e_RA*cosDE) (ra_error)</td><td>mas</td></tr>\n",
       "<tr><td>3</td><td>dec</td><td>Barycentric declination (ICRS) at Ep=2015.5 (dec)</td><td>deg</td></tr>\n",
       "<tr><td>4</td><td>dec_error</td><td>Standard error of declination (dec_error)</td><td>mas</td></tr>\n",
       "<tr><td>5</td><td>solution_id</td><td>Solution Identifier (solution_id) (G1)</td><td></td></tr>\n",
       "<tr><td>6</td><td>source_id</td><td>Unique source identifier (unique within a particular Data Release) (source_id) (G2)</td><td></td></tr>\n",
       "<tr><td>7</td><td>random_index</td><td>Random index used to select subsets (random_index) (2)</td><td></td></tr>\n",
       "<tr><td>8</td><td>ref_epoch</td><td>[2015.5] Reference epoch (ref_epoch)</td><td>yr</td></tr>\n",
       "<tr><td>9</td><td>parallax</td><td>? Absolute stellar parallax (parallax)</td><td>mas</td></tr>\n",
       "<tr><td>10</td><td>parallax_error</td><td>? Standard error of parallax (parallax_error)</td><td>mas</td></tr>\n",
       "<tr><td>11</td><td>parallax_over_error</td><td>? Parallax divided by its error (parallax_over_error)</td><td></td></tr>\n",
       "<tr><td>12</td><td>pmra</td><td>? Proper motion in right ascension direction (pmRA*cosDE) (pmra) (3)</td><td>mas/yr</td></tr>\n",
       "<tr><td>13</td><td>pmra_error</td><td>? Standard error of proper motion in right ascension direction (pmra_error)</td><td>mas/yr</td></tr>\n",
       "<tr><td>14</td><td>pmdec</td><td>? Proper motion in declination direction (pmdec) (4)</td><td>mas/yr</td></tr>\n",
       "<tr><td>15</td><td>pmdec_error</td><td>? Standard error of proper motion in declination direction (pmdec_error)</td><td>mas/yr</td></tr>\n",
       "<tr><td>16</td><td>ra_dec_corr</td><td>Correlation between right ascension and declination (ra_dec_corr)</td><td></td></tr>\n",
       "<tr><td>17</td><td>ra_parallax_corr</td><td>? Correlation between right ascension and parallax (ra_parallax_corr)</td><td></td></tr>\n",
       "<tr><td>18</td><td>ra_pmra_corr</td><td>? Correlation between right ascension and proper motion in right ascension (ra_pmra_corr)</td><td></td></tr>\n",
       "<tr><td>19</td><td>ra_pmdec_corr</td><td>? Correlation between right ascension and proper motion in declination (ra_pmdec_corr)</td><td></td></tr>\n",
       "<tr><td>20</td><td>dec_parallax_corr</td><td>? Correlation between declination and parallax (dec_parallax_corr)</td><td></td></tr>\n",
       "<tr><td>21</td><td>dec_pmra_corr</td><td>? Correlation between declination and proper motion in right ascension (dec_pmra_corr)</td><td></td></tr>\n",
       "<tr><td>22</td><td>dec_pmdec_corr</td><td>? Correlation between declination and proper motion in declination (dec_pmdec_corr)</td><td></td></tr>\n",
       "<tr><td>23</td><td>parallax_pmra_corr</td><td>? Correlation between parallax and proper motion in right ascension (parallax_pmra_corr)</td><td></td></tr>\n",
       "<tr><td>24</td><td>parallax_pmdec_corr</td><td>? Correlation between parallax and proper motion in declination (parallax_pmdec_corr)</td><td></td></tr>\n",
       "<tr><td>25</td><td>pmra_pmdec_corr</td><td>? Correlation between proper motion in right ascension and proper motion in declination (pmra_pmdec_corr)</td><td></td></tr>\n",
       "<tr><td>26</td><td>astrometric_n_obs_al</td><td>Total number of observations AL (astrometric_n_obs_al) (6)</td><td></td></tr>\n",
       "<tr><td>27</td><td>astrometric_n_obs_ac</td><td>Total number of observations AC (astrometric_n_obs_ac) (7)</td><td></td></tr>\n",
       "<tr><td>28</td><td>astrometric_n_good_obs_al</td><td>Number of good observations AL (astrometric_n_good_obs_al) (8)</td><td></td></tr>\n",
       "<tr><td>29</td><td>astrometric_n_bad_obs_al</td><td>Number of bad observations AL (astrometric_n_bad_obs_al) (9)</td><td></td></tr>\n",
       "<tr><td>30</td><td>astrometric_gof_al</td><td>Goodness of fit statistic of model wrt along-scan observations (astrometric_gof_al) (10)</td><td></td></tr>\n",
       "<tr><td>31</td><td>astrometric_chi2_al</td><td>AL chi-square value (astrometric_chi2_al) (11)</td><td></td></tr>\n",
       "<tr><td>32</td><td>astrometric_excess_noise</td><td>Excess noise of the source (astrometric_excess_noise) (12)</td><td>mas</td></tr>\n",
       "<tr><td>33</td><td>astrometric_excess_noise_sig</td><td>Significance of excess noise (astrometric_excess_noise_sig) (13)</td><td></td></tr>\n",
       "<tr><td>34</td><td>astrometric_params_solved</td><td>Which parameters have been solved for? (astrometric_params_solved) (14)</td><td></td></tr>\n",
       "<tr><td>35</td><td>astrometric_primary_flag</td><td>Primary or secondary (astrometric_primary_flag) (15)</td><td></td></tr>\n",
       "<tr><td>36</td><td>astrometric_weight_al</td><td>Mean astrometric weight of the source (astrometric_weight_al) (16)</td><td>mas-2</td></tr>\n",
       "<tr><td>37</td><td>astrometric_pseudo_colour</td><td>? Astrometrically determined pseudocolour of the source (astrometric_pseudo_colour) (17)</td><td>um-1</td></tr>\n",
       "<tr><td>38</td><td>astrometric_pseudo_colour_error</td><td>? Standard error of the pseudocolour of the source (astrometric_pseudo_colour_error)</td><td>um-1</td></tr>\n",
       "<tr><td>39</td><td>mean_varpi_factor_al</td><td>Mean Parallax factor AL (mean_varpi_factor_al)</td><td></td></tr>\n",
       "<tr><td>40</td><td>astrometric_matched_observations</td><td>Matched FOV transits used in the AGIS solution (astrometric_matched_observations) (18)</td><td></td></tr>\n",
       "<tr><td>41</td><td>visibility_periods_used</td><td>Number of visibility periods used in Astrometric solution (visibility_periods_used)</td><td></td></tr>\n",
       "<tr><td>42</td><td>astrometric_sigma5d_max</td><td>The longest semi-major axis of the 5-d error ellipsoid (astrometric_sigma5d_max) (19)</td><td>mas</td></tr>\n",
       "<tr><td>43</td><td>frame_rotator_object_type</td><td>[0/3] The type of the source mainly used for frame rotation (frame_rotator_object_type) (20)</td><td></td></tr>\n",
       "<tr><td>44</td><td>matched_observations</td><td>The total number of FOV transits matched to this source (matched_observations)</td><td></td></tr>\n",
       "<tr><td>45</td><td>duplicated_source</td><td>[0/1] Source with duplicate sources (duplicated_source) (21)</td><td></td></tr>\n",
       "<tr><td>46</td><td>phot_g_n_obs</td><td>Number of observations contributing to G photometry (phot_g_n_obs) (22)</td><td></td></tr>\n",
       "<tr><td>47</td><td>phot_g_mean_flux</td><td>G-band mean flux (phot_g_mean_flux)</td><td>e-/s</td></tr>\n",
       "<tr><td>48</td><td>phot_g_mean_flux_error</td><td>Error on G-band mean flux (phot_g_mean_flux_error)</td><td>e-/s</td></tr>\n",
       "<tr><td>49</td><td>phot_g_mean_flux_over_error</td><td>G-band mean flux divided by its error (phot_g_mean_flux_over_error)</td><td></td></tr>\n",
       "<tr><td>50</td><td>phot_g_mean_mag</td><td>G-band mean magnitude (Vega) (phot_g_mean_mag) (23)</td><td>mag</td></tr>\n",
       "<tr><td>51</td><td>phot_g_mean_mag_error</td><td>Standard error of G-band mean magnitude (Vega) (added by CDS) (phot_g_mean_mag_error) (37)</td><td>mag</td></tr>\n",
       "<tr><td>52</td><td>phot_bp_n_obs</td><td>Number of observations contributing to BP photometry (phot_bp_n_obs) (24)</td><td></td></tr>\n",
       "<tr><td>53</td><td>phot_bp_mean_flux</td><td>? Mean flux in the integrated BP band (phot_bp_mean_flux)</td><td>e-/s</td></tr>\n",
       "<tr><td>54</td><td>phot_bp_mean_flux_error</td><td>? Error on the integrated BP mean flux (phot_bp_mean_flux_error) (25)</td><td>e-/s</td></tr>\n",
       "<tr><td>55</td><td>phot_bp_mean_flux_over_error</td><td>? Integrated BP mean flux divided by its error (phot_bp_mean_flux_over_error)</td><td></td></tr>\n",
       "<tr><td>56</td><td>phot_bp_mean_mag</td><td>? Integrated BP mean magnitude (Vega) (phot_bp_mean_mag) (26)</td><td>mag</td></tr>\n",
       "<tr><td>57</td><td>phot_bp_mean_mag_error</td><td>? Standard error of BP mean magnitude (Vega) (added by CDS) (phot_bp_mean_mag_error) (37)</td><td>mag</td></tr>\n",
       "<tr><td>58</td><td>phot_rp_n_obs</td><td>? Number of observations contributing to RP photometry (phot_rp_n_obs) (27)</td><td></td></tr>\n",
       "<tr><td>59</td><td>phot_rp_mean_flux</td><td>? Mean flux in the integrated RP band (phot_rp_mean_flux)</td><td>e-/s</td></tr>\n",
       "<tr><td>60</td><td>phot_rp_mean_flux_error</td><td>? Error on the integrated RP mean flux (phot_rp_mean_flux_error) (28)</td><td>e-/s</td></tr>\n",
       "<tr><td>61</td><td>phot_rp_mean_flux_over_error</td><td>? Integrated RP mean flux divided by its error (phot_rp_mean_flux_over_error)</td><td></td></tr>\n",
       "<tr><td>62</td><td>phot_rp_mean_mag</td><td>? Integrated RP mean magnitude (Vega) (phot_rp_mean_mag) (29)</td><td>mag</td></tr>\n",
       "<tr><td>63</td><td>phot_rp_mean_mag_error</td><td>? Standard error of RP mean magnitude (Vega) (added by CDS) (phot_rp_mean_mag_error) (37)</td><td>mag</td></tr>\n",
       "<tr><td>64</td><td>phot_bp_rp_excess_factor</td><td>? BP/RP excess factor (phot_bp_rp_excess_factor)</td><td></td></tr>\n",
       "<tr><td>65</td><td>phot_proc_mode</td><td>Photometry processing mode (phot_proc_mode)</td><td></td></tr>\n",
       "<tr><td>66</td><td>bp_rp</td><td>? BP-RP colour (photBpMeanMag-photRMeanMag) (bp_rp)</td><td>mag</td></tr>\n",
       "<tr><td>67</td><td>bp_g</td><td>? BP-G colour (photBpMeanMag-photGMeanMag) (bp_g)</td><td>mag</td></tr>\n",
       "<tr><td>68</td><td>g_rp</td><td>? G-RP colour (photGMeanMag-photRpMeanMag) (g_rp)</td><td>mag</td></tr>\n",
       "<tr><td>69</td><td>radial_velocity</td><td>? Spectroscopic radial velocity in the solar barycentric reference frame (radial_velocity)</td><td>km/s</td></tr>\n",
       "<tr><td>70</td><td>radial_velocity_error</td><td>? Radial velocity error (radial_velocity_error) (30)</td><td>km/s</td></tr>\n",
       "<tr><td>71</td><td>rv_nb_transits</td><td>Number of transits used to compute radial velocity (rv_nb_transits)</td><td></td></tr>\n",
       "<tr><td>72</td><td>rv_template_teff</td><td>? Teff of the template used to compute radial velocity (rv_template_teff) (36)</td><td>K</td></tr>\n",
       "<tr><td>73</td><td>rv_template_logg</td><td>? logg of the template used to compute radial velocity (rv_template_logg) (36)</td><td>[cm/s2]</td></tr>\n",
       "<tr><td>74</td><td>rv_template_fe_h</td><td>? Fe/H of the template used to compute radial velocity (rv_template_fe_h) (36)</td><td></td></tr>\n",
       "<tr><td>75</td><td>phot_variable_flag</td><td>Photometric variability flag (phot_variable_flag) (31)</td><td></td></tr>\n",
       "<tr><td>76</td><td>l</td><td>Galactic longitude (l) (32)</td><td>deg</td></tr>\n",
       "<tr><td>77</td><td>b</td><td>Galactic latitude (b) (32)</td><td>deg</td></tr>\n",
       "<tr><td>78</td><td>ecl_lon</td><td>Ecliptic longitude (ecl_lon) (33)</td><td>deg</td></tr>\n",
       "<tr><td>79</td><td>ecl_lat</td><td>Ecliptic latitude (ecl_lat) (33)</td><td>deg</td></tr>\n",
       "<tr><td>80</td><td>priam_flags</td><td>? Flags for the Apsis-Priam results (priam_flags) (34)</td><td></td></tr>\n",
       "<tr><td>81</td><td>teff_val</td><td>? Stellar effective temperature (estimate from Apsis-Priam) (teff_val)</td><td>K</td></tr>\n",
       "<tr><td>82</td><td>teff_percentile_lower</td><td>? Uncertainty (lower) on Teff estimate from Apsis-Priam (16th percentile) (teff_percentile_lower)</td><td>K</td></tr>\n",
       "<tr><td>83</td><td>teff_percentile_upper</td><td>? Uncertainty (upper) on Teff estimate from Apsis-Priam (84th percentile) (teff_percentile_upper)</td><td>K</td></tr>\n",
       "<tr><td>84</td><td>a_g_val</td><td>? Estimate of extinction in the G band from Apsis-Priam (a_g_val)</td><td>mag</td></tr>\n",
       "<tr><td>85</td><td>a_g_percentile_lower</td><td>? Uncertainty (lower) on AG estimate from Apsis-Priam (16th percentile) (a_g_percentile_lower)</td><td>mag</td></tr>\n",
       "<tr><td>86</td><td>a_g_percentile_upper</td><td>? Uncertainty (upper) on AG estimate from Apsis-Priam (84th percentile) (a_g_percentile_upper)</td><td>mag</td></tr>\n",
       "<tr><td>87</td><td>e_bp_min_rp_val</td><td>? Estimate of redenning E(BP-RP) from Apsis-Priam (e_bp_min_rp_val)</td><td>mag</td></tr>\n",
       "<tr><td>88</td><td>e_bp_min_rp_percentile_lower</td><td>? Uncertainty (lower) on E(BP-RP) estimate from Apsis-Priam (16th percentile) (e_bp_min_rp_percentile_lower)</td><td>mag</td></tr>\n",
       "<tr><td>89</td><td>e_bp_min_rp_percentile_upper</td><td>? Uncertainty (upper) on E(BP-RP) estimate from Apsis-Priam (84th percentile) (e_bp_min_rp_percentile_upper)</td><td>mag</td></tr>\n",
       "<tr><td>90</td><td>flame_flags</td><td>? Flags for the Apsis-FLAME results (flame_flags) (35)</td><td></td></tr>\n",
       "<tr><td>91</td><td>radius_val</td><td>? Estimate of radius from Apsis-FLAME (radius_val)</td><td>solRad</td></tr>\n",
       "<tr><td>92</td><td>radius_percentile_lower</td><td>? Uncertainty (lower) on radius estimate from Apsis-FLAME (16th percentile) (radius_percentile_lower)</td><td>solRad</td></tr>\n",
       "<tr><td>93</td><td>radius_percentile_upper</td><td>? Uncertainty (upper) on radius estimate from Apsis-FLAME (84th percentile) (radius_percentile_upper)</td><td>solRad</td></tr>\n",
       "<tr><td>94</td><td>lum_val</td><td>? Esimate of luminosity from Apsis-FLAME (lum_val)</td><td>solLum</td></tr>\n",
       "<tr><td>95</td><td>lum_percentile_lower</td><td>? Uncertainty (lower) on luminosity estimate from Apsis-FLAME (16th percentile) (lum_percentile_lower)</td><td>solLum</td></tr>\n",
       "<tr><td>96</td><td>lum_percentile_upper</td><td>? Uncertainty (upper) on luminosity estimate from Apsis-FLAME (84th percentile) (lum_percentile_upper)</td><td>solLum</td></tr>\n",
       "<tr><td>97</td><td>ra_epoch2000</td><td>Barycentric right ascension (ICRS) at Ep=2000.0 (added by CDS) (ra_epoch2000)</td><td>deg</td></tr>\n",
       "<tr><td>98</td><td>ra_epoch2000_error</td><td>Standard error of right ascension (e_RA*cosDE) (added by CDS) (ra_epoch2000_error)</td><td>mas</td></tr>\n",
       "<tr><td>99</td><td>dec_epoch2000</td><td>Barycentric declination (ICRS) at Ep=2000.0 (added by CDS) (dec_epoch2000)</td><td>deg</td></tr>\n",
       "<tr><td>100</td><td>dec_epoch2000_error</td><td>Standard error of declination (added by CDS) (dec_epoch2000_error)</td><td>mas</td></tr>\n",
       "</table><style>table.dataTable {clear: both; width: auto !important; margin: 0 !important;}\n",
       ".dataTables_info, .dataTables_length, .dataTables_filter, .dataTables_paginate{\n",
       "display: inline-block; margin-right: 1em; }\n",
       ".paginate_button { margin-right: 5px; }\n",
       "</style>\n",
       "<script>\n",
       "\n",
       "var astropy_sort_num = function(a, b) {\n",
       "    var a_num = parseFloat(a);\n",
       "    var b_num = parseFloat(b);\n",
       "\n",
       "    if (isNaN(a_num) && isNaN(b_num))\n",
       "        return ((a < b) ? -1 : ((a > b) ? 1 : 0));\n",
       "    else if (!isNaN(a_num) && !isNaN(b_num))\n",
       "        return ((a_num < b_num) ? -1 : ((a_num > b_num) ? 1 : 0));\n",
       "    else\n",
       "        return isNaN(a_num) ? -1 : 1;\n",
       "}\n",
       "\n",
       "require.config({paths: {\n",
       "    datatables: 'https://cdn.datatables.net/1.10.12/js/jquery.dataTables.min'\n",
       "}});\n",
       "require([\"datatables\"], function(){\n",
       "    console.log(\"$('#table4582814480-12709').dataTable()\");\n",
       "    \n",
       "jQuery.extend( jQuery.fn.dataTableExt.oSort, {\n",
       "    \"optionalnum-asc\": astropy_sort_num,\n",
       "    \"optionalnum-desc\": function (a,b) { return -astropy_sort_num(a, b); }\n",
       "});\n",
       "\n",
       "    $('#table4582814480-12709').dataTable({\n",
       "        order: [],\n",
       "        pageLength: 50,\n",
       "        lengthMenu: [[10, 25, 50, 100, 500, 1000, -1], [10, 25, 50, 100, 500, 1000, 'All']],\n",
       "        pagingType: \"full_numbers\",\n",
       "        columnDefs: [{targets: [0], type: \"optionalnum\"}]\n",
       "    });\n",
       "});\n",
       "</script>\n"
      ],
      "text/plain": [
       "<IPython.core.display.HTML object>"
      ]
     },
     "execution_count": 8,
     "metadata": {},
     "output_type": "execute_result"
    }
   ],
   "source": [
    "column_table = tap_service.run_sync(column_query)\n",
    "column_table.to_table().show_in_notebook()"
   ]
  },
  {
   "cell_type": "code",
   "execution_count": 9,
   "id": "73dfd2f2",
   "metadata": {},
   "outputs": [
    {
     "name": "stdout",
     "output_type": "stream",
     "text": [
      "101\n"
     ]
    }
   ],
   "source": [
    "print(len(column_table))"
   ]
  },
  {
   "cell_type": "markdown",
   "id": "a1c38040",
   "metadata": {
    "tags": []
   },
   "source": [
    "## Exercise: \n",
    "Choose a Vizier table of your choice from website and get description (search for your favorite catalog here https://vizier.cds.unistra.fr/viz-bin/VizieR)"
   ]
  },
  {
   "cell_type": "code",
   "execution_count": 10,
   "id": "360ab440-6939-4f89-9cf7-f5d9f519494e",
   "metadata": {},
   "outputs": [
    {
     "data": {
      "text/html": [
       "<i>Table length=1</i>\n",
       "<table id=\"table4583085440\" class=\"table-striped table-bordered table-condensed\">\n",
       "<thead><tr><th>schema_name</th><th>table_name</th><th>table_type</th><th>description</th><th>utype</th></tr></thead>\n",
       "<thead><tr><th>object</th><th>object</th><th>object</th><th>object</th><th>object</th></tr></thead>\n",
       "<tr><td>II_photometry</td><td>II/256/sn</td><td>table</td><td>The Catalog ( Tsvetkov D.Yu., Pavlyuk N.N., Bartunov O.S.)</td><td></td></tr>\n",
       "</table>"
      ],
      "text/plain": [
       "<Table length=1>\n",
       " schema_name  table_name ... utype \n",
       "    object      object   ... object\n",
       "------------- ---------- ... ------\n",
       "II_photometry  II/256/sn ...       "
      ]
     },
     "execution_count": 10,
     "metadata": {},
     "output_type": "execute_result"
    }
   ],
   "source": [
    "# Solution\n",
    "description_query_sternberg = \"SELECT * FROM tap_schema.tables WHERE table_name='II/256/sn'\"\n",
    "description_result_sternberg= tap_service.run_sync(description_query_sternberg)\n",
    "description_table_sternberg = description_result_sternberg.to_table()\n",
    "description_table_sternberg"
   ]
  },
  {
   "cell_type": "code",
   "execution_count": 11,
   "id": "81ad96b4",
   "metadata": {},
   "outputs": [
    {
     "name": "stdout",
     "output_type": "stream",
     "text": [
      "SELECT\n",
      "TOP 10 \n",
      "source_id, ra, dec, parallax\n",
      "FROM \"I/345/gaia2\"\n"
     ]
    }
   ],
   "source": [
    "query1 = \"\"\"SELECT\n",
    "TOP 10 \n",
    "source_id, ra, dec, parallax\n",
    "FROM \\\"I/345/gaia2\\\"\"\"\"\n",
    "print(query1)"
   ]
  },
  {
   "cell_type": "code",
   "execution_count": 12,
   "id": "a75b7562",
   "metadata": {},
   "outputs": [],
   "source": [
    "job1 = tap_service.run_sync(query1)"
   ]
  },
  {
   "cell_type": "code",
   "execution_count": 13,
   "id": "2b710112",
   "metadata": {},
   "outputs": [
    {
     "data": {
      "text/plain": [
       "{'QUERY_STATUS': 'OK',\n",
       " 'PROVIDER': 'CDS',\n",
       " 'QUERY': 'SELECT TOP 10  source_id, ra, dec, parallax FROM \"I/345/gaia2\"'}"
      ]
     },
     "execution_count": 13,
     "metadata": {},
     "output_type": "execute_result"
    }
   ],
   "source": [
    "job1.infos"
   ]
  },
  {
   "cell_type": "code",
   "execution_count": 14,
   "id": "40b77439",
   "metadata": {},
   "outputs": [
    {
     "data": {
      "text/plain": [
       "[<FIELD ID=\"source_id\" datatype=\"long\" name=\"source_id\" ucd=\"meta.id;meta.main\"/>,\n",
       " <FIELD ID=\"ra\" datatype=\"double\" name=\"ra\" ref=\"coosys_gaiadr2\" ucd=\"pos.eq.ra;meta.main\" unit=\"deg\"/>,\n",
       " <FIELD ID=\"dec\" datatype=\"double\" name=\"dec\" ref=\"coosys_gaiadr2\" ucd=\"pos.eq.dec;meta.main\" unit=\"deg\"/>,\n",
       " <FIELD ID=\"parallax\" datatype=\"double\" name=\"parallax\" ucd=\"pos.parallax\" unit=\"mas\"/>]"
      ]
     },
     "execution_count": 14,
     "metadata": {},
     "output_type": "execute_result"
    }
   ],
   "source": [
    "job1.fielddescs"
   ]
  },
  {
   "cell_type": "code",
   "execution_count": 15,
   "id": "485d557d",
   "metadata": {},
   "outputs": [],
   "source": [
    "results1 = job1.to_table()"
   ]
  },
  {
   "cell_type": "code",
   "execution_count": 17,
   "id": "1b4096d4",
   "metadata": {},
   "outputs": [
    {
     "data": {
      "text/html": [
       "<i>Table length=10</i>\n",
       "<table id=\"table4585582208\" class=\"table-striped table-bordered table-condensed\">\n",
       "<thead><tr><th>source_id</th><th>ra</th><th>dec</th><th>parallax</th></tr></thead>\n",
       "<thead><tr><th></th><th>deg</th><th>deg</th><th>mas</th></tr></thead>\n",
       "<thead><tr><th>int64</th><th>float64</th><th>float64</th><th>float64</th></tr></thead>\n",
       "<tr><td>135471519149587456</td><td>44.27783663006</td><td>31.3806184472</td><td>0.0522</td></tr>\n",
       "<tr><td>135471514853916416</td><td>44.27234588784</td><td>31.3847972548</td><td>-0.1367</td></tr>\n",
       "<tr><td>135471549213655808</td><td>44.27692696596</td><td>31.3862181075</td><td>0.9698</td></tr>\n",
       "<tr><td>135471583573391232</td><td>44.26480540106</td><td>31.38265980594</td><td>0.4449</td></tr>\n",
       "<tr><td>135471617933137024</td><td>44.27834355418</td><td>31.39338662446</td><td>0.4264</td></tr>\n",
       "<tr><td>135471622228946048</td><td>44.2796614331</td><td>31.39990398464</td><td>1.1557</td></tr>\n",
       "<tr><td>135471652292864384</td><td>44.22971318907</td><td>31.37532060425</td><td>-0.1837</td></tr>\n",
       "<tr><td>135471652292868480</td><td>44.23210249423</td><td>31.38210552696</td><td>0.0555</td></tr>\n",
       "<tr><td>135471690948280192</td><td>44.24072358824</td><td>31.38214601813</td><td>0.8395</td></tr>\n",
       "<tr><td>135471686652930944</td><td>44.24875057151</td><td>31.38817876092</td><td>1.4454</td></tr>\n",
       "</table>"
      ],
      "text/plain": [
       "<Table length=10>\n",
       "    source_id            ra            dec       parallax\n",
       "                        deg            deg         mas   \n",
       "      int64           float64        float64     float64 \n",
       "------------------ -------------- -------------- --------\n",
       "135471519149587456 44.27783663006  31.3806184472   0.0522\n",
       "135471514853916416 44.27234588784  31.3847972548  -0.1367\n",
       "135471549213655808 44.27692696596  31.3862181075   0.9698\n",
       "135471583573391232 44.26480540106 31.38265980594   0.4449\n",
       "135471617933137024 44.27834355418 31.39338662446   0.4264\n",
       "135471622228946048  44.2796614331 31.39990398464   1.1557\n",
       "135471652292864384 44.22971318907 31.37532060425  -0.1837\n",
       "135471652292868480 44.23210249423 31.38210552696   0.0555\n",
       "135471690948280192 44.24072358824 31.38214601813   0.8395\n",
       "135471686652930944 44.24875057151 31.38817876092   1.4454"
      ]
     },
     "execution_count": 17,
     "metadata": {},
     "output_type": "execute_result"
    }
   ],
   "source": [
    "results1"
   ]
  },
  {
   "cell_type": "markdown",
   "id": "801f656a",
   "metadata": {},
   "source": [
    "Notice these columns have units when appropriate"
   ]
  },
  {
   "cell_type": "markdown",
   "id": "7dfd22cc",
   "metadata": {
    "tags": []
   },
   "source": [
    "# Exercise\n",
    "Read the documentation (https://gea.esac.esa.int/archive/documentation/GDR2/Gaia_archive/chap_datamodel/sec_dm_main_tables/ssec_dm_gaia_source.html) of this table and choose a column that looks interesting to you. Add the column name to the query and run it again. What are the units of the column you selected? What is its data type?"
   ]
  },
  {
   "cell_type": "markdown",
   "id": "3ff80f22",
   "metadata": {},
   "source": [
    "#Solution\n",
    "For example, we can add radial_velocity : Radial velocity (double, Velocity[km/s] ) - Spectroscopic radial velocity in the solar barycentric reference frame. The radial velocity provided is the median value of the radial velocity measurements at all epochs.  \n",
    "query1_with_rv = \"\"\"SELECT   \n",
    "TOP 10  \n",
    "source_id, ra, dec, parallax, radial_velocity  \n",
    "FROM gaiadr2.gaia_source  \n",
    "\"\"\"  "
   ]
  },
  {
   "cell_type": "markdown",
   "id": "38c1edb6",
   "metadata": {},
   "source": [
    "# Asynchronous queries"
   ]
  },
  {
   "cell_type": "markdown",
   "id": "8f1fdce5",
   "metadata": {},
   "source": [
    "* sync limited to 2000 rows\n",
    "* can use count to figure out how many rows will be returned\n",
    "* async results are stored locally for a few days\n",
    "* first use of WHERE: only download the rows you need"
   ]
  },
  {
   "cell_type": "code",
   "execution_count": 18,
   "id": "82897447",
   "metadata": {},
   "outputs": [],
   "source": [
    "query2 = \"\"\"SELECT\n",
    "TOP 3000\n",
    "source_id, ra, dec, pmra, pmdec, parallax\n",
    "FROM \\\"I/345/gaia2\\\"\n",
    "WHERE parallax <1\"\"\""
   ]
  },
  {
   "cell_type": "code",
   "execution_count": 19,
   "id": "9a016394",
   "metadata": {},
   "outputs": [],
   "source": [
    "job2 = tap_service.run_async(query2)"
   ]
  },
  {
   "cell_type": "code",
   "execution_count": 20,
   "id": "d45623dd",
   "metadata": {},
   "outputs": [
    {
     "data": {
      "text/plain": [
       "{'QUERY_STATUS': 'OK',\n",
       " 'PROVIDER': 'CDS',\n",
       " 'QUERY': 'SELECT TOP 3000 source_id, ra, dec, pmra, pmdec, parallax FROM \"I/345/gaia2\" WHERE parallax <1'}"
      ]
     },
     "execution_count": 20,
     "metadata": {},
     "output_type": "execute_result"
    }
   ],
   "source": [
    "job2.infos"
   ]
  },
  {
   "cell_type": "code",
   "execution_count": 21,
   "id": "61f9c64f",
   "metadata": {},
   "outputs": [
    {
     "data": {
      "text/plain": [
       "[<FIELD ID=\"source_id\" datatype=\"long\" name=\"source_id\" ucd=\"meta.id;meta.main\"/>,\n",
       " <FIELD ID=\"ra\" datatype=\"double\" name=\"ra\" ref=\"coosys_gaiadr2\" ucd=\"pos.eq.ra;meta.main\" unit=\"deg\"/>,\n",
       " <FIELD ID=\"dec\" datatype=\"double\" name=\"dec\" ref=\"coosys_gaiadr2\" ucd=\"pos.eq.dec;meta.main\" unit=\"deg\"/>,\n",
       " <FIELD ID=\"pmra\" datatype=\"double\" name=\"pmra\" ref=\"coosys_gaiadr2\" ucd=\"pos.pm;pos.eq.ra\" unit=\"mas / yr\"/>,\n",
       " <FIELD ID=\"pmdec\" datatype=\"double\" name=\"pmdec\" ref=\"coosys_gaiadr2\" ucd=\"pos.pm;pos.eq.dec\" unit=\"mas / yr\"/>,\n",
       " <FIELD ID=\"parallax\" datatype=\"double\" name=\"parallax\" ucd=\"pos.parallax\" unit=\"mas\"/>]"
      ]
     },
     "execution_count": 21,
     "metadata": {},
     "output_type": "execute_result"
    }
   ],
   "source": [
    "job2.fielddescs"
   ]
  },
  {
   "cell_type": "code",
   "execution_count": 22,
   "id": "54627198",
   "metadata": {},
   "outputs": [
    {
     "data": {
      "text/html": [
       "<i>Table length=3000</i>\n",
       "<table id=\"table4586144672\" class=\"table-striped table-bordered table-condensed\">\n",
       "<thead><tr><th>source_id</th><th>ra</th><th>dec</th><th>pmra</th><th>pmdec</th><th>parallax</th></tr></thead>\n",
       "<thead><tr><th></th><th>deg</th><th>deg</th><th>mas / yr</th><th>mas / yr</th><th>mas</th></tr></thead>\n",
       "<thead><tr><th>int64</th><th>float64</th><th>float64</th><th>float64</th><th>float64</th><th>float64</th></tr></thead>\n",
       "<tr><td>4090728411324689792</td><td>274.00370353498</td><td>-21.90304545436</td><td>-380.708</td><td>640.299</td><td>-1856.5756</td></tr>\n",
       "<tr><td>4052499285375616384</td><td>273.22350731748</td><td>-27.04011955991</td><td>1814.623</td><td>132.266</td><td>-1786.9964</td></tr>\n",
       "<tr><td>4059697925504813440</td><td>262.07178056495</td><td>-28.34443767611</td><td>476.243</td><td>350.167</td><td>-1706.6966</td></tr>\n",
       "<tr><td>4089303169338901632</td><td>275.61123203432</td><td>-24.03645016946</td><td>647.939</td><td>-1389.615</td><td>-1621.1692</td></tr>\n",
       "<tr><td>4049954706219787776</td><td>270.76007637661</td><td>-30.7254521201</td><td>1188.279</td><td>-1035.576</td><td>-1511.6861</td></tr>\n",
       "<tr><td>4065007295292484736</td><td>272.68112514411</td><td>-25.21471802626</td><td>1074.65</td><td>-742.094</td><td>-1481.1277</td></tr>\n",
       "<tr><td>...</td><td>...</td><td>...</td><td>...</td><td>...</td><td>...</td></tr>\n",
       "<tr><td>2021623892004471168</td><td>294.97897383293</td><td>25.00535849305</td><td>16.679</td><td>5.743</td><td>-44.7506</td></tr>\n",
       "<tr><td>405363140861201408</td><td>25.9716800283</td><td>48.75690176266</td><td>-39.99</td><td>-56.917</td><td>-44.7427</td></tr>\n",
       "<tr><td>5865116393503408384</td><td>200.36931291244</td><td>-63.87568569469</td><td>18.941</td><td>70.6</td><td>-44.7365</td></tr>\n",
       "<tr><td>1825470128570899328</td><td>292.81443490253</td><td>19.72253200246</td><td>2.539</td><td>-3.575</td><td>-44.7287</td></tr>\n",
       "<tr><td>4150864722251259008</td><td>271.44591021307</td><td>-11.990578127</td><td>39.952</td><td>-8.31</td><td>-44.7217</td></tr>\n",
       "<tr><td>2021253219150346496</td><td>294.73834019553</td><td>25.03085644792</td><td>3.092</td><td>-3.705</td><td>-44.7079</td></tr>\n",
       "</table>"
      ],
      "text/plain": [
       "<Table length=3000>\n",
       "     source_id             ra             dec       ...   pmdec    parallax \n",
       "                          deg             deg       ...  mas / yr    mas    \n",
       "       int64            float64         float64     ...  float64   float64  \n",
       "------------------- --------------- --------------- ... --------- ----------\n",
       "4090728411324689792 274.00370353498 -21.90304545436 ...   640.299 -1856.5756\n",
       "4052499285375616384 273.22350731748 -27.04011955991 ...   132.266 -1786.9964\n",
       "4059697925504813440 262.07178056495 -28.34443767611 ...   350.167 -1706.6966\n",
       "4089303169338901632 275.61123203432 -24.03645016946 ... -1389.615 -1621.1692\n",
       "4049954706219787776 270.76007637661  -30.7254521201 ... -1035.576 -1511.6861\n",
       "4065007295292484736 272.68112514411 -25.21471802626 ...  -742.094 -1481.1277\n",
       "                ...             ...             ... ...       ...        ...\n",
       "2021623892004471168 294.97897383293  25.00535849305 ...     5.743   -44.7506\n",
       " 405363140861201408   25.9716800283  48.75690176266 ...   -56.917   -44.7427\n",
       "5865116393503408384 200.36931291244 -63.87568569469 ...      70.6   -44.7365\n",
       "1825470128570899328 292.81443490253  19.72253200246 ...    -3.575   -44.7287\n",
       "4150864722251259008 271.44591021307   -11.990578127 ...     -8.31   -44.7217\n",
       "2021253219150346496 294.73834019553  25.03085644792 ...    -3.705   -44.7079"
      ]
     },
     "execution_count": 22,
     "metadata": {},
     "output_type": "execute_result"
    }
   ],
   "source": [
    "results2 = job2.to_table()\n",
    "results2"
   ]
  },
  {
   "cell_type": "markdown",
   "id": "786d8d19",
   "metadata": {},
   "source": [
    "### Exercise\n",
    "\n",
    "The clauses in a query have to be in the right order. Go back and change the order of the clauses in `query2` and run it again. The modified query should fail, but notice that you don’t get much useful debugging information.\n",
    "\n",
    "For this reason, developing and debugging ADQL queries can be really hard. A few suggestions that might help:\n",
    "* Whenever possible, start with a working query, either an example you find online or a query you have used in the past.\n",
    "* Make small changes and test each change before you continue.\n",
    "* While you are debugging, use TOP to limit the number of rows in the result. That will make each test run faster, which reduces your development time.\n",
    "* Launching test queries synchronously might make them start faster, too."
   ]
  },
  {
   "cell_type": "code",
   "execution_count": 23,
   "id": "26e3f674",
   "metadata": {},
   "outputs": [],
   "source": [
    "query2_erroneous = \"\"\"SELECT \n",
    "TOP 3000\n",
    "WHERE parallax < 1\n",
    "source_id, ref_epoch, ra, dec, parallax\n",
    "FROM \\\"I/345/gaia2\\\"\n",
    "\"\"\""
   ]
  },
  {
   "cell_type": "code",
   "execution_count": 24,
   "id": "4a4efee7",
   "metadata": {},
   "outputs": [
    {
     "name": "stderr",
     "output_type": "stream",
     "text": [
      "WARNING: UnknownElementWarning: None:28:1: UnknownElementWarning: Unknown element errorSummary [pyvo.utils.xml.elements]\n",
      "WARNING: UnknownElementWarning: None:29:2: UnknownElementWarning: Unknown element message [pyvo.utils.xml.elements]\n"
     ]
    },
    {
     "ename": "DALQueryError",
     "evalue": "Query Error",
     "output_type": "error",
     "traceback": [
      "\u001b[0;31m---------------------------------------------------------------------------\u001b[0m",
      "\u001b[0;31mDALQueryError\u001b[0m                             Traceback (most recent call last)",
      "\u001b[0;32m/var/folders/cc/mq9wmn5j0ys2frsvjcw4m4hw0000gn/T/ipykernel_9899/3887233553.py\u001b[0m in \u001b[0;36m<module>\u001b[0;34m\u001b[0m\n\u001b[0;32m----> 1\u001b[0;31m \u001b[0mjob2_err\u001b[0m \u001b[0;34m=\u001b[0m \u001b[0mtap_service\u001b[0m\u001b[0;34m.\u001b[0m\u001b[0mrun_async\u001b[0m\u001b[0;34m(\u001b[0m\u001b[0mquery2_erroneous\u001b[0m\u001b[0;34m)\u001b[0m\u001b[0;34m\u001b[0m\u001b[0;34m\u001b[0m\u001b[0m\n\u001b[0m",
      "\u001b[0;32m~/opt/anaconda3/envs/AstronomicalData2/lib/python3.9/site-packages/pyvo/dal/tap.py\u001b[0m in \u001b[0;36mrun_async\u001b[0;34m(self, query, language, maxrec, uploads, **keywords)\u001b[0m\n\u001b[1;32m    291\u001b[0m             self.baseurl, query, language, maxrec, uploads, self._session, **keywords)\n\u001b[1;32m    292\u001b[0m         \u001b[0mjob\u001b[0m \u001b[0;34m=\u001b[0m \u001b[0mjob\u001b[0m\u001b[0;34m.\u001b[0m\u001b[0mrun\u001b[0m\u001b[0;34m(\u001b[0m\u001b[0;34m)\u001b[0m\u001b[0;34m.\u001b[0m\u001b[0mwait\u001b[0m\u001b[0;34m(\u001b[0m\u001b[0;34m)\u001b[0m\u001b[0;34m\u001b[0m\u001b[0;34m\u001b[0m\u001b[0m\n\u001b[0;32m--> 293\u001b[0;31m         \u001b[0mjob\u001b[0m\u001b[0;34m.\u001b[0m\u001b[0mraise_if_error\u001b[0m\u001b[0;34m(\u001b[0m\u001b[0;34m)\u001b[0m\u001b[0;34m\u001b[0m\u001b[0;34m\u001b[0m\u001b[0m\n\u001b[0m\u001b[1;32m    294\u001b[0m         \u001b[0mresult\u001b[0m \u001b[0;34m=\u001b[0m \u001b[0mjob\u001b[0m\u001b[0;34m.\u001b[0m\u001b[0mfetch_result\u001b[0m\u001b[0;34m(\u001b[0m\u001b[0;34m)\u001b[0m\u001b[0;34m\u001b[0m\u001b[0;34m\u001b[0m\u001b[0m\n\u001b[1;32m    295\u001b[0m         \u001b[0mjob\u001b[0m\u001b[0;34m.\u001b[0m\u001b[0mdelete\u001b[0m\u001b[0;34m(\u001b[0m\u001b[0;34m)\u001b[0m\u001b[0;34m\u001b[0m\u001b[0;34m\u001b[0m\u001b[0m\n",
      "\u001b[0;32m~/opt/anaconda3/envs/AstronomicalData2/lib/python3.9/site-packages/pyvo/dal/tap.py\u001b[0m in \u001b[0;36mraise_if_error\u001b[0;34m(self)\u001b[0m\n\u001b[1;32m    822\u001b[0m         \"\"\"\n\u001b[1;32m    823\u001b[0m         \u001b[0;32mif\u001b[0m \u001b[0mself\u001b[0m\u001b[0;34m.\u001b[0m\u001b[0mphase\u001b[0m \u001b[0;32min\u001b[0m \u001b[0;34m{\u001b[0m\u001b[0;34m\"ERROR\"\u001b[0m\u001b[0;34m,\u001b[0m \u001b[0;34m\"ABORTED\"\u001b[0m\u001b[0;34m}\u001b[0m\u001b[0;34m:\u001b[0m\u001b[0;34m\u001b[0m\u001b[0;34m\u001b[0m\u001b[0m\n\u001b[0;32m--> 824\u001b[0;31m             \u001b[0;32mraise\u001b[0m \u001b[0mDALQueryError\u001b[0m\u001b[0;34m(\u001b[0m\u001b[0;34m\"Query Error\"\u001b[0m\u001b[0;34m,\u001b[0m \u001b[0mself\u001b[0m\u001b[0;34m.\u001b[0m\u001b[0mphase\u001b[0m\u001b[0;34m,\u001b[0m \u001b[0mself\u001b[0m\u001b[0;34m.\u001b[0m\u001b[0murl\u001b[0m\u001b[0;34m)\u001b[0m\u001b[0;34m\u001b[0m\u001b[0;34m\u001b[0m\u001b[0m\n\u001b[0m\u001b[1;32m    825\u001b[0m \u001b[0;34m\u001b[0m\u001b[0m\n\u001b[1;32m    826\u001b[0m     \u001b[0;32mdef\u001b[0m \u001b[0mfetch_result\u001b[0m\u001b[0;34m(\u001b[0m\u001b[0mself\u001b[0m\u001b[0;34m)\u001b[0m\u001b[0;34m:\u001b[0m\u001b[0;34m\u001b[0m\u001b[0;34m\u001b[0m\u001b[0m\n",
      "\u001b[0;31mDALQueryError\u001b[0m: Query Error"
     ]
    }
   ],
   "source": [
    "job2_err = tap_service.run_async(query2_erroneous)"
   ]
  },
  {
   "cell_type": "markdown",
   "id": "adc1b5a1",
   "metadata": {},
   "source": [
    "`WHERE`operators:\n",
    "* \\>, <, >=, <=, != or <>\n",
    "* AND / OR\n",
    "* NOT: invert comparison results\n"
   ]
  },
  {
   "cell_type": "markdown",
   "id": "42c1da7d",
   "metadata": {},
   "source": [
    "Read about SQL operators here (https://www.w3schools.com/sql/sql_operators.asp) and then modify the previous query to select rows where bp_rp is between -0.75 and 2."
   ]
  },
  {
   "cell_type": "code",
   "execution_count": 11,
   "id": "63cdabd5",
   "metadata": {},
   "outputs": [],
   "source": [
    "#Solution\n",
    "query2_sol1 = \"\"\"SELECT \n",
    "TOP 10\n",
    "source_id, ref_epoch, ra, dec, parallax\n",
    "FROM gaiadr2.gaia_source\n",
    "WHERE parallax < 1 \n",
    "  AND bp_rp > -0.75 AND bp_rp < 2\n",
    "\"\"\"\n",
    "\n",
    "# OR \n",
    "\n",
    "query2_sol2 = \"\"\"SELECT \n",
    "TOP 10\n",
    "source_id, ref_epoch, ra, dec, parallax\n",
    "FROM gaiadr2.gaia_source\n",
    "WHERE parallax < 1 \n",
    "  AND bp_rp BETWEEN -0.75 AND 2\n",
    "\"\"\""
   ]
  },
  {
   "cell_type": "markdown",
   "id": "47232dcc",
   "metadata": {},
   "source": [
    "Stars with this color at GD-1's distance would be hard to detect because they are faint --> eliminate foreground stars"
   ]
  },
  {
   "cell_type": "markdown",
   "id": "3ad94763",
   "metadata": {},
   "source": [
    "# Formatting queries"
   ]
  },
  {
   "cell_type": "code",
   "execution_count": 5,
   "id": "cb8621dd",
   "metadata": {},
   "outputs": [],
   "source": [
    "columns = 'source_id, ra, dec, pmra, pmdec, parallax'"
   ]
  },
  {
   "cell_type": "code",
   "execution_count": 6,
   "id": "085b07bf",
   "metadata": {},
   "outputs": [],
   "source": [
    "query3_base = \"\"\"SELECT\n",
    "TOP 10\n",
    "{columns}\n",
    "FROM \\\"I/345/gaia2\\\"\n",
    "WHERE parallax < 1\n",
    "AND bp_rp*1 BETWEEN -0.75 AND 2\n",
    "\"\"\""
   ]
  },
  {
   "cell_type": "code",
   "execution_count": 7,
   "id": "702884ab",
   "metadata": {},
   "outputs": [],
   "source": [
    "query3 = query3_base.format(columns=columns)"
   ]
  },
  {
   "cell_type": "code",
   "execution_count": 8,
   "id": "0f4a054d",
   "metadata": {},
   "outputs": [
    {
     "data": {
      "text/plain": [
       "'SELECT\\nTOP 10\\nsource_id, ra, dec, pmra, pmdec, parallax\\nFROM \"I/345/gaia2\"\\nWHERE parallax < 1\\nAND bp_rp*1 BETWEEN -0.75 AND 2\\n'"
      ]
     },
     "execution_count": 8,
     "metadata": {},
     "output_type": "execute_result"
    }
   ],
   "source": [
    "query3"
   ]
  },
  {
   "cell_type": "code",
   "execution_count": 9,
   "id": "46665700",
   "metadata": {},
   "outputs": [
    {
     "name": "stdout",
     "output_type": "stream",
     "text": [
      "SELECT\n",
      "TOP 10\n",
      "source_id, ra, dec, pmra, pmdec, parallax\n",
      "FROM \"I/345/gaia2\"\n",
      "WHERE parallax < 1\n",
      "AND bp_rp*1 BETWEEN -0.75 AND 2\n",
      "\n"
     ]
    }
   ],
   "source": [
    "print(query3)"
   ]
  },
  {
   "cell_type": "code",
   "execution_count": 10,
   "id": "5c7d7faa",
   "metadata": {},
   "outputs": [],
   "source": [
    "job3 = tap_service.run_sync(query3)"
   ]
  },
  {
   "cell_type": "code",
   "execution_count": 11,
   "id": "d6e681dd",
   "metadata": {},
   "outputs": [
    {
     "data": {
      "text/plain": [
       "{'QUERY_STATUS': 'OK',\n",
       " 'PROVIDER': 'CDS',\n",
       " 'QUERY': 'SELECT TOP 10 source_id, ra, dec, pmra, pmdec, parallax FROM \"I/345/gaia2\" WHERE parallax < 1 AND bp_rp*1 BETWEEN -0.75 AND 2 '}"
      ]
     },
     "execution_count": 11,
     "metadata": {},
     "output_type": "execute_result"
    }
   ],
   "source": [
    "job3.infos"
   ]
  },
  {
   "cell_type": "code",
   "execution_count": 12,
   "id": "9397dcb1",
   "metadata": {},
   "outputs": [],
   "source": [
    "results3 = job3.to_table()"
   ]
  },
  {
   "cell_type": "code",
   "execution_count": 13,
   "id": "d470de69",
   "metadata": {},
   "outputs": [
    {
     "data": {
      "text/html": [
       "<i>Table length=10</i>\n",
       "<table id=\"table4447220256\" class=\"table-striped table-bordered table-condensed\">\n",
       "<thead><tr><th>source_id</th><th>ra</th><th>dec</th><th>pmra</th><th>pmdec</th><th>parallax</th></tr></thead>\n",
       "<thead><tr><th></th><th>deg</th><th>deg</th><th>mas / yr</th><th>mas / yr</th><th>mas</th></tr></thead>\n",
       "<thead><tr><th>int64</th><th>float64</th><th>float64</th><th>float64</th><th>float64</th><th>float64</th></tr></thead>\n",
       "<tr><td>4065007295292484736</td><td>272.68112514411</td><td>-25.21471802626</td><td>1074.65</td><td>-742.094</td><td>-1481.1277</td></tr>\n",
       "<tr><td>4089995896030234624</td><td>277.47709019321</td><td>-22.31726676663</td><td>176.148</td><td>-75.61</td><td>-1303.7501</td></tr>\n",
       "<tr><td>4103265386511561472</td><td>278.9009174759</td><td>-14.98276694189</td><td>159.992</td><td>-126.24</td><td>-1212.0058</td></tr>\n",
       "<tr><td>4064704104946409728</td><td>273.98353695245</td><td>-25.76445838489</td><td>863.318</td><td>-573.93</td><td>-1170.3647</td></tr>\n",
       "<tr><td>4089352058964259328</td><td>275.37301547876</td><td>-24.03866349786</td><td>1650.896</td><td>1364.132</td><td>-1142.5851</td></tr>\n",
       "<tr><td>234052082432242176</td><td>63.56813620225</td><td>46.75409674382</td><td>-486.709</td><td>349.81</td><td>-1051.0301</td></tr>\n",
       "<tr><td>6727658835736018304</td><td>273.4136374329</td><td>-38.37560146276</td><td>-61.859</td><td>-65.886</td><td>-1041.7257</td></tr>\n",
       "<tr><td>4050001298041477248</td><td>271.46203146129</td><td>-30.07578497878</td><td>-1698.109</td><td>-1425.887</td><td>-932.8031</td></tr>\n",
       "<tr><td>4197974878501154560</td><td>288.5558728788</td><td>-12.58188071755</td><td>259.481</td><td>74.743</td><td>-915.859</td></tr>\n",
       "<tr><td>4052429427794816000</td><td>273.47107023179</td><td>-27.37362948985</td><td>632.087</td><td>-426.837</td><td>-854.2021</td></tr>\n",
       "</table>"
      ],
      "text/plain": [
       "<Table length=10>\n",
       "     source_id             ra             dec       ...   pmdec    parallax \n",
       "                          deg             deg       ...  mas / yr    mas    \n",
       "       int64            float64         float64     ...  float64   float64  \n",
       "------------------- --------------- --------------- ... --------- ----------\n",
       "4065007295292484736 272.68112514411 -25.21471802626 ...  -742.094 -1481.1277\n",
       "4089995896030234624 277.47709019321 -22.31726676663 ...    -75.61 -1303.7501\n",
       "4103265386511561472  278.9009174759 -14.98276694189 ...   -126.24 -1212.0058\n",
       "4064704104946409728 273.98353695245 -25.76445838489 ...   -573.93 -1170.3647\n",
       "4089352058964259328 275.37301547876 -24.03866349786 ...  1364.132 -1142.5851\n",
       " 234052082432242176  63.56813620225  46.75409674382 ...    349.81 -1051.0301\n",
       "6727658835736018304  273.4136374329 -38.37560146276 ...   -65.886 -1041.7257\n",
       "4050001298041477248 271.46203146129 -30.07578497878 ... -1425.887  -932.8031\n",
       "4197974878501154560  288.5558728788 -12.58188071755 ...    74.743   -915.859\n",
       "4052429427794816000 273.47107023179 -27.37362948985 ...  -426.837  -854.2021"
      ]
     },
     "execution_count": 13,
     "metadata": {},
     "output_type": "execute_result"
    }
   ],
   "source": [
    "results3"
   ]
  },
  {
   "cell_type": "markdown",
   "id": "d3e0fb8f",
   "metadata": {},
   "source": [
    "### Exercise\n",
    "This query always selects sources with parallax less than 1. But suppose you want to take that upper bound as an input.\n",
    "Modify `query3_base` to replace `1` with a format specifier like `{max_parallax}`. Now, when you call `format`, add a keyword argument that assigns a value to max_parallax, and confirm that the format specifier gets replaced with the value you provide."
   ]
  },
  {
   "cell_type": "code",
   "execution_count": null,
   "id": "02ac837c",
   "metadata": {},
   "outputs": [],
   "source": [
    "#Solution\n",
    "query_base_sol = \"\"\"SELECT \n",
    "TOP 10\n",
    "{columns}\n",
    "FROM gaiadr2.gaia_source\n",
    "WHERE parallax < {max_parallax} AND \n",
    "bp_rp*1 BETWEEN -0.75 AND 2\n",
    "\"\"\"\n",
    "\n",
    "query_sol = query_base_sol.format(columns=columns,\n",
    "                          max_parallax=0.5)\n",
    "print(query_sol)"
   ]
  }
 ],
 "metadata": {
  "kernelspec": {
   "display_name": "AstronomicalData2",
   "language": "python",
   "name": "astronomicaldata2"
  },
  "language_info": {
   "codemirror_mode": {
    "name": "ipython",
    "version": 3
   },
   "file_extension": ".py",
   "mimetype": "text/x-python",
   "name": "python",
   "nbconvert_exporter": "python",
   "pygments_lexer": "ipython3",
   "version": "3.9.6"
  }
 },
 "nbformat": 4,
 "nbformat_minor": 5
}
