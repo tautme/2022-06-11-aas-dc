{
 "cells": [
  {
   "cell_type": "markdown",
   "id": "f8173c85",
   "metadata": {},
   "source": [
    "# Episode 2: Coordinate Transformations"
   ]
  },
  {
   "cell_type": "markdown",
   "id": "e045cf4d",
   "metadata": {},
   "source": [
    "Outline\n",
    "\n",
    "- cone search\n",
    "- Use `Quantity` objects to represent measurements with units\n",
    "- Use Astropy to **convert coordinates** from one frame to another\n",
    "- Use ADQL keywords `POLYGON` `CONTAINS` `POINT`, to select region in sky\n",
    "- store results in **FITS** file"
   ]
  },
  {
   "cell_type": "markdown",
   "id": "ff7723c9",
   "metadata": {},
   "source": [
    "## Working with Units"
   ]
  },
  {
   "cell_type": "markdown",
   "id": "97b711f4",
   "metadata": {},
   "source": [
    "work with physical quantities: $30 ^\\circ$\n",
    "- 2 parts: value and a unit\n",
    "- value + unit = quantity\n",
    "- **Astropy** provides tools for including units explicitly in computations, which makes it possible to detect errors before they cause disaters. https://en.wikipedia.org/wiki/Mars_Climate_Orbiter#Cause_of_failure"
   ]
  },
  {
   "cell_type": "code",
   "execution_count": 68,
   "id": "0ad164d7",
   "metadata": {},
   "outputs": [],
   "source": [
    "import astropy.units as u"
   ]
  },
  {
   "cell_type": "markdown",
   "id": "02daf984",
   "metadata": {},
   "source": [
    "`u` is an object that contains most common units and all SI units.\n",
    "\n",
    "use `dir` to list - https://docs.astropy.org/en/stable/units/"
   ]
  },
  {
   "cell_type": "code",
   "execution_count": 69,
   "id": "f17213c2",
   "metadata": {},
   "outputs": [
    {
     "data": {
      "text/plain": [
       "['A',\n",
       " 'AA',\n",
       " 'AB',\n",
       " 'ABflux',\n",
       " 'ABmag',\n",
       " 'AU',\n",
       " 'Angstrom',\n",
       " 'B',\n",
       " 'Ba',\n",
       " 'Barye',\n",
       " 'Bi',\n",
       " 'Biot',\n",
       " 'Bol',\n",
       " 'Bq',\n",
       " 'C',\n",
       " 'Celsius',\n",
       " 'Ci',\n",
       " 'CompositeUnit',\n",
       " 'D',\n",
       " 'DN',\n",
       " 'Da',\n",
       " 'Dalton',\n",
       " 'Debye',\n",
       " 'Decibel',\n",
       " 'DecibelUnit',\n",
       " 'Dex',\n",
       " 'DexUnit',\n",
       " 'EA',\n",
       " 'EAU',\n",
       " 'EB',\n",
       " 'EBa',\n",
       " 'EC',\n",
       " 'ED',\n",
       " 'EF',\n",
       " 'EG',\n",
       " 'EGal',\n",
       " 'EH',\n",
       " 'EHz',\n",
       " 'EJ',\n",
       " 'EJy',\n",
       " 'EK',\n",
       " 'EL',\n",
       " 'EN',\n",
       " 'EOhm',\n",
       " 'EP',\n",
       " 'EPa',\n",
       " 'ER',\n",
       " 'ERy',\n",
       " 'ES',\n",
       " 'ESt',\n",
       " 'ET',\n",
       " 'EV',\n",
       " 'EW',\n",
       " 'EWb',\n",
       " 'Ea',\n",
       " 'Eadu',\n",
       " 'Earcmin',\n",
       " 'Earcsec',\n",
       " 'Eau',\n",
       " 'Eb',\n",
       " 'Ebarn',\n",
       " 'Ebeam',\n",
       " 'Ebin',\n",
       " 'Ebit',\n",
       " 'Ebyte',\n",
       " 'Ecd',\n",
       " 'Echan',\n",
       " 'Ecount',\n",
       " 'Ect',\n",
       " 'Ed',\n",
       " 'Edeg',\n",
       " 'Edyn',\n",
       " 'EeV',\n",
       " 'Eerg',\n",
       " 'Eg',\n",
       " 'Eh',\n",
       " 'EiB',\n",
       " 'Eib',\n",
       " 'Eibit',\n",
       " 'Eibyte',\n",
       " 'Ek',\n",
       " 'El',\n",
       " 'Elm',\n",
       " 'Elx',\n",
       " 'Elyr',\n",
       " 'Em',\n",
       " 'Emag',\n",
       " 'Emin',\n",
       " 'Emol',\n",
       " 'Eohm',\n",
       " 'Epc',\n",
       " 'Eph',\n",
       " 'Ephoton',\n",
       " 'Epix',\n",
       " 'Epixel',\n",
       " 'Equivalency',\n",
       " 'Erad',\n",
       " 'Es',\n",
       " 'Esr',\n",
       " 'Eu',\n",
       " 'Evox',\n",
       " 'Evoxel',\n",
       " 'Eyr',\n",
       " 'F',\n",
       " 'Farad',\n",
       " 'Fr',\n",
       " 'Franklin',\n",
       " 'FunctionQuantity',\n",
       " 'FunctionUnitBase',\n",
       " 'G',\n",
       " 'GA',\n",
       " 'GAU',\n",
       " 'GB',\n",
       " 'GBa',\n",
       " 'GC',\n",
       " 'GD',\n",
       " 'GF',\n",
       " 'GG',\n",
       " 'GGal',\n",
       " 'GH',\n",
       " 'GHz',\n",
       " 'GJ',\n",
       " 'GJy',\n",
       " 'GK',\n",
       " 'GL',\n",
       " 'GN',\n",
       " 'GOhm',\n",
       " 'GP',\n",
       " 'GPa',\n",
       " 'GR',\n",
       " 'GRy',\n",
       " 'GS',\n",
       " 'GSt',\n",
       " 'GT',\n",
       " 'GV',\n",
       " 'GW',\n",
       " 'GWb',\n",
       " 'Ga',\n",
       " 'Gadu',\n",
       " 'Gal',\n",
       " 'Garcmin',\n",
       " 'Garcsec',\n",
       " 'Gau',\n",
       " 'Gauss',\n",
       " 'Gb',\n",
       " 'Gbarn',\n",
       " 'Gbeam',\n",
       " 'Gbin',\n",
       " 'Gbit',\n",
       " 'Gbyte',\n",
       " 'Gcd',\n",
       " 'Gchan',\n",
       " 'Gcount',\n",
       " 'Gct',\n",
       " 'Gd',\n",
       " 'Gdeg',\n",
       " 'Gdyn',\n",
       " 'GeV',\n",
       " 'Gerg',\n",
       " 'Gg',\n",
       " 'Gh',\n",
       " 'GiB',\n",
       " 'Gib',\n",
       " 'Gibit',\n",
       " 'Gibyte',\n",
       " 'Gk',\n",
       " 'Gl',\n",
       " 'Glm',\n",
       " 'Glx',\n",
       " 'Glyr',\n",
       " 'Gm',\n",
       " 'Gmag',\n",
       " 'Gmin',\n",
       " 'Gmol',\n",
       " 'Gohm',\n",
       " 'Gpc',\n",
       " 'Gph',\n",
       " 'Gphoton',\n",
       " 'Gpix',\n",
       " 'Gpixel',\n",
       " 'Grad',\n",
       " 'Gs',\n",
       " 'Gsr',\n",
       " 'Gu',\n",
       " 'Gvox',\n",
       " 'Gvoxel',\n",
       " 'Gyr',\n",
       " 'H',\n",
       " 'Henry',\n",
       " 'Hertz',\n",
       " 'Hz',\n",
       " 'IrreducibleUnit',\n",
       " 'J',\n",
       " 'Jansky',\n",
       " 'Joule',\n",
       " 'Jy',\n",
       " 'K',\n",
       " 'Kayser',\n",
       " 'Kelvin',\n",
       " 'KiB',\n",
       " 'Kib',\n",
       " 'Kibit',\n",
       " 'Kibyte',\n",
       " 'L',\n",
       " 'L_bol',\n",
       " 'L_sun',\n",
       " 'LogQuantity',\n",
       " 'LogUnit',\n",
       " 'Lsun',\n",
       " 'MA',\n",
       " 'MAU',\n",
       " 'MB',\n",
       " 'MBa',\n",
       " 'MC',\n",
       " 'MD',\n",
       " 'MF',\n",
       " 'MG',\n",
       " 'MGal',\n",
       " 'MH',\n",
       " 'MHz',\n",
       " 'MJ',\n",
       " 'MJy',\n",
       " 'MK',\n",
       " 'ML',\n",
       " 'MN',\n",
       " 'MOhm',\n",
       " 'MP',\n",
       " 'MPa',\n",
       " 'MR',\n",
       " 'MRy',\n",
       " 'MS',\n",
       " 'MSt',\n",
       " 'MT',\n",
       " 'MV',\n",
       " 'MW',\n",
       " 'MWb',\n",
       " 'M_bol',\n",
       " 'M_e',\n",
       " 'M_earth',\n",
       " 'M_jup',\n",
       " 'M_jupiter',\n",
       " 'M_p',\n",
       " 'M_sun',\n",
       " 'Ma',\n",
       " 'Madu',\n",
       " 'MagUnit',\n",
       " 'Magnitude',\n",
       " 'Marcmin',\n",
       " 'Marcsec',\n",
       " 'Mau',\n",
       " 'Mb',\n",
       " 'Mbarn',\n",
       " 'Mbeam',\n",
       " 'Mbin',\n",
       " 'Mbit',\n",
       " 'Mbyte',\n",
       " 'Mcd',\n",
       " 'Mchan',\n",
       " 'Mcount',\n",
       " 'Mct',\n",
       " 'Md',\n",
       " 'Mdeg',\n",
       " 'Mdyn',\n",
       " 'MeV',\n",
       " 'Mearth',\n",
       " 'Merg',\n",
       " 'Mg',\n",
       " 'Mh',\n",
       " 'MiB',\n",
       " 'Mib',\n",
       " 'Mibit',\n",
       " 'Mibyte',\n",
       " 'Mjup',\n",
       " 'Mjupiter',\n",
       " 'Mk',\n",
       " 'Ml',\n",
       " 'Mlm',\n",
       " 'Mlx',\n",
       " 'Mlyr',\n",
       " 'Mm',\n",
       " 'Mmag',\n",
       " 'Mmin',\n",
       " 'Mmol',\n",
       " 'Mohm',\n",
       " 'Mpc',\n",
       " 'Mph',\n",
       " 'Mphoton',\n",
       " 'Mpix',\n",
       " 'Mpixel',\n",
       " 'Mrad',\n",
       " 'Ms',\n",
       " 'Msr',\n",
       " 'Msun',\n",
       " 'Mu',\n",
       " 'Mvox',\n",
       " 'Mvoxel',\n",
       " 'Myr',\n",
       " 'N',\n",
       " 'NamedUnit',\n",
       " 'Newton',\n",
       " 'Ohm',\n",
       " 'P',\n",
       " 'PA',\n",
       " 'PAU',\n",
       " 'PB',\n",
       " 'PBa',\n",
       " 'PC',\n",
       " 'PD',\n",
       " 'PF',\n",
       " 'PG',\n",
       " 'PGal',\n",
       " 'PH',\n",
       " 'PHz',\n",
       " 'PJ',\n",
       " 'PJy',\n",
       " 'PK',\n",
       " 'PL',\n",
       " 'PN',\n",
       " 'POhm',\n",
       " 'PP',\n",
       " 'PPa',\n",
       " 'PR',\n",
       " 'PRy',\n",
       " 'PS',\n",
       " 'PSt',\n",
       " 'PT',\n",
       " 'PV',\n",
       " 'PW',\n",
       " 'PWb',\n",
       " 'Pa',\n",
       " 'Padu',\n",
       " 'Parcmin',\n",
       " 'Parcsec',\n",
       " 'Pascal',\n",
       " 'Pau',\n",
       " 'Pb',\n",
       " 'Pbarn',\n",
       " 'Pbeam',\n",
       " 'Pbin',\n",
       " 'Pbit',\n",
       " 'Pbyte',\n",
       " 'Pcd',\n",
       " 'Pchan',\n",
       " 'Pcount',\n",
       " 'Pct',\n",
       " 'Pd',\n",
       " 'Pdeg',\n",
       " 'Pdyn',\n",
       " 'PeV',\n",
       " 'Perg',\n",
       " 'Pg',\n",
       " 'Ph',\n",
       " 'PhysicalType',\n",
       " 'PiB',\n",
       " 'Pib',\n",
       " 'Pibit',\n",
       " 'Pibyte',\n",
       " 'Pk',\n",
       " 'Pl',\n",
       " 'Plm',\n",
       " 'Plx',\n",
       " 'Plyr',\n",
       " 'Pm',\n",
       " 'Pmag',\n",
       " 'Pmin',\n",
       " 'Pmol',\n",
       " 'Pohm',\n",
       " 'Ppc',\n",
       " 'Pph',\n",
       " 'Pphoton',\n",
       " 'Ppix',\n",
       " 'Ppixel',\n",
       " 'Prad',\n",
       " 'PrefixUnit',\n",
       " 'Ps',\n",
       " 'Psr',\n",
       " 'Pu',\n",
       " 'Pvox',\n",
       " 'Pvoxel',\n",
       " 'Pyr',\n",
       " 'Quantity',\n",
       " 'QuantityInfo',\n",
       " 'QuantityInfoBase',\n",
       " 'R',\n",
       " 'R_earth',\n",
       " 'R_jup',\n",
       " 'R_jupiter',\n",
       " 'R_sun',\n",
       " 'Rayleigh',\n",
       " 'Rearth',\n",
       " 'Rjup',\n",
       " 'Rjupiter',\n",
       " 'Rsun',\n",
       " 'Ry',\n",
       " 'S',\n",
       " 'ST',\n",
       " 'STflux',\n",
       " 'STmag',\n",
       " 'Siemens',\n",
       " 'SpecificTypeQuantity',\n",
       " 'St',\n",
       " 'Sun',\n",
       " 'T',\n",
       " 'TA',\n",
       " 'TAU',\n",
       " 'TB',\n",
       " 'TBa',\n",
       " 'TC',\n",
       " 'TD',\n",
       " 'TF',\n",
       " 'TG',\n",
       " 'TGal',\n",
       " 'TH',\n",
       " 'THz',\n",
       " 'TJ',\n",
       " 'TJy',\n",
       " 'TK',\n",
       " 'TL',\n",
       " 'TN',\n",
       " 'TOhm',\n",
       " 'TP',\n",
       " 'TPa',\n",
       " 'TR',\n",
       " 'TRy',\n",
       " 'TS',\n",
       " 'TSt',\n",
       " 'TT',\n",
       " 'TV',\n",
       " 'TW',\n",
       " 'TWb',\n",
       " 'Ta',\n",
       " 'Tadu',\n",
       " 'Tarcmin',\n",
       " 'Tarcsec',\n",
       " 'Tau',\n",
       " 'Tb',\n",
       " 'Tbarn',\n",
       " 'Tbeam',\n",
       " 'Tbin',\n",
       " 'Tbit',\n",
       " 'Tbyte',\n",
       " 'Tcd',\n",
       " 'Tchan',\n",
       " 'Tcount',\n",
       " 'Tct',\n",
       " 'Td',\n",
       " 'Tdeg',\n",
       " 'Tdyn',\n",
       " 'TeV',\n",
       " 'Terg',\n",
       " 'Tesla',\n",
       " 'Tg',\n",
       " 'Th',\n",
       " 'TiB',\n",
       " 'Tib',\n",
       " 'Tibit',\n",
       " 'Tibyte',\n",
       " 'Tk',\n",
       " 'Tl',\n",
       " 'Tlm',\n",
       " 'Tlx',\n",
       " 'Tlyr',\n",
       " 'Tm',\n",
       " 'Tmag',\n",
       " 'Tmin',\n",
       " 'Tmol',\n",
       " 'Tohm',\n",
       " 'Torr',\n",
       " 'Tpc',\n",
       " 'Tph',\n",
       " 'Tphoton',\n",
       " 'Tpix',\n",
       " 'Tpixel',\n",
       " 'Trad',\n",
       " 'Ts',\n",
       " 'Tsr',\n",
       " 'Tu',\n",
       " 'Tvox',\n",
       " 'Tvoxel',\n",
       " 'Tyr',\n",
       " 'Unit',\n",
       " 'UnitBase',\n",
       " 'UnitConversionError',\n",
       " 'UnitTypeError',\n",
       " 'UnitsError',\n",
       " 'UnitsWarning',\n",
       " 'UnrecognizedUnit',\n",
       " 'V',\n",
       " 'Volt',\n",
       " 'W',\n",
       " 'Watt',\n",
       " 'Wb',\n",
       " 'Weber',\n",
       " 'YA',\n",
       " 'YAU',\n",
       " 'YB',\n",
       " 'YBa',\n",
       " 'YC',\n",
       " 'YD',\n",
       " 'YF',\n",
       " 'YG',\n",
       " 'YGal',\n",
       " 'YH',\n",
       " 'YHz',\n",
       " 'YJ',\n",
       " 'YJy',\n",
       " 'YK',\n",
       " 'YL',\n",
       " 'YN',\n",
       " 'YOhm',\n",
       " 'YP',\n",
       " 'YPa',\n",
       " 'YR',\n",
       " 'YRy',\n",
       " 'YS',\n",
       " 'YSt',\n",
       " 'YT',\n",
       " 'YV',\n",
       " 'YW',\n",
       " 'YWb',\n",
       " 'Ya',\n",
       " 'Yadu',\n",
       " 'Yarcmin',\n",
       " 'Yarcsec',\n",
       " 'Yau',\n",
       " 'Yb',\n",
       " 'Ybarn',\n",
       " 'Ybeam',\n",
       " 'Ybin',\n",
       " 'Ybit',\n",
       " 'Ybyte',\n",
       " 'Ycd',\n",
       " 'Ychan',\n",
       " 'Ycount',\n",
       " 'Yct',\n",
       " 'Yd',\n",
       " 'Ydeg',\n",
       " 'Ydyn',\n",
       " 'YeV',\n",
       " 'Yerg',\n",
       " 'Yg',\n",
       " 'Yh',\n",
       " 'Yk',\n",
       " 'Yl',\n",
       " 'Ylm',\n",
       " 'Ylx',\n",
       " 'Ylyr',\n",
       " 'Ym',\n",
       " 'Ymag',\n",
       " 'Ymin',\n",
       " 'Ymol',\n",
       " 'Yohm',\n",
       " 'Ypc',\n",
       " 'Yph',\n",
       " 'Yphoton',\n",
       " 'Ypix',\n",
       " 'Ypixel',\n",
       " 'Yrad',\n",
       " 'Ys',\n",
       " 'Ysr',\n",
       " 'Yu',\n",
       " 'Yvox',\n",
       " 'Yvoxel',\n",
       " 'Yyr',\n",
       " 'ZA',\n",
       " 'ZAU',\n",
       " 'ZB',\n",
       " 'ZBa',\n",
       " 'ZC',\n",
       " 'ZD',\n",
       " 'ZF',\n",
       " 'ZG',\n",
       " 'ZGal',\n",
       " 'ZH',\n",
       " 'ZHz',\n",
       " 'ZJ',\n",
       " 'ZJy',\n",
       " 'ZK',\n",
       " 'ZL',\n",
       " 'ZN',\n",
       " 'ZOhm',\n",
       " 'ZP',\n",
       " 'ZPa',\n",
       " 'ZR',\n",
       " 'ZRy',\n",
       " 'ZS',\n",
       " 'ZSt',\n",
       " 'ZT',\n",
       " 'ZV',\n",
       " 'ZW',\n",
       " 'ZWb',\n",
       " 'Za',\n",
       " 'Zadu',\n",
       " 'Zarcmin',\n",
       " 'Zarcsec',\n",
       " 'Zau',\n",
       " 'Zb',\n",
       " 'Zbarn',\n",
       " 'Zbeam',\n",
       " 'Zbin',\n",
       " 'Zbit',\n",
       " 'Zbyte',\n",
       " 'Zcd',\n",
       " 'Zchan',\n",
       " 'Zcount',\n",
       " 'Zct',\n",
       " 'Zd',\n",
       " 'Zdeg',\n",
       " 'Zdyn',\n",
       " 'ZeV',\n",
       " 'Zerg',\n",
       " 'Zg',\n",
       " 'Zh',\n",
       " 'Zk',\n",
       " 'Zl',\n",
       " 'Zlm',\n",
       " 'Zlx',\n",
       " 'Zlyr',\n",
       " 'Zm',\n",
       " 'Zmag',\n",
       " 'Zmin',\n",
       " 'Zmol',\n",
       " 'Zohm',\n",
       " 'Zpc',\n",
       " 'Zph',\n",
       " 'Zphoton',\n",
       " 'Zpix',\n",
       " 'Zpixel',\n",
       " 'Zrad',\n",
       " 'Zs',\n",
       " 'Zsr',\n",
       " 'Zu',\n",
       " 'Zvox',\n",
       " 'Zvoxel',\n",
       " 'Zyr',\n",
       " '__builtins__',\n",
       " '__cached__',\n",
       " '__doc__',\n",
       " '__file__',\n",
       " '__loader__',\n",
       " '__name__',\n",
       " '__package__',\n",
       " '__path__',\n",
       " '__spec__',\n",
       " 'a',\n",
       " 'aA',\n",
       " 'aAU',\n",
       " 'aB',\n",
       " 'aBa',\n",
       " 'aC',\n",
       " 'aD',\n",
       " 'aF',\n",
       " 'aG',\n",
       " 'aGal',\n",
       " 'aH',\n",
       " 'aHz',\n",
       " 'aJ',\n",
       " 'aJy',\n",
       " 'aK',\n",
       " 'aL',\n",
       " 'aN',\n",
       " 'aOhm',\n",
       " 'aP',\n",
       " 'aPa',\n",
       " 'aR',\n",
       " 'aRy',\n",
       " 'aS',\n",
       " 'aSt',\n",
       " 'aT',\n",
       " 'aV',\n",
       " 'aW',\n",
       " 'aWb',\n",
       " 'aa',\n",
       " 'aadu',\n",
       " 'aarcmin',\n",
       " 'aarcsec',\n",
       " 'aau',\n",
       " 'ab',\n",
       " 'abA',\n",
       " 'abC',\n",
       " 'abampere',\n",
       " 'abarn',\n",
       " 'abcoulomb',\n",
       " 'abeam',\n",
       " 'abin',\n",
       " 'abit',\n",
       " 'abyte',\n",
       " 'acd',\n",
       " 'achan',\n",
       " 'acount',\n",
       " 'act',\n",
       " 'ad',\n",
       " 'add_enabled_aliases',\n",
       " 'add_enabled_equivalencies',\n",
       " 'add_enabled_units',\n",
       " 'adeg',\n",
       " 'adu',\n",
       " 'adyn',\n",
       " 'aeV',\n",
       " 'aerg',\n",
       " 'ag',\n",
       " 'ah',\n",
       " 'ak',\n",
       " 'al',\n",
       " 'allclose',\n",
       " 'alm',\n",
       " 'alx',\n",
       " 'alyr',\n",
       " 'am',\n",
       " 'amag',\n",
       " 'amin',\n",
       " 'amol',\n",
       " 'amp',\n",
       " 'ampere',\n",
       " 'angstrom',\n",
       " 'annum',\n",
       " 'aohm',\n",
       " 'apc',\n",
       " 'aph',\n",
       " 'aphoton',\n",
       " 'apix',\n",
       " 'apixel',\n",
       " 'arad',\n",
       " 'arcmin',\n",
       " 'arcminute',\n",
       " 'arcsec',\n",
       " 'arcsecond',\n",
       " 'asr',\n",
       " 'astronomical_unit',\n",
       " 'astrophys',\n",
       " 'attoBarye',\n",
       " 'attoDa',\n",
       " 'attoDalton',\n",
       " 'attoDebye',\n",
       " 'attoFarad',\n",
       " 'attoGauss',\n",
       " 'attoHenry',\n",
       " 'attoHertz',\n",
       " 'attoJansky',\n",
       " 'attoJoule',\n",
       " 'attoKayser',\n",
       " 'attoKelvin',\n",
       " 'attoNewton',\n",
       " 'attoOhm',\n",
       " 'attoPascal',\n",
       " 'attoRayleigh',\n",
       " 'attoSiemens',\n",
       " 'attoTesla',\n",
       " 'attoVolt',\n",
       " 'attoWatt',\n",
       " 'attoWeber',\n",
       " 'attoamp',\n",
       " 'attoampere',\n",
       " 'attoannum',\n",
       " 'attoarcminute',\n",
       " 'attoarcsecond',\n",
       " 'attoastronomical_unit',\n",
       " 'attobarn',\n",
       " 'attobarye',\n",
       " 'attobit',\n",
       " 'attobyte',\n",
       " 'attocandela',\n",
       " 'attocoulomb',\n",
       " 'attocount',\n",
       " 'attoday',\n",
       " 'attodebye',\n",
       " 'attodegree',\n",
       " 'attodyne',\n",
       " 'attoelectronvolt',\n",
       " 'attofarad',\n",
       " 'attogal',\n",
       " 'attogauss',\n",
       " 'attogram',\n",
       " 'attohenry',\n",
       " 'attohertz',\n",
       " 'attohour',\n",
       " 'attohr',\n",
       " 'attojansky',\n",
       " 'attojoule',\n",
       " 'attokayser',\n",
       " 'attolightyear',\n",
       " 'attoliter',\n",
       " 'attolumen',\n",
       " 'attolux',\n",
       " 'attometer',\n",
       " 'attominute',\n",
       " 'attomole',\n",
       " 'attonewton',\n",
       " 'attoparsec',\n",
       " 'attopascal',\n",
       " 'attophoton',\n",
       " 'attopixel',\n",
       " 'attopoise',\n",
       " 'attoradian',\n",
       " 'attorayleigh',\n",
       " 'attorydberg',\n",
       " 'attosecond',\n",
       " 'attosiemens',\n",
       " 'attosteradian',\n",
       " 'attostokes',\n",
       " 'attotesla',\n",
       " 'attovolt',\n",
       " 'attovoxel',\n",
       " 'attowatt',\n",
       " 'attoweber',\n",
       " 'attoyear',\n",
       " 'au',\n",
       " 'avox',\n",
       " 'avoxel',\n",
       " 'ayr',\n",
       " 'b',\n",
       " 'bar',\n",
       " 'barn',\n",
       " 'barye',\n",
       " 'beam',\n",
       " 'beam_angular_area',\n",
       " 'becquerel',\n",
       " 'bin',\n",
       " 'binary_prefixes',\n",
       " 'bit',\n",
       " 'bol',\n",
       " 'brightness_temperature',\n",
       " 'byte',\n",
       " 'cA',\n",
       " 'cAU',\n",
       " 'cB',\n",
       " 'cBa',\n",
       " 'cC',\n",
       " 'cD',\n",
       " 'cF',\n",
       " 'cG',\n",
       " 'cGal',\n",
       " 'cH',\n",
       " 'cHz',\n",
       " 'cJ',\n",
       " 'cJy',\n",
       " 'cK',\n",
       " 'cL',\n",
       " 'cN',\n",
       " 'cOhm',\n",
       " 'cP',\n",
       " 'cPa',\n",
       " 'cR',\n",
       " 'cRy',\n",
       " 'cS',\n",
       " 'cSt',\n",
       " 'cT',\n",
       " 'cV',\n",
       " 'cW',\n",
       " 'cWb',\n",
       " 'ca',\n",
       " 'cadu',\n",
       " 'candela',\n",
       " 'carcmin',\n",
       " 'carcsec',\n",
       " 'cau',\n",
       " 'cb',\n",
       " 'cbarn',\n",
       " 'cbeam',\n",
       " 'cbin',\n",
       " 'cbit',\n",
       " 'cbyte',\n",
       " 'ccd',\n",
       " 'cchan',\n",
       " 'ccount',\n",
       " 'cct',\n",
       " 'cd',\n",
       " 'cdeg',\n",
       " 'cds',\n",
       " 'cdyn',\n",
       " 'ceV',\n",
       " 'centiBarye',\n",
       " 'centiDa',\n",
       " 'centiDalton',\n",
       " 'centiDebye',\n",
       " 'centiFarad',\n",
       " 'centiGauss',\n",
       " 'centiHenry',\n",
       " 'centiHertz',\n",
       " 'centiJansky',\n",
       " 'centiJoule',\n",
       " 'centiKayser',\n",
       " 'centiKelvin',\n",
       " 'centiNewton',\n",
       " 'centiOhm',\n",
       " 'centiPascal',\n",
       " 'centiRayleigh',\n",
       " 'centiSiemens',\n",
       " 'centiTesla',\n",
       " 'centiVolt',\n",
       " 'centiWatt',\n",
       " 'centiWeber',\n",
       " 'centiamp',\n",
       " 'centiampere',\n",
       " 'centiannum',\n",
       " 'centiarcminute',\n",
       " 'centiarcsecond',\n",
       " 'centiastronomical_unit',\n",
       " 'centibarn',\n",
       " 'centibarye',\n",
       " 'centibit',\n",
       " 'centibyte',\n",
       " 'centicandela',\n",
       " 'centicoulomb',\n",
       " 'centicount',\n",
       " 'centiday',\n",
       " 'centidebye',\n",
       " 'centidegree',\n",
       " 'centidyne',\n",
       " 'centielectronvolt',\n",
       " 'centifarad',\n",
       " 'centigal',\n",
       " 'centigauss',\n",
       " 'centigram',\n",
       " 'centihenry',\n",
       " 'centihertz',\n",
       " 'centihour',\n",
       " 'centihr',\n",
       " 'centijansky',\n",
       " 'centijoule',\n",
       " 'centikayser',\n",
       " 'centilightyear',\n",
       " 'centiliter',\n",
       " 'centilumen',\n",
       " 'centilux',\n",
       " 'centimeter',\n",
       " 'centiminute',\n",
       " 'centimole',\n",
       " 'centinewton',\n",
       " 'centiparsec',\n",
       " 'centipascal',\n",
       " 'centiphoton',\n",
       " 'centipixel',\n",
       " 'centipoise',\n",
       " 'centiradian',\n",
       " 'centirayleigh',\n",
       " 'centirydberg',\n",
       " 'centisecond',\n",
       " 'centisiemens',\n",
       " 'centisteradian',\n",
       " 'centistokes',\n",
       " 'centitesla',\n",
       " 'centivolt',\n",
       " 'centivoxel',\n",
       " 'centiwatt',\n",
       " 'centiweber',\n",
       " 'centiyear',\n",
       " 'cerg',\n",
       " 'cg',\n",
       " 'cgs',\n",
       " 'ch',\n",
       " 'chan',\n",
       " 'ck',\n",
       " 'cl',\n",
       " 'clm',\n",
       " 'clx',\n",
       " 'clyr',\n",
       " 'cm',\n",
       " 'cmag',\n",
       " 'cmin',\n",
       " 'cmol',\n",
       " 'cohm',\n",
       " 'core',\n",
       " 'coulomb',\n",
       " 'count',\n",
       " 'cpc',\n",
       " 'cph',\n",
       " 'cphoton',\n",
       " 'cpix',\n",
       " 'cpixel',\n",
       " 'crad',\n",
       " 'cs',\n",
       " 'csr',\n",
       " 'ct',\n",
       " 'cu',\n",
       " 'curie',\n",
       " 'cvox',\n",
       " 'cvoxel',\n",
       " 'cy',\n",
       " 'cycle',\n",
       " 'cyr',\n",
       " 'd',\n",
       " 'dA',\n",
       " 'dAU',\n",
       " 'dB',\n",
       " 'dBa',\n",
       " 'dC',\n",
       " 'dD',\n",
       " 'dF',\n",
       " 'dG',\n",
       " 'dGal',\n",
       " 'dH',\n",
       " 'dHz',\n",
       " 'dJ',\n",
       " 'dJy',\n",
       " 'dK',\n",
       " 'dL',\n",
       " 'dN',\n",
       " 'dOhm',\n",
       " 'dP',\n",
       " ...]"
      ]
     },
     "execution_count": 69,
     "metadata": {},
     "output_type": "execute_result"
    }
   ],
   "source": [
    "dir(u)"
   ]
  },
  {
   "cell_type": "markdown",
   "id": "07d251c2",
   "metadata": {},
   "source": [
    "**create quantity** by multiplying a value by a unit"
   ]
  },
  {
   "cell_type": "code",
   "execution_count": 70,
   "id": "3f37206d",
   "metadata": {},
   "outputs": [
    {
     "data": {
      "text/plain": [
       "astropy.units.quantity.Quantity"
      ]
     },
     "execution_count": 70,
     "metadata": {},
     "output_type": "execute_result"
    }
   ],
   "source": [
    "angle = 10 * u.degree\n",
    "type(angle)"
   ]
  },
  {
   "cell_type": "markdown",
   "id": "4d1fa44a",
   "metadata": {},
   "source": [
    "The result is a **Quantity** object"
   ]
  },
  {
   "cell_type": "code",
   "execution_count": 71,
   "id": "c91c4bcc",
   "metadata": {},
   "outputs": [
    {
     "name": "stdout",
     "output_type": "stream",
     "text": [
      "10.0 deg\n"
     ]
    }
   ],
   "source": [
    "print(angle)"
   ]
  },
  {
   "cell_type": "code",
   "execution_count": 72,
   "id": "eca20278",
   "metadata": {},
   "outputs": [
    {
     "data": {
      "text/latex": [
       "$10 \\; \\mathrm{{}^{\\circ}}$"
      ],
      "text/plain": [
       "<Quantity 10. deg>"
      ]
     },
     "execution_count": 72,
     "metadata": {},
     "output_type": "execute_result"
    }
   ],
   "source": [
    "angle"
   ]
  },
  {
   "cell_type": "markdown",
   "id": "9469de8f",
   "metadata": {},
   "source": [
    "`Quantities` provides a method called `to` that converts to other units."
   ]
  },
  {
   "cell_type": "markdown",
   "id": "f6ce931f",
   "metadata": {},
   "source": [
    "`angle` in degrees to arcminutes"
   ]
  },
  {
   "cell_type": "code",
   "execution_count": 73,
   "id": "99f4946a",
   "metadata": {},
   "outputs": [
    {
     "data": {
      "text/latex": [
       "$600 \\; \\mathrm{{}^{\\prime}}$"
      ],
      "text/plain": [
       "<Quantity 600. arcmin>"
      ]
     },
     "execution_count": 73,
     "metadata": {},
     "output_type": "execute_result"
    }
   ],
   "source": [
    "angle_arcmin = angle.to(u.arcmin)\n",
    "angle_arcmin"
   ]
  },
  {
   "cell_type": "markdown",
   "id": "34c55dec",
   "metadata": {},
   "source": [
    "- adding `Quantities` will convert units"
   ]
  },
  {
   "cell_type": "code",
   "execution_count": 74,
   "id": "76fec177",
   "metadata": {},
   "outputs": [
    {
     "data": {
      "text/latex": [
       "$10.5 \\; \\mathrm{{}^{\\circ}}$"
      ],
      "text/plain": [
       "<Quantity 10.5 deg>"
      ]
     },
     "execution_count": 74,
     "metadata": {},
     "output_type": "execute_result"
    }
   ],
   "source": [
    "angle + 30 * u.arcmin"
   ]
  },
  {
   "cell_type": "markdown",
   "id": "d09e9d3e",
   "metadata": {},
   "source": [
    "if units are not compatible, you get error"
   ]
  },
  {
   "cell_type": "code",
   "execution_count": 75,
   "id": "0675dd0f",
   "metadata": {},
   "outputs": [
    {
     "ename": "UnitConversionError",
     "evalue": "Can only apply 'add' function to quantities with compatible dimensions",
     "output_type": "error",
     "traceback": [
      "\u001b[0;31m---------------------------------------------------------------------------\u001b[0m",
      "\u001b[0;31mUnitConversionError\u001b[0m                       Traceback (most recent call last)",
      "\u001b[0;32m/opt/anaconda3/envs/AstronomicalData/lib/python3.9/site-packages/astropy/units/quantity_helper/helpers.py\u001b[0m in \u001b[0;36mget_converters_and_unit\u001b[0;34m(f, unit1, unit2)\u001b[0m\n\u001b[1;32m     67\u001b[0m         \u001b[0;32mtry\u001b[0m\u001b[0;34m:\u001b[0m\u001b[0;34m\u001b[0m\u001b[0;34m\u001b[0m\u001b[0m\n\u001b[0;32m---> 68\u001b[0;31m             \u001b[0mconverters\u001b[0m\u001b[0;34m[\u001b[0m\u001b[0mchangeable\u001b[0m\u001b[0;34m]\u001b[0m \u001b[0;34m=\u001b[0m \u001b[0mget_converter\u001b[0m\u001b[0;34m(\u001b[0m\u001b[0munit2\u001b[0m\u001b[0;34m,\u001b[0m \u001b[0munit1\u001b[0m\u001b[0;34m)\u001b[0m\u001b[0;34m\u001b[0m\u001b[0;34m\u001b[0m\u001b[0m\n\u001b[0m\u001b[1;32m     69\u001b[0m         \u001b[0;32mexcept\u001b[0m \u001b[0mUnitsError\u001b[0m\u001b[0;34m:\u001b[0m\u001b[0;34m\u001b[0m\u001b[0;34m\u001b[0m\u001b[0m\n",
      "\u001b[0;32m/opt/anaconda3/envs/AstronomicalData/lib/python3.9/site-packages/astropy/units/quantity_helper/helpers.py\u001b[0m in \u001b[0;36mget_converter\u001b[0;34m(from_unit, to_unit)\u001b[0m\n\u001b[1;32m     31\u001b[0m     i.e., if the inferred scale is unity.\"\"\"\n\u001b[0;32m---> 32\u001b[0;31m     \u001b[0mconverter\u001b[0m \u001b[0;34m=\u001b[0m \u001b[0mfrom_unit\u001b[0m\u001b[0;34m.\u001b[0m\u001b[0m_get_converter\u001b[0m\u001b[0;34m(\u001b[0m\u001b[0mto_unit\u001b[0m\u001b[0;34m)\u001b[0m\u001b[0;34m\u001b[0m\u001b[0;34m\u001b[0m\u001b[0m\n\u001b[0m\u001b[1;32m     33\u001b[0m     \u001b[0;32mreturn\u001b[0m \u001b[0;32mNone\u001b[0m \u001b[0;32mif\u001b[0m \u001b[0mconverter\u001b[0m \u001b[0;32mis\u001b[0m \u001b[0munit_scale_converter\u001b[0m \u001b[0;32melse\u001b[0m \u001b[0mconverter\u001b[0m\u001b[0;34m\u001b[0m\u001b[0;34m\u001b[0m\u001b[0m\n",
      "\u001b[0;32m/opt/anaconda3/envs/AstronomicalData/lib/python3.9/site-packages/astropy/units/core.py\u001b[0m in \u001b[0;36m_get_converter\u001b[0;34m(self, other, equivalencies)\u001b[0m\n\u001b[1;32m   1063\u001b[0m \u001b[0;34m\u001b[0m\u001b[0m\n\u001b[0;32m-> 1064\u001b[0;31m             \u001b[0;32mraise\u001b[0m \u001b[0mexc\u001b[0m\u001b[0;34m\u001b[0m\u001b[0;34m\u001b[0m\u001b[0m\n\u001b[0m\u001b[1;32m   1065\u001b[0m \u001b[0;34m\u001b[0m\u001b[0m\n",
      "\u001b[0;32m/opt/anaconda3/envs/AstronomicalData/lib/python3.9/site-packages/astropy/units/core.py\u001b[0m in \u001b[0;36m_get_converter\u001b[0;34m(self, other, equivalencies)\u001b[0m\n\u001b[1;32m   1048\u001b[0m         \u001b[0;32mtry\u001b[0m\u001b[0;34m:\u001b[0m\u001b[0;34m\u001b[0m\u001b[0;34m\u001b[0m\u001b[0m\n\u001b[0;32m-> 1049\u001b[0;31m             return self._apply_equivalencies(\n\u001b[0m\u001b[1;32m   1050\u001b[0m                 self, other, self._normalize_equivalencies(equivalencies))\n",
      "\u001b[0;32m/opt/anaconda3/envs/AstronomicalData/lib/python3.9/site-packages/astropy/units/core.py\u001b[0m in \u001b[0;36m_apply_equivalencies\u001b[0;34m(self, unit, other, equivalencies)\u001b[0m\n\u001b[1;32m   1024\u001b[0m \u001b[0;34m\u001b[0m\u001b[0m\n\u001b[0;32m-> 1025\u001b[0;31m         raise UnitConversionError(\n\u001b[0m\u001b[1;32m   1026\u001b[0m             f\"{unit_str} and {other_str} are not convertible\")\n",
      "\u001b[0;31mUnitConversionError\u001b[0m: 'kg' (mass) and 'deg' (angle) are not convertible",
      "\nDuring handling of the above exception, another exception occurred:\n",
      "\u001b[0;31mUnitConversionError\u001b[0m                       Traceback (most recent call last)",
      "\u001b[0;32m/var/folders/xc/ybqx5fnx6_d179dtm1llyflw0000gn/T/ipykernel_97060/2731757809.py\u001b[0m in \u001b[0;36m<module>\u001b[0;34m\u001b[0m\n\u001b[0;32m----> 1\u001b[0;31m \u001b[0mangle\u001b[0m \u001b[0;34m+\u001b[0m \u001b[0;36m5\u001b[0m \u001b[0;34m*\u001b[0m \u001b[0mu\u001b[0m\u001b[0;34m.\u001b[0m\u001b[0mkg\u001b[0m\u001b[0;34m\u001b[0m\u001b[0;34m\u001b[0m\u001b[0m\n\u001b[0m",
      "\u001b[0;32m/opt/anaconda3/envs/AstronomicalData/lib/python3.9/site-packages/astropy/units/quantity.py\u001b[0m in \u001b[0;36m__array_ufunc__\u001b[0;34m(self, function, method, *inputs, **kwargs)\u001b[0m\n\u001b[1;32m    464\u001b[0m         \u001b[0;31m# consistent units between two inputs (e.g., in np.add) --\u001b[0m\u001b[0;34m\u001b[0m\u001b[0;34m\u001b[0m\u001b[0m\n\u001b[1;32m    465\u001b[0m         \u001b[0;31m# and the unit of the result (or tuple of units for nout > 1).\u001b[0m\u001b[0;34m\u001b[0m\u001b[0;34m\u001b[0m\u001b[0m\n\u001b[0;32m--> 466\u001b[0;31m         \u001b[0mconverters\u001b[0m\u001b[0;34m,\u001b[0m \u001b[0munit\u001b[0m \u001b[0;34m=\u001b[0m \u001b[0mconverters_and_unit\u001b[0m\u001b[0;34m(\u001b[0m\u001b[0mfunction\u001b[0m\u001b[0;34m,\u001b[0m \u001b[0mmethod\u001b[0m\u001b[0;34m,\u001b[0m \u001b[0;34m*\u001b[0m\u001b[0minputs\u001b[0m\u001b[0;34m)\u001b[0m\u001b[0;34m\u001b[0m\u001b[0;34m\u001b[0m\u001b[0m\n\u001b[0m\u001b[1;32m    467\u001b[0m \u001b[0;34m\u001b[0m\u001b[0m\n\u001b[1;32m    468\u001b[0m         \u001b[0mout\u001b[0m \u001b[0;34m=\u001b[0m \u001b[0mkwargs\u001b[0m\u001b[0;34m.\u001b[0m\u001b[0mget\u001b[0m\u001b[0;34m(\u001b[0m\u001b[0;34m'out'\u001b[0m\u001b[0;34m,\u001b[0m \u001b[0;32mNone\u001b[0m\u001b[0;34m)\u001b[0m\u001b[0;34m\u001b[0m\u001b[0;34m\u001b[0m\u001b[0m\n",
      "\u001b[0;32m/opt/anaconda3/envs/AstronomicalData/lib/python3.9/site-packages/astropy/units/quantity_helper/converters.py\u001b[0m in \u001b[0;36mconverters_and_unit\u001b[0;34m(function, method, *args)\u001b[0m\n\u001b[1;32m    172\u001b[0m \u001b[0;34m\u001b[0m\u001b[0m\n\u001b[1;32m    173\u001b[0m         \u001b[0;31m# Determine possible conversion functions, and the result unit.\u001b[0m\u001b[0;34m\u001b[0m\u001b[0;34m\u001b[0m\u001b[0m\n\u001b[0;32m--> 174\u001b[0;31m         \u001b[0mconverters\u001b[0m\u001b[0;34m,\u001b[0m \u001b[0mresult_unit\u001b[0m \u001b[0;34m=\u001b[0m \u001b[0mufunc_helper\u001b[0m\u001b[0;34m(\u001b[0m\u001b[0mfunction\u001b[0m\u001b[0;34m,\u001b[0m \u001b[0;34m*\u001b[0m\u001b[0munits\u001b[0m\u001b[0;34m)\u001b[0m\u001b[0;34m\u001b[0m\u001b[0;34m\u001b[0m\u001b[0m\n\u001b[0m\u001b[1;32m    175\u001b[0m \u001b[0;34m\u001b[0m\u001b[0m\n\u001b[1;32m    176\u001b[0m         \u001b[0;32mif\u001b[0m \u001b[0many\u001b[0m\u001b[0;34m(\u001b[0m\u001b[0mconverter\u001b[0m \u001b[0;32mis\u001b[0m \u001b[0;32mFalse\u001b[0m \u001b[0;32mfor\u001b[0m \u001b[0mconverter\u001b[0m \u001b[0;32min\u001b[0m \u001b[0mconverters\u001b[0m\u001b[0;34m)\u001b[0m\u001b[0;34m:\u001b[0m\u001b[0;34m\u001b[0m\u001b[0;34m\u001b[0m\u001b[0m\n",
      "\u001b[0;32m/opt/anaconda3/envs/AstronomicalData/lib/python3.9/site-packages/astropy/units/quantity_helper/helpers.py\u001b[0m in \u001b[0;36mget_converters_and_unit\u001b[0;34m(f, unit1, unit2)\u001b[0m\n\u001b[1;32m     68\u001b[0m             \u001b[0mconverters\u001b[0m\u001b[0;34m[\u001b[0m\u001b[0mchangeable\u001b[0m\u001b[0;34m]\u001b[0m \u001b[0;34m=\u001b[0m \u001b[0mget_converter\u001b[0m\u001b[0;34m(\u001b[0m\u001b[0munit2\u001b[0m\u001b[0;34m,\u001b[0m \u001b[0munit1\u001b[0m\u001b[0;34m)\u001b[0m\u001b[0;34m\u001b[0m\u001b[0;34m\u001b[0m\u001b[0m\n\u001b[1;32m     69\u001b[0m         \u001b[0;32mexcept\u001b[0m \u001b[0mUnitsError\u001b[0m\u001b[0;34m:\u001b[0m\u001b[0;34m\u001b[0m\u001b[0;34m\u001b[0m\u001b[0m\n\u001b[0;32m---> 70\u001b[0;31m             raise UnitConversionError(\n\u001b[0m\u001b[1;32m     71\u001b[0m                 \u001b[0;34m\"Can only apply '{}' function to quantities \"\u001b[0m\u001b[0;34m\u001b[0m\u001b[0;34m\u001b[0m\u001b[0m\n\u001b[1;32m     72\u001b[0m                 \u001b[0;34m\"with compatible dimensions\"\u001b[0m\u001b[0;34m\u001b[0m\u001b[0;34m\u001b[0m\u001b[0m\n",
      "\u001b[0;31mUnitConversionError\u001b[0m: Can only apply 'add' function to quantities with compatible dimensions"
     ]
    }
   ],
   "source": [
    "angle + 5 * u.kg"
   ]
  },
  {
   "cell_type": "markdown",
   "id": "0aebd3f8",
   "metadata": {},
   "source": [
    "## Selecting a Region"
   ]
  },
  {
   "cell_type": "markdown",
   "id": "2fdd4fe3",
   "metadata": {},
   "source": [
    "select region of sky?\n",
    "\n",
    "**Sample Query** from Gaia archive documentation \n",
    " - https://gea.esac.esa.int/archive-help/adql/examples/index.html\n",
    " - https://www.cosmos.esa.int/web/gaia-users/archive/writing-queries\n",
    "\n",
    "\n",
    " - selects objects in a circular region \n",
    "     - centered at (88.8, 7.4)\n",
    "     - radius of 5 arcmin (0.08333 deg)"
   ]
  },
  {
   "cell_type": "code",
   "execution_count": 76,
   "id": "45fce691",
   "metadata": {},
   "outputs": [],
   "source": [
    "cone_query = \"\"\"SELECT\n",
    "TOP 10\n",
    "source_id\n",
    "FROM \\\"I/345/gaia2\\\"\n",
    "WHERE 1=CONTAINS(\n",
    "    POINT('ICRS', ra,dec),\n",
    "    CIRCLE('ICRS', 88.8, 7.4, 0.083))\n",
    "\"\"\""
   ]
  },
  {
   "cell_type": "markdown",
   "id": "7e41e434",
   "metadata": {},
   "source": [
    "query uses three keywords, specific to ADQL (not SQL):\n",
    "- `POINT` ICRS degrees or right ascension and declination. \n",
    "    - *International Celestial Reference System*\n",
    "- `CIRCLE` (ra, dec, radius)\n",
    "- `CONTAINS` returns 1 or 0"
   ]
  },
  {
   "cell_type": "code",
   "execution_count": 77,
   "id": "e70de21f",
   "metadata": {},
   "outputs": [
    {
     "data": {
      "text/plain": [
       "{'QUERY_STATUS': 'OK',\n",
       " 'PROVIDER': 'CDS',\n",
       " 'QUERY': 'SELECT TOP 10 source_id FROM \"I/345/gaia2\" WHERE 1=CONTAINS(     POINT(\\'ICRS\\', ra,dec),     CIRCLE(\\'ICRS\\', 88.8, 7.4, 0.083)) '}"
      ]
     },
     "execution_count": 77,
     "metadata": {},
     "output_type": "execute_result"
    }
   ],
   "source": [
    "cone_job = tap_service.run_sync(cone_query, language='ADQL')\n",
    "cone_job.infos"
   ]
  },
  {
   "cell_type": "code",
   "execution_count": 78,
   "id": "610f9e45",
   "metadata": {},
   "outputs": [
    {
     "data": {
      "text/html": [
       "<div><i>Table length=10</i>\n",
       "<table id=\"table5946247488\" class=\"table-striped table-bordered table-condensed\">\n",
       "<thead><tr><th>source_id</th></tr></thead>\n",
       "<thead><tr><th>int64</th></tr></thead>\n",
       "<tr><td>3322773724536907008</td></tr>\n",
       "<tr><td>3322773720244239232</td></tr>\n",
       "<tr><td>3322773724537891328</td></tr>\n",
       "<tr><td>3322773720244273024</td></tr>\n",
       "<tr><td>3322773724537891456</td></tr>\n",
       "<tr><td>3322773724537890944</td></tr>\n",
       "<tr><td>3322773724537890048</td></tr>\n",
       "<tr><td>3322773758899157120</td></tr>\n",
       "<tr><td>3322773758896634752</td></tr>\n",
       "<tr><td>3322773758896635392</td></tr>\n",
       "</table></div>"
      ],
      "text/plain": [
       "<Table length=10>\n",
       "     source_id     \n",
       "       int64       \n",
       "-------------------\n",
       "3322773724536907008\n",
       "3322773720244239232\n",
       "3322773724537891328\n",
       "3322773720244273024\n",
       "3322773724537891456\n",
       "3322773724537890944\n",
       "3322773724537890048\n",
       "3322773758899157120\n",
       "3322773758896634752\n",
       "3322773758896635392"
      ]
     },
     "execution_count": 78,
     "metadata": {},
     "output_type": "execute_result"
    }
   ],
   "source": [
    "cone_results = cone_job.to_table()\n",
    "cone_results"
   ]
  },
  {
   "cell_type": "markdown",
   "id": "7c123aab",
   "metadata": {},
   "source": [
    "### Exercise (5 min)"
   ]
  },
  {
   "cell_type": "markdown",
   "id": "61946532",
   "metadata": {},
   "source": [
    "When you are debugging queries like this, you can use `TOP` to limit the size of the results, but then you still don’t know how big the results will be.\n",
    "\n",
    "An alternative is to use `COUNT` , which asks for the number of rows that would be selected, but it does not return them.\n",
    "\n",
    "In the previous query, replace `TOP 10 source_id` with `COUNT(source_id)` and run the query again. How many stars has Gaia identi!ed in the cone we searched?"
   ]
  },
  {
   "cell_type": "code",
   "execution_count": 79,
   "id": "8c310638",
   "metadata": {},
   "outputs": [
    {
     "data": {
      "text/html": [
       "<div><i>Table length=1</i>\n",
       "<table id=\"table5946541344\" class=\"table-striped table-bordered table-condensed\">\n",
       "<thead><tr><th>COUNT</th></tr></thead>\n",
       "<thead><tr><th>int64</th></tr></thead>\n",
       "<tr><td>594</td></tr>\n",
       "</table></div>"
      ],
      "text/plain": [
       "<Table length=1>\n",
       "COUNT\n",
       "int64\n",
       "-----\n",
       "  594"
      ]
     },
     "execution_count": 79,
     "metadata": {},
     "output_type": "execute_result"
    }
   ],
   "source": [
    "count_cone_query = \"\"\"SELECT \n",
    "COUNT(source_id)\n",
    "FROM \\\"I/345/gaia2\\\"\n",
    "WHERE 1=CONTAINS(\n",
    "  POINT('ICRS', ra, dec),\n",
    "  CIRCLE('ICRS', 88.8, 7.4, 0.08333333))\n",
    "\"\"\"\n",
    "\n",
    "count_cone_job = tap_service.run_sync(count_cone_query)\n",
    "count_cone_results = count_cone_job.to_table()\n",
    "count_cone_results"
   ]
  },
  {
   "cell_type": "code",
   "execution_count": 80,
   "id": "aed687c0",
   "metadata": {},
   "outputs": [
    {
     "data": {
      "text/plain": [
       "<Table length=1>\n",
       "COUNT\n",
       "int64\n",
       "-----\n",
       "  594"
      ]
     },
     "execution_count": 80,
     "metadata": {},
     "output_type": "execute_result"
    }
   ],
   "source": [
    "# or just look at value without converting to astropy table\n",
    "type(count_cone_results)\n",
    "count_cone_job"
   ]
  },
  {
   "cell_type": "markdown",
   "id": "33241315",
   "metadata": {},
   "source": [
    "## Getting GD-1 Data"
   ]
  },
  {
   "cell_type": "markdown",
   "id": "8360fb17",
   "metadata": {},
   "source": [
    "(Price-Whelan and Bonaca 2018) paper\n",
    "\n",
    "\n",
    "http://www.astroexplorer.org/details/apjlaad7b5f1/eyJrZXlXb3JkcyI6IlByaWNlLVdoZWxhbiIsImF1dGhvciI6IlByaWNlLVdoZWxhbiIsImZyb21ZZWFyIjoyMDE4LCJ0b1llYXIiOjIwMTgsInBhZ2UiOjEsInNob3ciOiIyMDAifQ\n",
    "\n",
    "\n",
    "- try and reproduce figure 1\n",
    "- GD-1 stream (Grillmair & Dionatos 2006)"
   ]
  },
  {
   "cell_type": "markdown",
   "id": "5760acac",
   "metadata": {},
   "source": [
    "x-axis ($\\phi_1$)   $(-100^\\circ$ to $20^\\circ)$\n",
    "\n",
    "y-axis (\\phi_2)   $(-10^\\circ$ to $10^\\circ)$"
   ]
  },
  {
   "cell_type": "markdown",
   "id": "df883d15",
   "metadata": {},
   "source": [
    "10 million stars in this view\n",
    "\n",
    "select smaller area \n",
    "- -55 to -45\n",
    "- -8 to 4"
   ]
  },
  {
   "cell_type": "markdown",
   "id": "0e279dc1",
   "metadata": {},
   "source": [
    "## Transforming coordinates"
   ]
  },
  {
   "cell_type": "markdown",
   "id": "580565e7",
   "metadata": {},
   "source": [
    "- Astropy has abstracted the **spherical trigonometry** for us\n",
    "- Equatorial coord. -> Galactic coord. -> GD-1 reference frame\n",
    "\n",
    "`SkyCoord` object represents sky coordinates relative to a specified reference frame.\n",
    "\n",
    " - Here is Betelgeuse in the ICRS frame.     \"International Celestial Reference System\""
   ]
  },
  {
   "cell_type": "code",
   "execution_count": 81,
   "id": "11ccf08a",
   "metadata": {},
   "outputs": [
    {
     "data": {
      "text/plain": [
       "<SkyCoord (ICRS): (ra, dec) in deg\n",
       "    (88.8, 7.4)>"
      ]
     },
     "execution_count": 81,
     "metadata": {},
     "output_type": "execute_result"
    }
   ],
   "source": [
    "from astropy.coordinates import SkyCoord\n",
    "\n",
    "ra = 88.8 * u.degree\n",
    "dec = 7.4 * u.degree\n",
    "coord_icrs = SkyCoord(ra=ra, dec=dec, frame='icrs')\n",
    "\n",
    "coord_icrs"
   ]
  },
  {
   "cell_type": "markdown",
   "id": "151c54a0",
   "metadata": {},
   "source": [
    "`transform_to` function to transform reference frame\n",
    "\n",
    "IRCS -> Galactic"
   ]
  },
  {
   "cell_type": "code",
   "execution_count": 82,
   "id": "b45347ec",
   "metadata": {},
   "outputs": [
    {
     "data": {
      "text/plain": [
       "<SkyCoord (Galactic): (l, b) in deg\n",
       "    (199.79693102, -8.95591653)>"
      ]
     },
     "execution_count": 82,
     "metadata": {},
     "output_type": "execute_result"
    }
   ],
   "source": [
    "coord_galactic = coord_icrs.transform_to('galactic')\n",
    "coord_galactic"
   ]
  },
  {
   "cell_type": "markdown",
   "id": "4bbb41e1",
   "metadata": {},
   "source": [
    "Galactic longitude and latitude `l` and `b`"
   ]
  },
  {
   "cell_type": "markdown",
   "id": "d23aa1df",
   "metadata": {},
   "source": [
    "------------------------"
   ]
  },
  {
   "cell_type": "markdown",
   "id": "7f26d599",
   "metadata": {},
   "source": [
    "Gala library provides tools for galactic dynamics\n",
    "\n",
    "https://gala-astro.readthedocs.io/en/latest/_modules/gala/coordinates/gd1.html\n",
    "\n",
    "- GD1Koposov10 is a Heliocentric spherical coordinate system defined by the orbit of the GD-1 stream"
   ]
  },
  {
   "cell_type": "code",
   "execution_count": 83,
   "id": "2ccd34ae",
   "metadata": {},
   "outputs": [
    {
     "data": {
      "text/plain": [
       "<GD1Koposov10 Frame>"
      ]
     },
     "execution_count": 83,
     "metadata": {},
     "output_type": "execute_result"
    }
   ],
   "source": [
    "from gala.coordinates import GD1Koposov10\n",
    "\n",
    "gd1_frame = GD1Koposov10()\n",
    "gd1_frame"
   ]
  },
  {
   "cell_type": "code",
   "execution_count": 84,
   "id": "a88f944f",
   "metadata": {},
   "outputs": [
    {
     "data": {
      "text/plain": [
       "<SkyCoord (GD1Koposov10): (phi1, phi2) in deg\n",
       "    (-94.97222038, 34.5813813)>"
      ]
     },
     "execution_count": 84,
     "metadata": {},
     "output_type": "execute_result"
    }
   ],
   "source": [
    "coord_gd1 = coord_icrs.transform_to(gd1_frame)\n",
    "coord_gd1"
   ]
  },
  {
   "cell_type": "markdown",
   "id": "33c0056f",
   "metadata": {},
   "source": [
    "### Exercise (10 min)\n",
    "\n",
    "Find the location of GD-1 in ICRS coordinates.\n",
    "\n",
    "1. Create a SkyCoord object at 0°, 0° in the GD-1 frame.\n",
    "\n",
    "2. Transform it to the ICRS frame.\n",
    "\n",
    "Hint: Because ICRS is a standard frame, it is built into Astropy. You can specify it by name, icrs (as we did with galactic )."
   ]
  },
  {
   "cell_type": "code",
   "execution_count": 85,
   "id": "10e23d55",
   "metadata": {},
   "outputs": [
    {
     "data": {
      "text/plain": [
       "<SkyCoord (ICRS): (ra, dec) in deg\n",
       "    (200., 59.4504341)>"
      ]
     },
     "execution_count": 85,
     "metadata": {},
     "output_type": "execute_result"
    }
   ],
   "source": [
    "origin_gd1 = SkyCoord(0*u.degree, 0*u.degree, frame=gd1_frame)\n",
    "\n",
    "origin_gd1.transform_to('icrs')"
   ]
  },
  {
   "cell_type": "markdown",
   "id": "a7ada2c8",
   "metadata": {},
   "source": [
    "Notice that the origin of the GD-1 frame maps to `ra=200` , exactly, in ICRS. That is by design."
   ]
  },
  {
   "cell_type": "markdown",
   "id": "783875da",
   "metadata": {},
   "source": [
    "## Selecting a rectangle"
   ]
  },
  {
   "cell_type": "markdown",
   "id": "99645da8",
   "metadata": {},
   "source": [
    "defining a rectangle that emcompasses a small part of GD-1\n",
    " - a lot of stars\n",
    " - define in GD-1 coordinates"
   ]
  },
  {
   "cell_type": "code",
   "execution_count": 86,
   "id": "1892d1f8",
   "metadata": {},
   "outputs": [],
   "source": [
    "phi1_min = -55 * u.degree \n",
    "phi1_max = -45 * u.degree\n",
    "phi2_min = -8 * u.degree\n",
    "phi2_max = 4 * u.degree"
   ]
  },
  {
   "cell_type": "markdown",
   "id": "76757196",
   "metadata": {},
   "source": [
    "write a function to build a rectangle\n",
    "- lower and upper bounds\n",
    "- returns a list of x and y coordinates\n",
    "- corners of rectangle starting at lower left corner \n",
    "    - clockwise"
   ]
  },
  {
   "cell_type": "code",
   "execution_count": 87,
   "id": "a1f5db84",
   "metadata": {},
   "outputs": [],
   "source": [
    "def make_rectangle(x1, x2, y1, y2):\n",
    "    \"\"\"Return the corners of a rectangle.\"\"\"\n",
    "    xs = [x1, x1, x2, x2, x1]\n",
    "    ys = [y1, y2, y2, y1, y1]\n",
    "    return xs, ys"
   ]
  },
  {
   "cell_type": "markdown",
   "id": "c0bdcd72",
   "metadata": {},
   "source": [
    "This returns a *tuple*, a finite ordered list\n",
    "- list of \\phi_1 coord. and a list of \\phi_2 coord. "
   ]
  },
  {
   "cell_type": "code",
   "execution_count": 88,
   "id": "4d494d23",
   "metadata": {},
   "outputs": [],
   "source": [
    "phi1_rect, phi2_rect = make_rectangle(\n",
    "    phi1_min, phi1_max, phi2_min, phi2_max)"
   ]
  },
  {
   "cell_type": "markdown",
   "id": "c60cdd59",
   "metadata": {},
   "source": [
    "- coordinates in the Gaia catalog are in the ICRS frame. \n",
    "- convert the coordinates from the GD-1 frame to the ICRS frame.\n",
    "- SkyCoord objects can take lists of coordinates, in addition to single values."
   ]
  },
  {
   "cell_type": "code",
   "execution_count": 89,
   "id": "4cf856aa",
   "metadata": {},
   "outputs": [
    {
     "data": {
      "text/plain": [
       "<SkyCoord (GD1Koposov10): (phi1, phi2) in deg\n",
       "    [(-55., -8.), (-55.,  4.), (-45.,  4.), (-45., -8.), (-55., -8.)]>"
      ]
     },
     "execution_count": 89,
     "metadata": {},
     "output_type": "execute_result"
    }
   ],
   "source": [
    "corners = SkyCoord(phi1=phi1_rect, phi2=phi2_rect, frame=gd1_frame)\n",
    "corners"
   ]
  },
  {
   "cell_type": "markdown",
   "id": "e82679f2",
   "metadata": {},
   "source": [
    "use `transform_to` to convert to ICRS coord"
   ]
  },
  {
   "cell_type": "code",
   "execution_count": 90,
   "id": "cd09226a",
   "metadata": {},
   "outputs": [
    {
     "data": {
      "text/plain": [
       "<SkyCoord (ICRS): (ra, dec) in deg\n",
       "    [(146.27533314, 19.26190982), (135.42163944, 25.87738723),\n",
       "     (141.60264825, 34.3048303 ), (152.81671045, 27.13611254),\n",
       "     (146.27533314, 19.26190982)]>"
      ]
     },
     "execution_count": 90,
     "metadata": {},
     "output_type": "execute_result"
    }
   ],
   "source": [
    "corners_icrs = corners.transform_to('icrs')\n",
    "corners_icrs"
   ]
  },
  {
   "cell_type": "markdown",
   "id": "4eb47cc1",
   "metadata": {},
   "source": [
    "rectangle in one coordinate system is not necessarily a rectangle in another"
   ]
  },
  {
   "cell_type": "markdown",
   "id": "13b6a95f",
   "metadata": {},
   "source": [
    "## Defining a polygon"
   ]
  },
  {
   "cell_type": "markdown",
   "id": "3ce65b57",
   "metadata": {},
   "source": [
    "IN ORDER TO USE THIS POLYGON AS A PART OF AN `ADQL` QUERY\n",
    " - we have to convert it to a **string** with a **comma-separated** **list** of coordinates, as in this example:"
   ]
  },
  {
   "cell_type": "markdown",
   "id": "8b5530bd",
   "metadata": {},
   "source": [
    "```\n",
    "\"\"\"\n",
    "POLYGON('ICRS', 143.65, 20.98, \n",
    "        134.46, 26.39, \n",
    "        140.58, 34.85, \n",
    "        150.16, 29.01)\n",
    "\"\"\"\n",
    "```"
   ]
  },
  {
   "cell_type": "markdown",
   "id": "1a80f2bc",
   "metadata": {},
   "source": [
    "`SkyCoord` provides `to_string`"
   ]
  },
  {
   "cell_type": "code",
   "execution_count": 91,
   "id": "a570d293",
   "metadata": {},
   "outputs": [
    {
     "data": {
      "text/plain": [
       "['146.275 19.2619',\n",
       " '135.422 25.8774',\n",
       " '141.603 34.3048',\n",
       " '152.817 27.1361',\n",
       " '146.275 19.2619']"
      ]
     },
     "execution_count": 91,
     "metadata": {},
     "output_type": "execute_result"
    }
   ],
   "source": [
    "corners_list_str = corners_icrs.to_string()\n",
    "corners_list_str"
   ]
  },
  {
   "cell_type": "markdown",
   "id": "f94784a5",
   "metadata": {},
   "source": [
    "- use python `.join` - python string function with spaces between pairs"
   ]
  },
  {
   "cell_type": "code",
   "execution_count": 92,
   "id": "726d53d8",
   "metadata": {},
   "outputs": [
    {
     "data": {
      "text/plain": [
       "'146.275 19.2619 135.422 25.8774 141.603 34.3048 152.817 27.1361 146.275 19.2619'"
      ]
     },
     "execution_count": 92,
     "metadata": {},
     "output_type": "execute_result"
    }
   ],
   "source": [
    "corners_single_str = ' '.join(corners_list_str)\n",
    "corners_single_str"
   ]
  },
  {
   "cell_type": "markdown",
   "id": "b9f8f2c7",
   "metadata": {},
   "source": [
    "- replace the spaces with commas."
   ]
  },
  {
   "cell_type": "code",
   "execution_count": 93,
   "id": "5953c8fc",
   "metadata": {},
   "outputs": [
    {
     "data": {
      "text/plain": [
       "'146.275, 19.2619, 135.422, 25.8774, 141.603, 34.3048, 152.817, 27.1361, 146.275, 19.2619'"
      ]
     },
     "execution_count": 93,
     "metadata": {},
     "output_type": "execute_result"
    }
   ],
   "source": [
    "corners_single_str.replace(' ', ', ')"
   ]
  },
  {
   "cell_type": "markdown",
   "id": "8aa82cf9",
   "metadata": {},
   "source": [
    "This is something we will need to do multiple times. --- WRITE A FUNCTION"
   ]
  },
  {
   "cell_type": "code",
   "execution_count": 94,
   "id": "9461dd16",
   "metadata": {},
   "outputs": [],
   "source": [
    "def skycoord_to_string(skycoord):\n",
    "    \"\"\"Convert a one-dimenstional list of SkyCoord to string for Gaia's query format.\"\"\"\n",
    "    corners_list_str = skycoord.to_string()\n",
    "    corners_single_str = ' '.join(corners_list_str)\n",
    "    return corners_single_str.replace(' ', ', ')"
   ]
  },
  {
   "cell_type": "code",
   "execution_count": 95,
   "id": "723d184c",
   "metadata": {},
   "outputs": [
    {
     "data": {
      "text/plain": [
       "'146.275, 19.2619, 135.422, 25.8774, 141.603, 34.3048, 152.817, 27.1361, 146.275, 19.2619'"
      ]
     },
     "execution_count": 95,
     "metadata": {},
     "output_type": "execute_result"
    }
   ],
   "source": [
    "sky_point_list = skycoord_to_string(corners_icrs)\n",
    "sky_point_list"
   ]
  },
  {
   "cell_type": "markdown",
   "id": "dff16a76",
   "metadata": {},
   "source": [
    "## Assembling the query"
   ]
  },
  {
   "cell_type": "code",
   "execution_count": 96,
   "id": "bac22696",
   "metadata": {},
   "outputs": [],
   "source": [
    "columns = 'source_id, ra, dec, pmra, pmdec, parallax'\n"
   ]
  },
  {
   "cell_type": "code",
   "execution_count": 97,
   "id": "398753de",
   "metadata": {},
   "outputs": [],
   "source": [
    "query3_base = \"\"\"SELECT \n",
    "TOP 10 \n",
    "{columns}\n",
    "FROM \\\"I/345/gaia2\\\"\n",
    "WHERE parallax < 1\n",
    "  AND bp_rp * 1.0 BETWEEN -0.75 AND 2\n",
    "\"\"\""
   ]
  },
  {
   "cell_type": "markdown",
   "id": "8aca12e2",
   "metadata": {},
   "source": [
    "- add `WHERE` clause to also select polygon"
   ]
  },
  {
   "cell_type": "code",
   "execution_count": 98,
   "id": "24b4040b",
   "metadata": {},
   "outputs": [],
   "source": [
    "polygon_top10query_base = \"\"\"SELECT\n",
    "TOP 10\n",
    "{columns}\n",
    "FROM \\\"I/345/gaia2\\\"\n",
    "WHERE parallax < 1\n",
    "  AND bp_rp * 1.0 BETWEEN -0.75 AND 2 \n",
    "  AND 1 = CONTAINS(POINT('ICRS', ra, dec), \n",
    "                   POLYGON('ICRS', {sky_point_list}))\n",
    "\"\"\""
   ]
  },
  {
   "cell_type": "markdown",
   "id": "0a04abae",
   "metadata": {},
   "source": [
    "FORMAT SPECIFIERS\n",
    "- `columns`\n",
    "- `sky_point_list`"
   ]
  },
  {
   "cell_type": "code",
   "execution_count": 99,
   "id": "fe23b841",
   "metadata": {},
   "outputs": [
    {
     "name": "stdout",
     "output_type": "stream",
     "text": [
      "SELECT\n",
      "TOP 10\n",
      "source_id, ra, dec, pmra, pmdec, parallax\n",
      "FROM \"I/345/gaia2\"\n",
      "WHERE parallax < 1\n",
      "  AND bp_rp * 1.0 BETWEEN -0.75 AND 2 \n",
      "  AND 1 = CONTAINS(POINT('ICRS', ra, dec), \n",
      "                   POLYGON('ICRS', 146.275, 19.2619, 135.422, 25.8774, 141.603, 34.3048, 152.817, 27.1361, 146.275, 19.2619))\n",
      "\n"
     ]
    }
   ],
   "source": [
    "polygon_top10query = polygon_top10query_base.format(columns=columns, \n",
    "                          sky_point_list=sky_point_list)\n",
    "print(polygon_top10query)"
   ]
  },
  {
   "cell_type": "markdown",
   "id": "e0ac3f49",
   "metadata": {},
   "source": [
    "- proof-read ------- before we launch"
   ]
  },
  {
   "cell_type": "code",
   "execution_count": 101,
   "id": "efe9c939",
   "metadata": {},
   "outputs": [],
   "source": [
    "polygon_top10query_job = tap_service.run_async(polygon_top10query)"
   ]
  },
  {
   "cell_type": "code",
   "execution_count": 102,
   "id": "7f513af9",
   "metadata": {},
   "outputs": [
    {
     "data": {
      "text/plain": [
       "{'QUERY_STATUS': 'OK',\n",
       " 'PROVIDER': 'CDS',\n",
       " 'QUERY': 'SELECT TOP 10 source_id, ra, dec, pmra, pmdec, parallax FROM \"I/345/gaia2\" WHERE parallax < 1   AND bp_rp * 1.0 BETWEEN -0.75 AND 2    AND 1 = CONTAINS(POINT(\\'ICRS\\', ra, dec),                     POLYGON(\\'ICRS\\', 146.275, 19.2619, 135.422, 25.8774, 141.603, 34.3048, 152.817, 27.1361, 146.275, 19.2619)) '}"
      ]
     },
     "execution_count": 102,
     "metadata": {},
     "output_type": "execute_result"
    }
   ],
   "source": [
    "polygon_top10query_job.infos"
   ]
  },
  {
   "cell_type": "code",
   "execution_count": 103,
   "id": "3c021b42",
   "metadata": {},
   "outputs": [
    {
     "data": {
      "text/html": [
       "<div><i>Table length=10</i>\n",
       "<table id=\"table5946286192\" class=\"table-striped table-bordered table-condensed\">\n",
       "<thead><tr><th>source_id</th><th>ra</th><th>dec</th><th>pmra</th><th>pmdec</th><th>parallax</th></tr></thead>\n",
       "<thead><tr><th></th><th>deg</th><th>deg</th><th>mas / yr</th><th>mas / yr</th><th>mas</th></tr></thead>\n",
       "<thead><tr><th>int64</th><th>float64</th><th>float64</th><th>float64</th><th>float64</th><th>float64</th></tr></thead>\n",
       "<tr><td>621490014069058944</td><td>146.25027906702</td><td>19.28661719637</td><td>1.247</td><td>-7.877</td><td>-0.3693</td></tr>\n",
       "<tr><td>621492075653372160</td><td>146.32228572922</td><td>19.34449004493</td><td>-2.399</td><td>-2.333</td><td>0.7228</td></tr>\n",
       "<tr><td>621492178732589952</td><td>146.31743441943</td><td>19.36186878516</td><td>6.749</td><td>0.11</td><td>0.9157</td></tr>\n",
       "<tr><td>621493106445518720</td><td>146.21614836191</td><td>19.31720803041</td><td>2.248</td><td>-2.692</td><td>0.5535</td></tr>\n",
       "<tr><td>621493209524733312</td><td>146.20333869328</td><td>19.31501717901</td><td>-2.752</td><td>-0.35</td><td>-0.1249</td></tr>\n",
       "<tr><td>621493312603950336</td><td>146.20137461153</td><td>19.32281010865</td><td>-7.993</td><td>-0.599</td><td>0.4103</td></tr>\n",
       "<tr><td>621494309036367360</td><td>146.14573420631</td><td>19.35364591347</td><td>-2.07</td><td>-7.448</td><td>0.173</td></tr>\n",
       "<tr><td>621494412115584000</td><td>146.16288826603</td><td>19.36289494846</td><td>-2.77</td><td>-6.444</td><td>0.2028</td></tr>\n",
       "<tr><td>621494686993162240</td><td>146.27155869065</td><td>19.34411604056</td><td>-4.839</td><td>-7.736</td><td>0.5668</td></tr>\n",
       "<tr><td>621494760007895040</td><td>146.26712535413</td><td>19.34945177768</td><td>-0.446</td><td>0.83</td><td>0.4207</td></tr>\n",
       "</table></div>"
      ],
      "text/plain": [
       "<Table length=10>\n",
       "    source_id             ra            dec         pmra    pmdec   parallax\n",
       "                         deg            deg       mas / yr mas / yr   mas   \n",
       "      int64            float64        float64     float64  float64  float64 \n",
       "------------------ --------------- -------------- -------- -------- --------\n",
       "621490014069058944 146.25027906702 19.28661719637    1.247   -7.877  -0.3693\n",
       "621492075653372160 146.32228572922 19.34449004493   -2.399   -2.333   0.7228\n",
       "621492178732589952 146.31743441943 19.36186878516    6.749     0.11   0.9157\n",
       "621493106445518720 146.21614836191 19.31720803041    2.248   -2.692   0.5535\n",
       "621493209524733312 146.20333869328 19.31501717901   -2.752    -0.35  -0.1249\n",
       "621493312603950336 146.20137461153 19.32281010865   -7.993   -0.599   0.4103\n",
       "621494309036367360 146.14573420631 19.35364591347    -2.07   -7.448    0.173\n",
       "621494412115584000 146.16288826603 19.36289494846    -2.77   -6.444   0.2028\n",
       "621494686993162240 146.27155869065 19.34411604056   -4.839   -7.736   0.5668\n",
       "621494760007895040 146.26712535413 19.34945177768   -0.446     0.83   0.4207"
      ]
     },
     "execution_count": 103,
     "metadata": {},
     "output_type": "execute_result"
    }
   ],
   "source": [
    "polygon_top10query_results = polygon_top10query_job.to_table()\n",
    "polygon_top10query_results"
   ]
  },
  {
   "cell_type": "markdown",
   "id": "eaea9f32",
   "metadata": {},
   "source": [
    "- remove `TOP 10`"
   ]
  },
  {
   "cell_type": "code",
   "execution_count": 104,
   "id": "243c9da7",
   "metadata": {},
   "outputs": [],
   "source": [
    "polygon_query_base = \"\"\"SELECT\n",
    "{columns}\n",
    "FROM \\\"I/345/gaia2\\\"\n",
    "WHERE parallax < 1\n",
    "  AND bp_rp * 1.0 BETWEEN -0.75 AND 2 \n",
    "  AND 1 = CONTAINS(POINT('ICRS', ra, dec), \n",
    "                   POLYGON('ICRS',{sky_point_list}))\n",
    "\"\"\""
   ]
  },
  {
   "cell_type": "markdown",
   "id": "bee44999",
   "metadata": {},
   "source": [
    "- much bigger query will take longer to run"
   ]
  },
  {
   "cell_type": "code",
   "execution_count": 105,
   "id": "226dabd6",
   "metadata": {},
   "outputs": [
    {
     "name": "stdout",
     "output_type": "stream",
     "text": [
      "SELECT\n",
      "source_id, ra, dec, pmra, pmdec, parallax\n",
      "FROM \"I/345/gaia2\"\n",
      "WHERE parallax < 1\n",
      "  AND bp_rp * 1.0 BETWEEN -0.75 AND 2 \n",
      "  AND 1 = CONTAINS(POINT('ICRS', ra, dec), \n",
      "                   POLYGON('ICRS',146.275, 19.2619, 135.422, 25.8774, 141.603, 34.3048, 152.817, 27.1361, 146.275, 19.2619))\n",
      "\n"
     ]
    }
   ],
   "source": [
    "polygon_query = polygon_query_base.format(columns=columns, \n",
    "                          sky_point_list=sky_point_list)\n",
    "print(polygon_query)"
   ]
  },
  {
   "cell_type": "markdown",
   "id": "65ddb8cb",
   "metadata": {},
   "source": [
    "RESULT IS A BIGGER QUERY THAT WE HAVE RUN SO MAY TAKE MORE TIME.\n",
    "- MINE RAN ON THIRD TRY"
   ]
  },
  {
   "cell_type": "code",
   "execution_count": 107,
   "id": "7891a2de",
   "metadata": {},
   "outputs": [],
   "source": [
    "polygon_job = tap_service.run_async(polygon_query)"
   ]
  },
  {
   "cell_type": "code",
   "execution_count": 108,
   "id": "0c4542a5",
   "metadata": {},
   "outputs": [
    {
     "data": {
      "text/plain": [
       "{'QUERY_STATUS': 'OK',\n",
       " 'PROVIDER': 'CDS',\n",
       " 'QUERY': 'SELECT source_id, ra, dec, pmra, pmdec, parallax FROM \"I/345/gaia2\" WHERE parallax < 1   AND bp_rp * 1.0 BETWEEN -0.75 AND 2    AND 1 = CONTAINS(POINT(\\'ICRS\\', ra, dec),                     POLYGON(\\'ICRS\\',146.275, 19.2619, 135.422, 25.8774, 141.603, 34.3048, 152.817, 27.1361, 146.275, 19.2619)) '}"
      ]
     },
     "execution_count": 108,
     "metadata": {},
     "output_type": "execute_result"
    }
   ],
   "source": [
    "polygon_job.infos"
   ]
  },
  {
   "cell_type": "code",
   "execution_count": 109,
   "id": "00bd11f4",
   "metadata": {},
   "outputs": [],
   "source": [
    "polygon_results = polygon_job.to_table()"
   ]
  },
  {
   "cell_type": "code",
   "execution_count": 110,
   "id": "abb69dda",
   "metadata": {},
   "outputs": [
    {
     "data": {
      "text/plain": [
       "140339"
      ]
     },
     "execution_count": 110,
     "metadata": {},
     "output_type": "execute_result"
    }
   ],
   "source": [
    "len(polygon_results)"
   ]
  },
  {
   "cell_type": "markdown",
   "id": "60e0eea4",
   "metadata": {},
   "source": [
    "- There are more than 100,000 stars in this polygon, but that’s a manageable size to work with."
   ]
  },
  {
   "cell_type": "markdown",
   "id": "2e94f7d7",
   "metadata": {},
   "source": [
    "## Saving results"
   ]
  },
  {
   "cell_type": "markdown",
   "id": "d3b0e610",
   "metadata": {},
   "source": [
    "- Astropy `Table` objects provide `write`\n",
    "\n",
    "- overwrite"
   ]
  },
  {
   "cell_type": "code",
   "execution_count": 111,
   "id": "2c55c5b5",
   "metadata": {},
   "outputs": [],
   "source": [
    "filename = 'gd1_results.fits'\n",
    "polygon_results.write(filename, overwrite=True)"
   ]
  },
  {
   "cell_type": "markdown",
   "id": "572d91e2",
   "metadata": {},
   "source": [
    "- filename.fits - FITS - format preserves the metadata"
   ]
  },
  {
   "cell_type": "markdown",
   "id": "c1b18fa4",
   "metadata": {},
   "source": [
    "- USE `getsize` to check write worked"
   ]
  },
  {
   "cell_type": "code",
   "execution_count": 112,
   "id": "8061db0e",
   "metadata": {},
   "outputs": [
    {
     "data": {
      "text/plain": [
       "6.4324951171875"
      ]
     },
     "execution_count": 112,
     "metadata": {},
     "output_type": "execute_result"
    }
   ],
   "source": [
    "from os.path import getsize\n",
    "\n",
    "MB = 1024 * 1024\n",
    "getsize(filename) / MB"
   ]
  },
  {
   "cell_type": "markdown",
   "id": "9c09003e",
   "metadata": {},
   "source": [
    "## Summary"
   ]
  },
  {
   "cell_type": "markdown",
   "id": "e1fb6ada",
   "metadata": {},
   "source": [
    " - use units\n",
    " - use `format` function -- less error-prone\n",
    " - developed query incrementally\n",
    " - complex queries select polygon region\n",
    " - save data to local file after query works\n",
    "     - download and save to .fits file\n"
   ]
  }
 ],
 "metadata": {
  "kernelspec": {
   "display_name": "Python 3 (ipykernel)",
   "language": "python",
   "name": "python3"
  },
  "language_info": {
   "codemirror_mode": {
    "name": "ipython",
    "version": 3
   },
   "file_extension": ".py",
   "mimetype": "text/x-python",
   "name": "python",
   "nbconvert_exporter": "python",
   "pygments_lexer": "ipython3",
   "version": "3.9.7"
  },
  "toc": {
   "base_numbering": 1,
   "nav_menu": {
    "height": "562px",
    "width": "332px"
   },
   "number_sections": true,
   "sideBar": true,
   "skip_h1_title": false,
   "title_cell": "Table of Contents",
   "title_sidebar": "Contents",
   "toc_cell": false,
   "toc_position": {},
   "toc_section_display": true,
   "toc_window_display": false
  }
 },
 "nbformat": 4,
 "nbformat_minor": 5
}
