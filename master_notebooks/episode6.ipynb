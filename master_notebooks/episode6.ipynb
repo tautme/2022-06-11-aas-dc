{
 "cells": [
  {
   "cell_type": "code",
   "execution_count": 1,
   "id": "52c3808c",
   "metadata": {},
   "outputs": [],
   "source": [
    "import requests\n",
    "import pyvo as vo\n",
    "import astropy.units as u\n",
    "from astropy.coordinates import SkyCoord\n",
    "from gala.coordinates import GD1Koposov10, GD1, reflex_correct\n",
    "import matplotlib.pyplot as plt\n",
    "import pandas as pd\n",
    "\n",
    "from episode_functions import *"
   ]
  },
  {
   "cell_type": "code",
   "execution_count": 2,
   "id": "024632e3-4f9e-4aff-b57d-d3c98b11f228",
   "metadata": {},
   "outputs": [],
   "source": [
    "name='GAIA@AIP'\n",
    "url='https://gaia.aip.de/tap'\n",
    "token = 'e23cb2cfd6856cf63bf330c45e31e5f0b02b943d'\n",
    "tap_session = requests.Session()\n",
    "tap_session.headers['Authorization'] = token\n",
    "tap_service = vo.dal.TAPService(url, session=tap_session)"
   ]
  },
  {
   "cell_type": "markdown",
   "id": "8b28f95d",
   "metadata": {},
   "source": [
    "# Epsidoe 6: Join"
   ]
  },
  {
   "cell_type": "markdown",
   "id": "167fc51c",
   "metadata": {},
   "source": [
    "* BP and RP are broad band filters - not great for CMD\n",
    "* Use g and i from PanSTARRS survey (narrower band)\n",
    "* Note that matching catalogs is not trivial - we're lucky that Gaia didi this for us"
   ]
  },
  {
   "cell_type": "markdown",
   "id": "21c0014a",
   "metadata": {},
   "source": [
    "# Best Neighbour Table"
   ]
  },
  {
   "cell_type": "code",
   "execution_count": 27,
   "id": "c4abfc2d",
   "metadata": {},
   "outputs": [],
   "source": [
    "ps_descrip_query = \"\"\"SELECT * \n",
    "FROM tap_schema.tables \n",
    "WHERE table_name='gaiadr2.panstarrs1_best_neighbour'\""
   ]
  },
  {
   "cell_type": "code",
   "execution_count": 28,
   "id": "febf0e9e",
   "metadata": {},
   "outputs": [
    {
     "name": "stdout",
     "output_type": "stream",
     "text": [
      "gaiadr2.panstarrs1_best_neighbour\n",
      "    Pan-STARRS1 best neighbour\n",
      "\n"
     ]
    }
   ],
   "source": [
    "ps_descrip_result= tap_service.run_sync(ps_descrip_query)\n",
    "ps_descrip_table = ps_descrip_result.to_table()\n",
    "ps_descrip_table"
   ]
  },
  {
   "cell_type": "code",
   "execution_count": 30,
   "id": "c609f6e0",
   "metadata": {},
   "outputs": [
    {
     "name": "stdout",
     "output_type": "stream",
     "text": [
      "7\n"
     ]
    }
   ],
   "source": [
    "ps_column_query = \"\"\"SELECT column_name, description, unit \n",
    "FROM tap_schema.columns \n",
    "WHERE table_name = 'gaiadr2.panstarrs1_best_neighbour'\"\"\"\n",
    "ps_column_table = tap_service.run_sync(ps_column_query)\n",
    "ps_column_table.to_table()"
   ]
  },
  {
   "cell_type": "code",
   "execution_count": 185,
   "id": "e02b5f84",
   "metadata": {},
   "outputs": [
    {
     "name": "stdout",
     "output_type": "stream",
     "text": [
      "source_id\n",
      "original_ext_source_id\n",
      "angular_distance\n",
      "number_of_neighbours\n",
      "number_of_mates\n",
      "best_neighbour_multiplicity\n",
      "gaia_astrometric_params\n"
     ]
    }
   ],
   "source": [
    "print(len(ps_column_table))"
   ]
  },
  {
   "cell_type": "markdown",
   "id": "35ec866a",
   "metadata": {},
   "source": [
    "The ones we will use are:\n",
    "\n",
    "`source_id`, which we will match up with source_id in the Gaia table.\n",
    "\n",
    "`best_neighbour_multiplicity`, which indicates how many sources in Pan-STARRS are matched with the same probability to this source in Gaia. (should be 1)\n",
    "\n",
    "`number_of_mates`, which indicates the number of other sources in Gaia that are matched with the same source in Pan-STARRS. (should be 0)\n",
    "\n",
    "`original_ext_source_id`, which we will match up with obj_id in the Pan-STARRS table."
   ]
  },
  {
   "cell_type": "markdown",
   "id": "d55c029e",
   "metadata": {},
   "source": [
    "* source_id from gaia_source matched source_id from panstarrs1_best_neighbour\n",
    "* original_ext_source_id in panstarrs1_best_neighbour matches obj_id in panstarrs1_original_valid\n",
    "* Use join to match ra, dec, pmra, pmdec and g and i band photometry for same stars"
   ]
  },
  {
   "cell_type": "code",
   "execution_count": 32,
   "id": "e7a202f4",
   "metadata": {},
   "outputs": [],
   "source": [
    "ps_best_neighbor_query = \"\"\"SELECT \n",
    "TOP 5\n",
    "source_id, best_neighbour_multiplicity, number_of_mates, original_ext_source_id\n",
    "FROM gaiadr2.panstarrs1_best_neighbour\n",
    "\"\"\""
   ]
  },
  {
   "cell_type": "code",
   "execution_count": 34,
   "id": "d9449f24",
   "metadata": {},
   "outputs": [
    {
     "data": {
      "text/plain": [
       "{'QUERY_STATUS': 'OK',\n",
       " 'QUERY': 'SELECT \\nTOP 5\\nsource_id, best_neighbour_multiplicity, number_of_mates, original_ext_source_id\\nFROM gaiadr2.panstarrs1_best_neighbour',\n",
       " 'QUERY_LANGUAGE': 'adql-2.0',\n",
       " 'SOURCE': 'gaiadr2.panstarrs1_best_neighbour'}"
      ]
     },
     "execution_count": 34,
     "metadata": {},
     "output_type": "execute_result"
    }
   ],
   "source": [
    "ps_best_neighbor_job = tap_service.run_sync(ps_best_neighbor_query)\n",
    "ps_best_neighbor_job.infos"
   ]
  },
  {
   "cell_type": "code",
   "execution_count": 35,
   "id": "b5700520",
   "metadata": {},
   "outputs": [
    {
     "data": {
      "text/html": [
       "<i>Table length=5</i>\n",
       "<table id=\"table5148266944\" class=\"table-striped table-bordered table-condensed\">\n",
       "<thead><tr><th>source_id</th><th>best_neighbour_multiplicity</th><th>number_of_mates</th><th>original_ext_source_id</th></tr></thead>\n",
       "<thead><tr><th>int64</th><th>int16</th><th>int16</th><th>int64</th></tr></thead>\n",
       "<tr><td>4151042980593547008</td><td>1</td><td>0</td><td>94052705277571961</td></tr>\n",
       "<tr><td>4106041447120107392</td><td>1</td><td>0</td><td>94052825102961826</td></tr>\n",
       "<tr><td>4165855566855879296</td><td>1</td><td>0</td><td>94052613725651996</td></tr>\n",
       "<tr><td>4151080845023608064</td><td>1</td><td>0</td><td>94052715141551894</td></tr>\n",
       "<tr><td>4106429128090826112</td><td>1</td><td>0</td><td>94052803729071947</td></tr>\n",
       "</table>"
      ],
      "text/plain": [
       "<Table length=5>\n",
       "     source_id      best_neighbour_multiplicity ... original_ext_source_id\n",
       "       int64                   int16            ...         int64         \n",
       "------------------- --------------------------- ... ----------------------\n",
       "4151042980593547008                           1 ...      94052705277571961\n",
       "4106041447120107392                           1 ...      94052825102961826\n",
       "4165855566855879296                           1 ...      94052613725651996\n",
       "4151080845023608064                           1 ...      94052715141551894\n",
       "4106429128090826112                           1 ...      94052803729071947"
      ]
     },
     "execution_count": 35,
     "metadata": {},
     "output_type": "execute_result"
    }
   ],
   "source": [
    "ps_best_neighbor_results = ps_best_neighbor_job.to_table()\n",
    "ps_best_neighbor_results"
   ]
  },
  {
   "cell_type": "markdown",
   "id": "a953ec03",
   "metadata": {},
   "source": [
    "## The Pan-STARRS table"
   ]
  },
  {
   "cell_type": "markdown",
   "id": "0b00206b",
   "metadata": {},
   "source": [
    "We'll just have to talk them through this\n",
    "\n",
    "https://datacarpentry.org/astronomy-python/06-join/index.html#the-pan-starrs-table"
   ]
  },
  {
   "cell_type": "markdown",
   "id": "fa0d9854",
   "metadata": {},
   "source": [
    "## Joining Tables"
   ]
  },
  {
   "cell_type": "markdown",
   "id": "b79845eb",
   "metadata": {},
   "source": [
    "Bring back best practices for complex query:\n",
    "* start with something you know works\n",
    "* make incremental modifications\n",
    "* Use TOP or COUNT"
   ]
  },
  {
   "cell_type": "code",
   "execution_count": 36,
   "id": "a9a0f1e0",
   "metadata": {},
   "outputs": [],
   "source": [
    "test_cone_query = \"\"\"SELECT \n",
    "TOP 10 \n",
    "source_id\n",
    "FROM gaiadr2.gaia_source\n",
    "WHERE 1=CONTAINS(\n",
    "  POINT('ICRS', ra, dec),\n",
    "  CIRCLE('ICRS', 88.8, 7.4, 0.08333333))\n",
    "\"\"\""
   ]
  },
  {
   "cell_type": "code",
   "execution_count": 39,
   "id": "7c561cb0",
   "metadata": {},
   "outputs": [
    {
     "data": {
      "text/plain": [
       "{'QUERY_STATUS': 'OK',\n",
       " 'QUERY': \"SELECT \\nTOP 10 \\nsource_id\\nFROM gaiadr2.gaia_source\\nWHERE 1=CONTAINS(\\n  POINT('ICRS', ra, dec),\\n  CIRCLE('ICRS', 88.8, 7.4, 0.08333333))\",\n",
       " 'QUERY_LANGUAGE': 'adql-2.0',\n",
       " 'SOURCE': 'gaiadr2.gaia_source'}"
      ]
     },
     "execution_count": 39,
     "metadata": {},
     "output_type": "execute_result"
    }
   ],
   "source": [
    "test_cone_job = tap_service.run_sync(test_cone_query)\n",
    "test_cone_job.infos"
   ]
  },
  {
   "cell_type": "code",
   "execution_count": 40,
   "id": "74497db0",
   "metadata": {},
   "outputs": [
    {
     "data": {
      "text/html": [
       "<i>Table length=10</i>\n",
       "<table id=\"table5148269296\" class=\"table-striped table-bordered table-condensed\">\n",
       "<thead><tr><th>source_id</th></tr></thead>\n",
       "<thead><tr><th>int64</th></tr></thead>\n",
       "<tr><td>3322774102494024320</td></tr>\n",
       "<tr><td>3322963871329948928</td></tr>\n",
       "<tr><td>3322963527734479360</td></tr>\n",
       "<tr><td>3322963355933923072</td></tr>\n",
       "<tr><td>3322961912826642304</td></tr>\n",
       "<tr><td>3322955831151253760</td></tr>\n",
       "<tr><td>3322963665173252224</td></tr>\n",
       "<tr><td>3322963527732586240</td></tr>\n",
       "<tr><td>3322963733891013888</td></tr>\n",
       "<tr><td>3322774549171570432</td></tr>\n",
       "</table>"
      ],
      "text/plain": [
       "<Table length=10>\n",
       "     source_id     \n",
       "       int64       \n",
       "-------------------\n",
       "3322774102494024320\n",
       "3322963871329948928\n",
       "3322963527734479360\n",
       "3322963355933923072\n",
       "3322961912826642304\n",
       "3322955831151253760\n",
       "3322963665173252224\n",
       "3322963527732586240\n",
       "3322963733891013888\n",
       "3322774549171570432"
      ]
     },
     "execution_count": 40,
     "metadata": {},
     "output_type": "execute_result"
    }
   ],
   "source": [
    "test_cone_results = test_cone_job.to_table()\n",
    "test_cone_results"
   ]
  },
  {
   "cell_type": "markdown",
   "id": "29bb3427",
   "metadata": {},
   "source": [
    "start making small modifications:\n",
    "* replace `source_id` with format specifier and columns array"
   ]
  },
  {
   "cell_type": "code",
   "execution_count": 41,
   "id": "f7ce26bf",
   "metadata": {},
   "outputs": [],
   "source": [
    "cone_base_query = \"\"\"SELECT \n",
    "{columns}\n",
    "FROM gaiadr2.gaia_source\n",
    "WHERE 1=CONTAINS(\n",
    "  POINT('ICRS', ra, dec),\n",
    "  CIRCLE('ICRS', 88.8, 7.4, 0.08333333))\n",
    "\"\"\""
   ]
  },
  {
   "cell_type": "code",
   "execution_count": 42,
   "id": "ef67a8dc",
   "metadata": {},
   "outputs": [
    {
     "name": "stdout",
     "output_type": "stream",
     "text": [
      "SELECT \n",
      "source_id, ra, dec, pmra, pmdec\n",
      "FROM gaiadr2.gaia_source\n",
      "WHERE 1=CONTAINS(\n",
      "  POINT('ICRS', ra, dec),\n",
      "  CIRCLE('ICRS', 88.8, 7.4, 0.08333333))\n",
      "\n"
     ]
    }
   ],
   "source": [
    "columns = 'source_id, ra, dec, pmra, pmdec'\n",
    "\n",
    "cone_query = cone_base_query.format(columns=columns)\n",
    "print(cone_query)"
   ]
  },
  {
   "cell_type": "code",
   "execution_count": 44,
   "id": "f5bcd716",
   "metadata": {},
   "outputs": [
    {
     "data": {
      "text/plain": [
       "{'QUERY_STATUS': 'OK',\n",
       " 'QUERY': \"SELECT \\nsource_id, ra, dec, pmra, pmdec\\nFROM gaiadr2.gaia_source\\nWHERE 1=CONTAINS(\\n  POINT('ICRS', ra, dec),\\n  CIRCLE('ICRS', 88.8, 7.4, 0.08333333))\",\n",
       " 'QUERY_LANGUAGE': 'adql-2.0',\n",
       " 'SOURCE': 'gaiadr2.gaia_source'}"
      ]
     },
     "execution_count": 44,
     "metadata": {},
     "output_type": "execute_result"
    }
   ],
   "source": [
    "cone_job = tap_service.run_async(cone_query)\n",
    "cone_job.infos"
   ]
  },
  {
   "cell_type": "code",
   "execution_count": 45,
   "id": "1474866a",
   "metadata": {},
   "outputs": [
    {
     "data": {
      "text/html": [
       "<i>Table length=594</i>\n",
       "<table id=\"table5148321200\" class=\"table-striped table-bordered table-condensed\">\n",
       "<thead><tr><th>source_id</th><th>ra</th><th>dec</th><th>pmra</th><th>pmdec</th></tr></thead>\n",
       "<thead><tr><th></th><th>Angle[deg]</th><th>Angle[deg]</th><th>Angular Velocity[mas/year]</th><th>Angular Velocity[mas/year]</th></tr></thead>\n",
       "<thead><tr><th>int64</th><th>float64</th><th>float64</th><th>float64</th><th>float64</th></tr></thead>\n",
       "<tr><td>3322774102494024320</td><td>88.79912516284324</td><td>7.345629133244316</td><td>-0.3846668894015961</td><td>-0.5265885869009654</td></tr>\n",
       "<tr><td>3322963871329948928</td><td>88.87190097154428</td><td>7.430326542342257</td><td>1.6199268163864358</td><td>-1.1373590401698759</td></tr>\n",
       "<tr><td>3322963527734479360</td><td>88.79351327982786</td><td>7.452070232913954</td><td>--</td><td>--</td></tr>\n",
       "<tr><td>3322963355933923072</td><td>88.75671865195727</td><td>7.42827715750435</td><td>0.6106717155625973</td><td>-1.8107242575852163</td></tr>\n",
       "<tr><td>...</td><td>...</td><td>...</td><td>...</td><td>...</td></tr>\n",
       "<tr><td>3322962840537868032</td><td>88.72571439012036</td><td>7.397882741216588</td><td>2.27462723958261</td><td>-1.7203707394098302</td></tr>\n",
       "<tr><td>3322963149775504896</td><td>88.7268093296086</td><td>7.417823009392743</td><td>0.6214173850631414</td><td>1.868886553066724</td></tr>\n",
       "<tr><td>3322956037313221376</td><td>88.73202350548281</td><td>7.354769215883646</td><td>-2.5874360530198914</td><td>-0.333848885914519</td></tr>\n",
       "<tr><td>3322963562094294912</td><td>88.74770816268497</td><td>7.432334735912122</td><td>--</td><td>--</td></tr>\n",
       "<tr><td>3322965245721180672</td><td>88.80116675650194</td><td>7.481709351623284</td><td>1.7810123353666862</td><td>2.5782658158653975</td></tr>\n",
       "</table>"
      ],
      "text/plain": [
       "<Table length=594>\n",
       "     source_id              ra        ...           pmdec           \n",
       "                        Angle[deg]    ... Angular Velocity[mas/year]\n",
       "       int64             float64      ...          float64          \n",
       "------------------- ----------------- ... --------------------------\n",
       "3322774102494024320 88.79912516284324 ...        -0.5265885869009654\n",
       "3322963871329948928 88.87190097154428 ...        -1.1373590401698759\n",
       "3322963527734479360 88.79351327982786 ...                         --\n",
       "3322963355933923072 88.75671865195727 ...        -1.8107242575852163\n",
       "                ...               ... ...                        ...\n",
       "3322962840537868032 88.72571439012036 ...        -1.7203707394098302\n",
       "3322963149775504896  88.7268093296086 ...          1.868886553066724\n",
       "3322956037313221376 88.73202350548281 ...         -0.333848885914519\n",
       "3322963562094294912 88.74770816268497 ...                         --\n",
       "3322965245721180672 88.80116675650194 ...         2.5782658158653975"
      ]
     },
     "execution_count": 45,
     "metadata": {},
     "output_type": "execute_result"
    }
   ],
   "source": [
    "cone_results = cone_job.to_table()\n",
    "cone_results"
   ]
  },
  {
   "cell_type": "markdown",
   "id": "27837ef2",
   "metadata": {},
   "source": [
    "## Adding the best neighbor table"
   ]
  },
  {
   "cell_type": "code",
   "execution_count": 60,
   "id": "b420d5a2",
   "metadata": {},
   "outputs": [],
   "source": [
    "neighbours_base_query = \"\"\"SELECT \n",
    "{columns}\n",
    "FROM gaiadr2.gaia_source AS gaia\n",
    "JOIN gaiadr2.panstarrs1_best_neighbour AS best\n",
    "  ON gaia.source_id = best.source_id\n",
    "WHERE 1=CONTAINS(\n",
    "  POINT('ICRS', gaia.ra, gaia.dec),\n",
    "  CIRCLE('ICRS', 88.8, 7.4, 0.08333333))\n",
    "\"\"\""
   ]
  },
  {
   "cell_type": "code",
   "execution_count": 65,
   "id": "bdf0b282",
   "metadata": {},
   "outputs": [],
   "source": [
    "neighbours_base_query = \"\"\"SELECT \n",
    "{columns}\n",
    "FROM gaiadr2.gaia_source AS gaia\n",
    "JOIN gaiadr2.panstarrs1_best_neighbour AS best\n",
    "  USING(source_id)\n",
    "WHERE 1=CONTAINS(\n",
    "  POINT('ICRS', gaia.ra, gaia.dec),\n",
    "  CIRCLE('ICRS', 88.8, 7.4, 0.08333333))\n",
    "\"\"\""
   ]
  },
  {
   "cell_type": "markdown",
   "id": "74c40f62",
   "metadata": {},
   "source": [
    "Can use `USING` instead of `ON`"
   ]
  },
  {
   "cell_type": "markdown",
   "id": "d360523f",
   "metadata": {},
   "source": [
    "specifying table names in column names"
   ]
  },
  {
   "cell_type": "code",
   "execution_count": 66,
   "id": "b7a036b2",
   "metadata": {},
   "outputs": [
    {
     "name": "stdout",
     "output_type": "stream",
     "text": [
      "SELECT \n",
      "gaia.source_id, gaia.ra, gaia.dec, gaia.pmra, gaia.pmdec, best.best_neighbour_multiplicity, best.number_of_mates\n",
      "FROM gaiadr2.gaia_source AS gaia\n",
      "JOIN gaiadr2.panstarrs1_best_neighbour AS best\n",
      "  USING(source_id)\n",
      "WHERE 1=CONTAINS(\n",
      "  POINT('ICRS', gaia.ra, gaia.dec),\n",
      "  CIRCLE('ICRS', 88.8, 7.4, 0.08333333))\n",
      "\n"
     ]
    }
   ],
   "source": [
    "column_list_neighbours = ['gaia.source_id',\n",
    "               'gaia.ra',\n",
    "               'gaia.dec',\n",
    "               'gaia.pmra',\n",
    "               'gaia.pmdec',\n",
    "               'best.best_neighbour_multiplicity',\n",
    "               'best.number_of_mates',\n",
    "              ]\n",
    "columns = ', '.join(column_list_neighbours)\n",
    "\n",
    "neighbours_query = neighbours_base_query.format(columns=columns)\n",
    "print(neighbours_query)"
   ]
  },
  {
   "cell_type": "code",
   "execution_count": 67,
   "id": "ef93cfa1",
   "metadata": {},
   "outputs": [
    {
     "data": {
      "text/plain": [
       "{'QUERY_STATUS': 'OK',\n",
       " 'QUERY': \"SELECT \\ngaia.source_id, gaia.ra, gaia.dec, gaia.pmra, gaia.pmdec, best.best_neighbour_multiplicity, best.number_of_mates\\nFROM gaiadr2.gaia_source AS gaia\\nJOIN gaiadr2.panstarrs1_best_neighbour AS best\\n  USING(source_id)\\nWHERE 1=CONTAINS(\\n  POINT('ICRS', gaia.ra, gaia.dec),\\n  CIRCLE('ICRS', 88.8, 7.4, 0.08333333))\",\n",
       " 'QUERY_LANGUAGE': 'adql-2.0',\n",
       " 'SOURCE': 'gaiadr2.panstarrs1_best_neighbour'}"
      ]
     },
     "execution_count": 67,
     "metadata": {},
     "output_type": "execute_result"
    }
   ],
   "source": [
    "neighbours_job = tap_service.run_sync(neighbours_query)\n",
    "neighbours_job.infos"
   ]
  },
  {
   "cell_type": "code",
   "execution_count": 68,
   "id": "de8341f3",
   "metadata": {},
   "outputs": [
    {
     "data": {
      "text/html": [
       "<i>Table length=490</i>\n",
       "<table id=\"table5148322880\" class=\"table-striped table-bordered table-condensed\">\n",
       "<thead><tr><th>source_id</th><th>ra</th><th>dec</th><th>pmra</th><th>pmdec</th><th>best_neighbour_multiplicity</th><th>number_of_mates</th></tr></thead>\n",
       "<thead><tr><th></th><th>deg</th><th>deg</th><th>mas / yr</th><th>mas / yr</th><th></th><th></th></tr></thead>\n",
       "<thead><tr><th>int64</th><th>float64</th><th>float64</th><th>float64</th><th>float64</th><th>int16</th><th>int16</th></tr></thead>\n",
       "<tr><td>3322774102494024320</td><td>88.7991251628432</td><td>7.34562913324432</td><td>-0.384666889401596</td><td>-0.526588586900965</td><td>1</td><td>0</td></tr>\n",
       "<tr><td>3322963871329948928</td><td>88.8719009715443</td><td>7.43032654234226</td><td>1.61992681638644</td><td>-1.13735904016988</td><td>1</td><td>0</td></tr>\n",
       "<tr><td>3322963527734479360</td><td>88.7935132798279</td><td>7.45207023291395</td><td>--</td><td>--</td><td>1</td><td>0</td></tr>\n",
       "<tr><td>3322963355933923072</td><td>88.7567186519573</td><td>7.42827715750435</td><td>0.610671715562597</td><td>-1.81072425758522</td><td>1</td><td>0</td></tr>\n",
       "<tr><td>...</td><td>...</td><td>...</td><td>...</td><td>...</td><td>...</td><td>...</td></tr>\n",
       "<tr><td>3322962015904151552</td><td>88.7417712864736</td><td>7.37405101687367</td><td>-0.420781805600245</td><td>-8.35323020939399</td><td>1</td><td>0</td></tr>\n",
       "<tr><td>3322956037309681920</td><td>88.7368673592407</td><td>7.35875655307827</td><td>-1.86775829367713</td><td>-3.08160062661552</td><td>1</td><td>0</td></tr>\n",
       "<tr><td>3322962840537868032</td><td>88.7257143901204</td><td>7.39788274121659</td><td>2.27462723958261</td><td>-1.72037073940983</td><td>1</td><td>0</td></tr>\n",
       "<tr><td>3322963149775504896</td><td>88.7268093296086</td><td>7.41782300939274</td><td>0.621417385063141</td><td>1.86888655306672</td><td>1</td><td>0</td></tr>\n",
       "<tr><td>3322956037313221376</td><td>88.7320235054828</td><td>7.35476921588365</td><td>-2.58743605301989</td><td>-0.333848885914519</td><td>1</td><td>0</td></tr>\n",
       "</table>"
      ],
      "text/plain": [
       "<Table length=490>\n",
       "     source_id             ra        ... number_of_mates\n",
       "                          deg        ...                \n",
       "       int64            float64      ...      int16     \n",
       "------------------- ---------------- ... ---------------\n",
       "3322774102494024320 88.7991251628432 ...               0\n",
       "3322963871329948928 88.8719009715443 ...               0\n",
       "3322963527734479360 88.7935132798279 ...               0\n",
       "3322963355933923072 88.7567186519573 ...               0\n",
       "                ...              ... ...             ...\n",
       "3322962015904151552 88.7417712864736 ...               0\n",
       "3322956037309681920 88.7368673592407 ...               0\n",
       "3322962840537868032 88.7257143901204 ...               0\n",
       "3322963149775504896 88.7268093296086 ...               0\n",
       "3322956037313221376 88.7320235054828 ...               0"
      ]
     },
     "execution_count": 68,
     "metadata": {},
     "output_type": "execute_result"
    }
   ],
   "source": [
    "neighbours_results = neighbours_job.to_table()\n",
    "neighbours_results = rename_units(neighbours_results)\n",
    "neighbours_results"
   ]
  },
  {
   "cell_type": "markdown",
   "id": "7ec834bf",
   "metadata": {},
   "source": [
    "note this table has fewer results because it shows only rows in both tables - some Gaia stars aren't in PanSTARRS - this is called an inner join"
   ]
  },
  {
   "cell_type": "markdown",
   "id": "4d32ea1e",
   "metadata": {},
   "source": [
    "## Selecting by coordinate and proper motion"
   ]
  },
  {
   "cell_type": "code",
   "execution_count": 34,
   "id": "f77c16e7",
   "metadata": {},
   "outputs": [],
   "source": [
    "candidate_coord_pm_query_base = \"\"\"SELECT \n",
    "{columns}\n",
    "FROM gaiadr2.gaia_source\n",
    "WHERE parallax < 1\n",
    "  AND bp_rp BETWEEN -0.75 AND 2 \n",
    "  AND 1 = CONTAINS(POINT('ICRS', ra, dec), \n",
    "                   POLYGON('ICRS', {sky_point_list}))\n",
    "  AND pmra BETWEEN {pmra_min} AND {pmra_max}\n",
    "  AND pmdec BETWEEN {pmdec_min} AND {pmdec_max}\n",
    "\"\"\""
   ]
  },
  {
   "cell_type": "code",
   "execution_count": 36,
   "id": "f05a2190",
   "metadata": {},
   "outputs": [
    {
     "name": "stdout",
     "output_type": "stream",
     "text": [
      "SELECT \n",
      "source_id, ra, dec, pmra, pmdec\n",
      "FROM gaiadr2.gaia_source\n",
      "WHERE parallax < 1\n",
      "  AND bp_rp BETWEEN -0.75 AND 2 \n",
      "  AND 1 = CONTAINS(POINT('ICRS', ra, dec), \n",
      "                   POLYGON('ICRS', 135.306, 8.39862, 126.51, 13.4449, 163.017, 54.2424, 172.933, 46.4726, 135.306, 8.39862))\n",
      "  AND pmra BETWEEN -6.7 AND -3\n",
      "  AND pmdec BETWEEN -14.31 AND -11.2\n",
      "\n"
     ]
    }
   ],
   "source": [
    "columns = 'source_id, ra, dec, pmra, pmdec'\n",
    "\n",
    "candidate_coord_pm_query = candidate_coord_pm_query_base.format(columns=columns,\n",
    "                            sky_point_list=sky_point_list,\n",
    "                            pmra_min=pmra_min,\n",
    "                            pmra_max=pmra_max,\n",
    "                            pmdec_min=pmdec_min,\n",
    "                            pmdec_max=pmdec_max)\n",
    "\n",
    "print(candidate_coord_pm_query)"
   ]
  },
  {
   "cell_type": "code",
   "execution_count": 40,
   "id": "58b4ef02",
   "metadata": {},
   "outputs": [
    {
     "data": {
      "text/plain": [
       "{'QUERY_STATUS': 'OK',\n",
       " 'QUERY': \"SELECT \\nsource_id, ra, dec, pmra, pmdec\\nFROM gaiadr2.gaia_source\\nWHERE parallax < 1\\n  AND bp_rp BETWEEN -0.75 AND 2 \\n  AND 1 = CONTAINS(POINT('ICRS', ra, dec), \\n                   POLYGON('ICRS', 135.306, 8.39862, 126.51, 13.4449, 163.017, 54.2424, 172.933, 46.4726, 135.306, 8.39862))\\n  AND pmra BETWEEN -6.7 AND -3\\n  AND pmdec BETWEEN -14.31 AND -11.2\",\n",
       " 'QUERY_LANGUAGE': 'adql-2.0',\n",
       " 'SOURCE': 'gaiadr2.gaia_source'}"
      ]
     },
     "execution_count": 40,
     "metadata": {},
     "output_type": "execute_result"
    }
   ],
   "source": [
    "candidate_coord_pm_job = tap_service.run_async(candidate_coord_pm_query) #note you can add the keyword queue='5m' or queue='2h' if having timeout issues\n",
    "candidate_coord_pm_job.infos"
   ]
  },
  {
   "cell_type": "code",
   "execution_count": 41,
   "id": "f37537d0",
   "metadata": {},
   "outputs": [
    {
     "data": {
      "text/html": [
       "<i>Table length=8409</i>\n",
       "<table id=\"table5166975248\" class=\"table-striped table-bordered table-condensed\">\n",
       "<thead><tr><th>source_id</th><th>ra</th><th>dec</th><th>pmra</th><th>pmdec</th></tr></thead>\n",
       "<thead><tr><th></th><th>Angle[deg]</th><th>Angle[deg]</th><th>Angular Velocity[mas/year]</th><th>Angular Velocity[mas/year]</th></tr></thead>\n",
       "<thead><tr><th>int64</th><th>float64</th><th>float64</th><th>float64</th><th>float64</th></tr></thead>\n",
       "<tr><td>684751240206357376</td><td>136.07553479476417</td><td>20.858641590222035</td><td>-6.2541465876382505</td><td>-13.553910443109421</td></tr>\n",
       "<tr><td>684614969484217472</td><td>135.28016823868472</td><td>20.306664668635438</td><td>-4.028998393801843</td><td>-11.219809837537092</td></tr>\n",
       "<tr><td>684662626441347328</td><td>135.1453784776957</td><td>20.330503615090926</td><td>-5.467897791172192</td><td>-12.826169997419353</td></tr>\n",
       "<tr><td>684655586991056512</td><td>135.15238351660247</td><td>20.24850361286202</td><td>-3.5020415298392957</td><td>-11.585200755131742</td></tr>\n",
       "<tr><td>684682525024594816</td><td>135.06212986865035</td><td>20.576247265363623</td><td>-4.9266137358470345</td><td>-11.232616892125534</td></tr>\n",
       "<tr><td>684631840115621888</td><td>134.70061126129164</td><td>20.090535408044154</td><td>-4.257745508479938</td><td>-11.524211235291316</td></tr>\n",
       "<tr><td>...</td><td>...</td><td>...</td><td>...</td><td>...</td></tr>\n",
       "<tr><td>665022295048844288</td><td>131.89581281812244</td><td>21.810608366018453</td><td>-4.716737389193643</td><td>-11.685651072007026</td></tr>\n",
       "<tr><td>665022707365697280</td><td>131.99286299022086</td><td>21.847025363219462</td><td>-5.0096222961808845</td><td>-13.745682983692536</td></tr>\n",
       "<tr><td>665106991803773184</td><td>131.6018502780539</td><td>22.428097787840663</td><td>-3.368842981221239</td><td>-11.979223363803854</td></tr>\n",
       "<tr><td>665002121587958784</td><td>131.67343038335426</td><td>21.84990067032019</td><td>-3.4878797315543313</td><td>-13.387963235404639</td></tr>\n",
       "<tr><td>665005145242835968</td><td>131.4705472468891</td><td>21.698028946817637</td><td>-6.190343332638268</td><td>-13.71596691370802</td></tr>\n",
       "<tr><td>664880492408531840</td><td>131.06954648473854</td><td>21.14322714891397</td><td>-4.047005476987713</td><td>-11.796273887863691</td></tr>\n",
       "</table>"
      ],
      "text/plain": [
       "<Table length=8409>\n",
       "    source_id              ra         ...           pmdec           \n",
       "                       Angle[deg]     ... Angular Velocity[mas/year]\n",
       "      int64             float64       ...          float64          \n",
       "------------------ ------------------ ... --------------------------\n",
       "684751240206357376 136.07553479476417 ...        -13.553910443109421\n",
       "684614969484217472 135.28016823868472 ...        -11.219809837537092\n",
       "684662626441347328  135.1453784776957 ...        -12.826169997419353\n",
       "684655586991056512 135.15238351660247 ...        -11.585200755131742\n",
       "684682525024594816 135.06212986865035 ...        -11.232616892125534\n",
       "684631840115621888 134.70061126129164 ...        -11.524211235291316\n",
       "               ...                ... ...                        ...\n",
       "665022295048844288 131.89581281812244 ...        -11.685651072007026\n",
       "665022707365697280 131.99286299022086 ...        -13.745682983692536\n",
       "665106991803773184  131.6018502780539 ...        -11.979223363803854\n",
       "665002121587958784 131.67343038335426 ...        -13.387963235404639\n",
       "665005145242835968  131.4705472468891 ...         -13.71596691370802\n",
       "664880492408531840 131.06954648473854 ...        -11.796273887863691"
      ]
     },
     "execution_count": 41,
     "metadata": {},
     "output_type": "execute_result"
    }
   ],
   "source": [
    "candidate_coord_pm_results = candidate_coord_pm_job.to_table()\n",
    "candidate_coord_pm_results"
   ]
  },
  {
   "cell_type": "markdown",
   "id": "1f4322e7",
   "metadata": {},
   "source": [
    "### Exercise\n",
    "\n",
    "Create a new query base called `candidate_join_query_base` that combines the `WHERE` clauses from the previous query with the `JOIN` clauses for the best neighbour. Format the query base using the column names in `column_list`, and call the result `candidate_join_query`. \n",
    "Hint: Make sure you use qualified column names everywhere!\n",
    "Run your query and download the top 10 results. \n",
    "\n",
    "If they get an error:\n",
    "* compare with neighbor"
   ]
  },
  {
   "cell_type": "markdown",
   "id": "e25e676c",
   "metadata": {},
   "source": [
    "Modify to just join to panstarrs_best_neighbour - then they can try the second join if they finish but they wont be able to execute"
   ]
  },
  {
   "cell_type": "code",
   "execution_count": 69,
   "id": "a4ea5488",
   "metadata": {},
   "outputs": [
    {
     "name": "stdout",
     "output_type": "stream",
     "text": [
      "\n",
      "SELECT \n",
      "TOP 10\n",
      "gaia.source_id, gaia.ra, gaia.dec, gaia.pmra, gaia.pmdec, best.best_neighbour_multiplicity, best.number_of_mates\n",
      "FROM gaiadr2.gaia_source as gaia\n",
      "JOIN gaiadr2.panstarrs1_best_neighbour as best\n",
      "  ON gaia.source_id = best.source_id\n",
      "WHERE parallax < 1\n",
      "  AND bp_rp BETWEEN -0.75 AND 2 \n",
      "  AND 1 = CONTAINS(POINT('ICRS',gaia.ra, gaia.dec), \n",
      "                   POLYGON('ICRS',135.306, 8.39862, 126.51, 13.4449, 163.017, 54.2424, 172.933, 46.4726, 135.306, 8.39862))\n",
      "  AND gaia.pmra BETWEEN -6.7 AND -3\n",
      "  AND gaia.pmdec BETWEEN -14.31 AND -11.2\n",
      "\n"
     ]
    },
    {
     "data": {
      "text/html": [
       "<i>Table length=10</i>\n",
       "<table id=\"table5148621264\" class=\"table-striped table-bordered table-condensed\">\n",
       "<thead><tr><th>source_id</th><th>ra</th><th>dec</th><th>pmra</th><th>pmdec</th><th>best_neighbour_multiplicity</th><th>number_of_mates</th></tr></thead>\n",
       "<thead><tr><th></th><th>Angle[deg]</th><th>Angle[deg]</th><th>Angular Velocity[mas/year]</th><th>Angular Velocity[mas/year]</th><th></th><th></th></tr></thead>\n",
       "<thead><tr><th>int64</th><th>float64</th><th>float64</th><th>float64</th><th>float64</th><th>int16</th><th>int16</th></tr></thead>\n",
       "<tr><td>611742671689781632</td><td>132.600796856686</td><td>17.0438374756216</td><td>-3.60813154404558</td><td>-12.5215622443275</td><td>1</td><td>0</td></tr>\n",
       "<tr><td>611914332943501440</td><td>133.350418316253</td><td>17.9010044078136</td><td>-3.18265992560615</td><td>-13.9270503672298</td><td>1</td><td>0</td></tr>\n",
       "<tr><td>830805210880720256</td><td>160.101259531543</td><td>47.1911656113968</td><td>-6.34573244533553</td><td>-11.2051536083286</td><td>1</td><td>0</td></tr>\n",
       "<tr><td>833919405766622464</td><td>160.355095080684</td><td>48.1516690164193</td><td>-3.42818683438447</td><td>-12.723329627089</td><td>1</td><td>0</td></tr>\n",
       "<tr><td>833920883234980352</td><td>160.638894631466</td><td>48.2230281242917</td><td>-6.14357087957762</td><td>-13.9144253737475</td><td>1</td><td>0</td></tr>\n",
       "<tr><td>835494490533286272</td><td>160.540184681733</td><td>48.7708134341985</td><td>-6.18475490807837</td><td>-11.6021793819245</td><td>1</td><td>0</td></tr>\n",
       "<tr><td>802685308379402240</td><td>153.473512411446</td><td>39.4765363499766</td><td>-6.55887968599711</td><td>-11.8146512074032</td><td>1</td><td>0</td></tr>\n",
       "<tr><td>832138373025241216</td><td>161.455661201894</td><td>47.4751418299191</td><td>-5.2819664188335</td><td>-13.2182349876583</td><td>1</td><td>0</td></tr>\n",
       "<tr><td>804030384756618368</td><td>154.548847338096</td><td>40.0493049418463</td><td>-3.41525794183642</td><td>-13.0741091555984</td><td>1</td><td>0</td></tr>\n",
       "<tr><td>804458369657561984</td><td>156.249966221378</td><td>40.409840939904</td><td>-3.16907210954755</td><td>-14.2222204273372</td><td>1</td><td>0</td></tr>\n",
       "</table>"
      ],
      "text/plain": [
       "<Table length=10>\n",
       "    source_id             ra        ... number_of_mates\n",
       "                      Angle[deg]    ...                \n",
       "      int64            float64      ...      int16     \n",
       "------------------ ---------------- ... ---------------\n",
       "611742671689781632 132.600796856686 ...               0\n",
       "611914332943501440 133.350418316253 ...               0\n",
       "830805210880720256 160.101259531543 ...               0\n",
       "833919405766622464 160.355095080684 ...               0\n",
       "833920883234980352 160.638894631466 ...               0\n",
       "835494490533286272 160.540184681733 ...               0\n",
       "802685308379402240 153.473512411446 ...               0\n",
       "832138373025241216 161.455661201894 ...               0\n",
       "804030384756618368 154.548847338096 ...               0\n",
       "804458369657561984 156.249966221378 ...               0"
      ]
     },
     "execution_count": 69,
     "metadata": {},
     "output_type": "execute_result"
    }
   ],
   "source": [
    "candidate_join_query_base = \"\"\"\n",
    "SELECT \n",
    "TOP 10\n",
    "{columns}\n",
    "FROM gaiadr2.gaia_source as gaia\n",
    "JOIN gaiadr2.panstarrs1_best_neighbour as best\n",
    "  ON gaia.source_id = best.source_id\n",
    "WHERE parallax < 1\n",
    "  AND bp_rp BETWEEN -0.75 AND 2 \n",
    "  AND 1 = CONTAINS(POINT('ICRS',gaia.ra, gaia.dec), \n",
    "                   POLYGON('ICRS',{sky_point_list}))\n",
    "  AND gaia.pmra BETWEEN {pmra_min} AND {pmra_max}\n",
    "  AND gaia.pmdec BETWEEN {pmdec_min} AND {pmdec_max}\n",
    "\"\"\"\n",
    "\n",
    "column_list = ['gaia.source_id',\n",
    "               'gaia.ra',\n",
    "               'gaia.dec',\n",
    "               'gaia.pmra',\n",
    "               'gaia.pmdec',\n",
    "               'best.best_neighbour_multiplicity',\n",
    "               'best.number_of_mates']\n",
    "\n",
    "columns = ', '.join(column_list)\n",
    "\n",
    "candidate_join_query = candidate_join_query_base.format(columns=columns,\n",
    "                            sky_point_list= sky_point_list,\n",
    "                            pmra_min=pmra_min,\n",
    "                            pmra_max=pmra_max,\n",
    "                            pmdec_min=pmdec_min,\n",
    "                            pmdec_max=pmdec_max)\n",
    "print(candidate_join_query)\n",
    "\n",
    "\n",
    "candidate_join_job = tap_service.run_sync(candidate_join_query)\n",
    "candidate_table = candidate_join_job.to_table()\n",
    "candidate_table"
   ]
  },
  {
   "cell_type": "markdown",
   "id": "837b2b68-e88a-4854-bf4e-43416c59756a",
   "metadata": {},
   "source": [
    "`DALServiceError: 404 Client Error: Not Found for url: https://gaia.aip.de/tap/async/phase`  \n",
    "-or-  \n",
    "`DALFormatError: ConnectionError: ('Connection aborted.', RemoteDisconnected('Remote end closed connection without response'))`\n",
    "\n",
    "\n",
    "indicates that too many requests are overwhelming the server"
   ]
  },
  {
   "cell_type": "markdown",
   "id": "bf87717d",
   "metadata": {},
   "source": [
    "## Checking the match"
   ]
  },
  {
   "cell_type": "markdown",
   "id": "2a0ac7e8",
   "metadata": {},
   "source": [
    "best_neighbour_multiplicity: each star in Gaia how many stars in Pan-STARRS are equally likely matches"
   ]
  },
  {
   "cell_type": "code",
   "execution_count": 70,
   "id": "82e0d434",
   "metadata": {},
   "outputs": [
    {
     "data": {
      "text/html": [
       "&lt;MaskedColumn name=&apos;best_neighbour_multiplicity&apos; dtype=&apos;int16&apos; length=10&gt;\n",
       "<table>\n",
       "<tr><td>1</td></tr>\n",
       "<tr><td>1</td></tr>\n",
       "<tr><td>1</td></tr>\n",
       "<tr><td>1</td></tr>\n",
       "<tr><td>1</td></tr>\n",
       "<tr><td>1</td></tr>\n",
       "<tr><td>1</td></tr>\n",
       "<tr><td>1</td></tr>\n",
       "<tr><td>1</td></tr>\n",
       "<tr><td>1</td></tr>\n",
       "</table>"
      ],
      "text/plain": [
       "<MaskedColumn name='best_neighbour_multiplicity' dtype='int16' length=10>\n",
       "1\n",
       "1\n",
       "1\n",
       "1\n",
       "1\n",
       "1\n",
       "1\n",
       "1\n",
       "1\n",
       "1"
      ]
     },
     "execution_count": 70,
     "metadata": {},
     "output_type": "execute_result"
    }
   ],
   "source": [
    "candidate_table['best_neighbour_multiplicity']"
   ]
  },
  {
   "cell_type": "code",
   "execution_count": 56,
   "id": "29637df8",
   "metadata": {},
   "outputs": [
    {
     "data": {
      "text/plain": [
       "count    10.0\n",
       "mean      1.0\n",
       "std       0.0\n",
       "min       1.0\n",
       "25%       1.0\n",
       "50%       1.0\n",
       "75%       1.0\n",
       "max       1.0\n",
       "dtype: float64"
      ]
     },
     "execution_count": 56,
     "metadata": {},
     "output_type": "execute_result"
    }
   ],
   "source": [
    "multiplicity = pd.Series(candidate_table['best_neighbour_multiplicity'])\n",
    "multiplicity.describe()"
   ]
  },
  {
   "cell_type": "markdown",
   "id": "cbd6cb54",
   "metadata": {},
   "source": [
    "number_of_mates: number of other stars in Gaia that match with the same star in Pan-STARRS."
   ]
  },
  {
   "cell_type": "code",
   "execution_count": 57,
   "id": "a3a286a6",
   "metadata": {},
   "outputs": [
    {
     "data": {
      "text/plain": [
       "count    10.0\n",
       "mean      0.0\n",
       "std       0.0\n",
       "min       0.0\n",
       "25%       0.0\n",
       "50%       0.0\n",
       "75%       0.0\n",
       "max       0.0\n",
       "dtype: float64"
      ]
     },
     "execution_count": 57,
     "metadata": {},
     "output_type": "execute_result"
    }
   ],
   "source": [
    "mates = pd.Series(candidate_table['number_of_mates'])\n",
    "mates.describe()"
   ]
  },
  {
   "cell_type": "markdown",
   "id": "d5e98441",
   "metadata": {},
   "source": [
    "### Together we'll build the PanSTARRs query"
   ]
  },
  {
   "cell_type": "code",
   "execution_count": 60,
   "id": "b317eca3-e124-4457-904a-e807a9fd0ff8",
   "metadata": {},
   "outputs": [
    {
     "name": "stdout",
     "output_type": "stream",
     "text": [
      "\n",
      "SELECT \n",
      "TOP 10\n",
      "gaia.source_id, gaia.ra, gaia.dec, gaia.pmra, gaia.pmdec, best.best_neighbour_multiplicity, best.number_of_mates, ps.g_mean_psf_mag, ps.i_mean_psf_mag\n",
      "FROM gaiadr2.gaia_source as gaia\n",
      "JOIN gaiadr2.panstarrs1_best_neighbour as best\n",
      "  ON gaia.source_id = best.source_id\n",
      "JOIN gaiadr2.panstarrs1_original_valid as ps\n",
      "  ON best.original_ext_source_id = ps.obj_id\n",
      "WHERE parallax < 1\n",
      "  AND bp_rp BETWEEN -0.75 AND 2 \n",
      "  AND 1 = CONTAINS(POINT('ICRS',gaia.ra, gaia.dec), \n",
      "                   POLYGON('ICRS',135.306, 8.39862, 126.51, 13.4449, 163.017, 54.2424, 172.933, 46.4726, 135.306, 8.39862))\n",
      "  AND gaia.pmra BETWEEN -6.7 AND -3\n",
      "  AND gaia.pmdec BETWEEN -14.31 AND -11.2\n",
      "\n"
     ]
    }
   ],
   "source": [
    "join_solution_query_base = \"\"\"\n",
    "SELECT \n",
    "TOP 10\n",
    "{columns}\n",
    "FROM gaiadr2.gaia_source as gaia\n",
    "JOIN gaiadr2.panstarrs1_best_neighbour as best\n",
    "  ON gaia.source_id = best.source_id\n",
    "JOIN gaiadr2.panstarrs1_original_valid as ps\n",
    "  ON best.original_ext_source_id = ps.obj_id\n",
    "WHERE parallax < 1\n",
    "  AND bp_rp BETWEEN -0.75 AND 2 \n",
    "  AND 1 = CONTAINS(POINT('ICRS',gaia.ra, gaia.dec), \n",
    "                   POLYGON('ICRS',{sky_point_list}))\n",
    "  AND gaia.pmra BETWEEN {pmra_min} AND {pmra_max}\n",
    "  AND gaia.pmdec BETWEEN {pmdec_min} AND {pmdec_max}\n",
    "\"\"\"\n",
    "\n",
    "column_list = ['gaia.source_id',\n",
    "               'gaia.ra',\n",
    "               'gaia.dec',\n",
    "               'gaia.pmra',\n",
    "               'gaia.pmdec',\n",
    "               'best.best_neighbour_multiplicity',\n",
    "               'best.number_of_mates',\n",
    "               'ps.g_mean_psf_mag',\n",
    "               'ps.i_mean_psf_mag']\n",
    "\n",
    "columns = ', '.join(column_list)\n",
    "\n",
    "join_solution_query = join_solution_query_base.format(columns=columns,\n",
    "                                                      sky_point_list=sky_point_list,\n",
    "                                                      pmra_min=pmra_min,\n",
    "                                                      pmra_max=pmra_max,\n",
    "                                                      pmdec_min=pmdec_min,\n",
    "                                                      pmdec_max=pmdec_max)\n",
    "print(join_solution_query)"
   ]
  },
  {
   "cell_type": "markdown",
   "id": "750ceb2a",
   "metadata": {},
   "source": [
    "# Saving our results"
   ]
  },
  {
   "cell_type": "code",
   "execution_count": 238,
   "id": "87f38414",
   "metadata": {},
   "outputs": [],
   "source": [
    "candidate_table = rename_units(candidate_table)"
   ]
  },
  {
   "cell_type": "code",
   "execution_count": 239,
   "id": "5f4ec578",
   "metadata": {},
   "outputs": [],
   "source": [
    "candidate_df = make_dataframe(candidate_table)"
   ]
  },
  {
   "cell_type": "code",
   "execution_count": 241,
   "id": "5a81123c",
   "metadata": {},
   "outputs": [],
   "source": [
    "filename = 'gd1_data.hdf'\n",
    "\n",
    "candidate_df.to_hdf(filename, 'candidate_df')"
   ]
  },
  {
   "cell_type": "code",
   "execution_count": 242,
   "id": "20f7e086",
   "metadata": {},
   "outputs": [
    {
     "data": {
      "text/plain": [
       "15.332862854003906"
      ]
     },
     "execution_count": 242,
     "metadata": {},
     "output_type": "execute_result"
    }
   ],
   "source": [
    "from os.path import getsize\n",
    "\n",
    "MB = 1024 * 1024\n",
    "getsize(filename) / MB"
   ]
  },
  {
   "cell_type": "markdown",
   "id": "12676973",
   "metadata": {},
   "source": [
    "## Another file format - CSV"
   ]
  },
  {
   "cell_type": "code",
   "execution_count": 243,
   "id": "8aaa894a",
   "metadata": {},
   "outputs": [],
   "source": [
    "candidate_df.to_csv('gd1_data.csv')"
   ]
  },
  {
   "cell_type": "code",
   "execution_count": 244,
   "id": "3cb6d4f2",
   "metadata": {},
   "outputs": [
    {
     "data": {
      "text/plain": [
       "0.6899471282958984"
      ]
     },
     "execution_count": 244,
     "metadata": {},
     "output_type": "execute_result"
    }
   ],
   "source": [
    "getsize('gd1_data.csv') / MB"
   ]
  },
  {
   "cell_type": "code",
   "execution_count": 246,
   "id": "a1093637",
   "metadata": {},
   "outputs": [],
   "source": [
    "read_back_csv = pd.read_csv('gd1_data.csv')"
   ]
  },
  {
   "cell_type": "code",
   "execution_count": 247,
   "id": "36df5975",
   "metadata": {},
   "outputs": [
    {
     "data": {
      "text/html": [
       "<div>\n",
       "<style scoped>\n",
       "    .dataframe tbody tr th:only-of-type {\n",
       "        vertical-align: middle;\n",
       "    }\n",
       "\n",
       "    .dataframe tbody tr th {\n",
       "        vertical-align: top;\n",
       "    }\n",
       "\n",
       "    .dataframe thead th {\n",
       "        text-align: right;\n",
       "    }\n",
       "</style>\n",
       "<table border=\"1\" class=\"dataframe\">\n",
       "  <thead>\n",
       "    <tr style=\"text-align: right;\">\n",
       "      <th></th>\n",
       "      <th>source_id</th>\n",
       "      <th>ra</th>\n",
       "      <th>dec</th>\n",
       "      <th>pmra</th>\n",
       "      <th>pmdec</th>\n",
       "      <th>best_neighbour_multiplicity</th>\n",
       "      <th>number_of_mates</th>\n",
       "      <th>phi1</th>\n",
       "      <th>phi2</th>\n",
       "      <th>pm_phi1</th>\n",
       "      <th>pm_phi2</th>\n",
       "    </tr>\n",
       "  </thead>\n",
       "  <tbody>\n",
       "    <tr>\n",
       "      <th>0</th>\n",
       "      <td>684751240206357376</td>\n",
       "      <td>136.075535</td>\n",
       "      <td>20.858642</td>\n",
       "      <td>-6.254147</td>\n",
       "      <td>-13.553910</td>\n",
       "      <td>1</td>\n",
       "      <td>0</td>\n",
       "      <td>-58.970869</td>\n",
       "      <td>0.867534</td>\n",
       "      <td>-9.572464</td>\n",
       "      <td>1.166999</td>\n",
       "    </tr>\n",
       "    <tr>\n",
       "      <th>1</th>\n",
       "      <td>684614969484217472</td>\n",
       "      <td>135.280168</td>\n",
       "      <td>20.306665</td>\n",
       "      <td>-4.028998</td>\n",
       "      <td>-11.219810</td>\n",
       "      <td>1</td>\n",
       "      <td>0</td>\n",
       "      <td>-59.830924</td>\n",
       "      <td>1.213432</td>\n",
       "      <td>-6.466323</td>\n",
       "      <td>0.568633</td>\n",
       "    </tr>\n",
       "    <tr>\n",
       "      <th>2</th>\n",
       "      <td>684655586991056512</td>\n",
       "      <td>135.152384</td>\n",
       "      <td>20.248504</td>\n",
       "      <td>-3.502042</td>\n",
       "      <td>-11.585201</td>\n",
       "      <td>1</td>\n",
       "      <td>0</td>\n",
       "      <td>-59.943027</td>\n",
       "      <td>1.285468</td>\n",
       "      <td>-6.510768</td>\n",
       "      <td>-0.059642</td>\n",
       "    </tr>\n",
       "  </tbody>\n",
       "</table>\n",
       "</div>"
      ],
      "text/plain": [
       "            source_id          ra        dec      pmra      pmdec  \\\n",
       "0  684751240206357376  136.075535  20.858642 -6.254147 -13.553910   \n",
       "1  684614969484217472  135.280168  20.306665 -4.028998 -11.219810   \n",
       "2  684655586991056512  135.152384  20.248504 -3.502042 -11.585201   \n",
       "\n",
       "   best_neighbour_multiplicity  number_of_mates       phi1      phi2  \\\n",
       "0                            1                0 -58.970869  0.867534   \n",
       "1                            1                0 -59.830924  1.213432   \n",
       "2                            1                0 -59.943027  1.285468   \n",
       "\n",
       "    pm_phi1   pm_phi2  \n",
       "0 -9.572464  1.166999  \n",
       "1 -6.466323  0.568633  \n",
       "2 -6.510768 -0.059642  "
      ]
     },
     "execution_count": 247,
     "metadata": {},
     "output_type": "execute_result"
    }
   ],
   "source": [
    "candidate_df.head(3)"
   ]
  },
  {
   "cell_type": "code",
   "execution_count": 248,
   "id": "ee96bae0",
   "metadata": {},
   "outputs": [
    {
     "data": {
      "text/html": [
       "<div>\n",
       "<style scoped>\n",
       "    .dataframe tbody tr th:only-of-type {\n",
       "        vertical-align: middle;\n",
       "    }\n",
       "\n",
       "    .dataframe tbody tr th {\n",
       "        vertical-align: top;\n",
       "    }\n",
       "\n",
       "    .dataframe thead th {\n",
       "        text-align: right;\n",
       "    }\n",
       "</style>\n",
       "<table border=\"1\" class=\"dataframe\">\n",
       "  <thead>\n",
       "    <tr style=\"text-align: right;\">\n",
       "      <th></th>\n",
       "      <th>Unnamed: 0</th>\n",
       "      <th>source_id</th>\n",
       "      <th>ra</th>\n",
       "      <th>dec</th>\n",
       "      <th>pmra</th>\n",
       "      <th>pmdec</th>\n",
       "      <th>best_neighbour_multiplicity</th>\n",
       "      <th>number_of_mates</th>\n",
       "      <th>phi1</th>\n",
       "      <th>phi2</th>\n",
       "      <th>pm_phi1</th>\n",
       "      <th>pm_phi2</th>\n",
       "    </tr>\n",
       "  </thead>\n",
       "  <tbody>\n",
       "    <tr>\n",
       "      <th>0</th>\n",
       "      <td>0</td>\n",
       "      <td>684751240206357376</td>\n",
       "      <td>136.075535</td>\n",
       "      <td>20.858642</td>\n",
       "      <td>-6.254147</td>\n",
       "      <td>-13.553910</td>\n",
       "      <td>1</td>\n",
       "      <td>0</td>\n",
       "      <td>-58.970869</td>\n",
       "      <td>0.867534</td>\n",
       "      <td>-9.572464</td>\n",
       "      <td>1.166999</td>\n",
       "    </tr>\n",
       "    <tr>\n",
       "      <th>1</th>\n",
       "      <td>1</td>\n",
       "      <td>684614969484217472</td>\n",
       "      <td>135.280168</td>\n",
       "      <td>20.306665</td>\n",
       "      <td>-4.028998</td>\n",
       "      <td>-11.219810</td>\n",
       "      <td>1</td>\n",
       "      <td>0</td>\n",
       "      <td>-59.830924</td>\n",
       "      <td>1.213432</td>\n",
       "      <td>-6.466323</td>\n",
       "      <td>0.568633</td>\n",
       "    </tr>\n",
       "    <tr>\n",
       "      <th>2</th>\n",
       "      <td>2</td>\n",
       "      <td>684655586991056512</td>\n",
       "      <td>135.152384</td>\n",
       "      <td>20.248504</td>\n",
       "      <td>-3.502042</td>\n",
       "      <td>-11.585201</td>\n",
       "      <td>1</td>\n",
       "      <td>0</td>\n",
       "      <td>-59.943027</td>\n",
       "      <td>1.285468</td>\n",
       "      <td>-6.510768</td>\n",
       "      <td>-0.059642</td>\n",
       "    </tr>\n",
       "  </tbody>\n",
       "</table>\n",
       "</div>"
      ],
      "text/plain": [
       "   Unnamed: 0           source_id          ra        dec      pmra      pmdec  \\\n",
       "0           0  684751240206357376  136.075535  20.858642 -6.254147 -13.553910   \n",
       "1           1  684614969484217472  135.280168  20.306665 -4.028998 -11.219810   \n",
       "2           2  684655586991056512  135.152384  20.248504 -3.502042 -11.585201   \n",
       "\n",
       "   best_neighbour_multiplicity  number_of_mates       phi1      phi2  \\\n",
       "0                            1                0 -58.970869  0.867534   \n",
       "1                            1                0 -59.830924  1.213432   \n",
       "2                            1                0 -59.943027  1.285468   \n",
       "\n",
       "    pm_phi1   pm_phi2  \n",
       "0 -9.572464  1.166999  \n",
       "1 -6.466323  0.568633  \n",
       "2 -6.510768 -0.059642  "
      ]
     },
     "execution_count": 248,
     "metadata": {},
     "output_type": "execute_result"
    }
   ],
   "source": [
    "read_back_csv.head(3)"
   ]
  },
  {
   "cell_type": "code",
   "execution_count": null,
   "id": "32a2948c-bcf7-4b69-b7f6-effe680ac976",
   "metadata": {},
   "outputs": [],
   "source": []
  }
 ],
 "metadata": {
  "kernelspec": {
   "display_name": "AstronomicalData2",
   "language": "python",
   "name": "astronomicaldata2"
  },
  "language_info": {
   "codemirror_mode": {
    "name": "ipython",
    "version": 3
   },
   "file_extension": ".py",
   "mimetype": "text/x-python",
   "name": "python",
   "nbconvert_exporter": "python",
   "pygments_lexer": "ipython3",
   "version": "3.9.6"
  }
 },
 "nbformat": 4,
 "nbformat_minor": 5
}
